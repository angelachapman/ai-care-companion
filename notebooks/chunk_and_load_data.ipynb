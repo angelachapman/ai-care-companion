{
 "cells": [
  {
   "cell_type": "markdown",
   "metadata": {},
   "source": [
    "Import environment variables"
   ]
  },
  {
   "cell_type": "code",
   "execution_count": 2,
   "metadata": {},
   "outputs": [],
   "source": [
    "from dotenv import load_dotenv\n",
    "import os\n",
    "\n",
    "load_dotenv('.env')\n",
    "\n",
    "OPENAI_API_KEY = os.getenv(\"OPENAI_API_KEY\")\n",
    "ANTHROPIC_API_KEY = os.getenv(\"ANTHROPIC_API_KEY\")"
   ]
  },
  {
   "cell_type": "markdown",
   "metadata": {},
   "source": [
    "Load our document corpus from a file. (fetch_data.ipynb can be used to generate the file)"
   ]
  },
  {
   "cell_type": "code",
   "execution_count": 3,
   "metadata": {},
   "outputs": [
    {
     "name": "stdout",
     "output_type": "stream",
     "text": [
      "loaded 438 docs\n"
     ]
    }
   ],
   "source": [
    "myfile = \"source_documents.json\"\n",
    "\n",
    "import json\n",
    "from langchain.schema import Document\n",
    "\n",
    "# Load JSON data\n",
    "with open(myfile, 'r') as file:\n",
    "    data = json.load(file)\n",
    "\n",
    "# Convert JSON data into a list of LangChain Document objects\n",
    "docs = [\n",
    "    Document(page_content=item[\"page_content\"], metadata=item[\"metadata\"])\n",
    "    for item in data\n",
    "]\n",
    "\n",
    "print(f\"loaded {len(docs)} docs\")"
   ]
  },
  {
   "cell_type": "markdown",
   "metadata": {},
   "source": [
    "Split the documents into reasonably sized chunks that work for most embedding models"
   ]
  },
  {
   "cell_type": "code",
   "execution_count": 127,
   "metadata": {},
   "outputs": [
    {
     "name": "stdout",
     "output_type": "stream",
     "text": [
      "webmd docs: 242, videos,forms and slideshows: 0\n",
      "len(docs): 438, len(split_docs):2561\n",
      "page_content='alzheimer's disease and dementia | alzheimer's disease and dementia | cdc     alzheimer's disease and dementia alzheimer's basics learn about signs and symptoms of alzheimer's disease and who is affected. aug. 15, 2024 dementia basics learn about common types of dementia, signs and symptoms, and risk factors. aug. 17, 2024 signs and symptoms of alzheimer's learn how to recognize the early signs of alzheimer's disease. signs and symptoms of dementia learn what early signs and symptoms of dementia to look out for. tools and resources find a variety of resources about alzheimer’s disease and healthy aging. reducing risk learn what lifestyle behaviors can reduce the risk of developing dementia. additional topics healthy aging at any age information to help you stay healthy and strong throughout your life. sept. 3, 2024 alzheimer's disease program evidence-based, scientific information to educate, inform, and assist translating research into publ... july 2, 2024 caregiving find information about caregiving, self-care, and care plan creation. sept. 3, 2024 healthy aging data national and state level cdc data for older adults on a range of health and well-being key indicators. aug. 27, 2024 alzheimer's disease and dementia dementia is not a specific disease. it is a general term for having trouble remembering, thinking, or making decisions that affect everyday activities. view all for everyone dementia basics signs and symptoms of dementia reducing risk campaign public health public' metadata={'url': 'https://www.cdc.gov/alzheimers-dementia', 'title': \"Alzheimer's Disease and Dementia | Alzheimer's Disease and Dementia | CDC\", 'chunk_id': 0}\n"
     ]
    }
   ],
   "source": [
    "from langchain.text_splitter import RecursiveCharacterTextSplitter\n",
    "text_splitter = RecursiveCharacterTextSplitter(\n",
    "    chunk_size=1500,       \n",
    "    chunk_overlap=150,     \n",
    ")\n",
    "\n",
    "n_webmd_docs = 0 \n",
    "split_docs = []\n",
    "\n",
    "for doc in docs:\n",
    "    if \"webmd\" in doc.metadata[\"url\"]:\n",
    "        n_webmd_docs += 1\n",
    "\n",
    "    splits = text_splitter.split_text(doc.page_content)\n",
    "    for i,split in enumerate(splits):\n",
    "        metadata_with_chunk = {**doc.metadata, \"chunk_id\": i}\n",
    "            \n",
    "        # Create the document with the updated metadata\n",
    "        split_doc = Document(page_content=split, metadata=metadata_with_chunk)\n",
    "        split_docs.append(split_doc)\n",
    "\n",
    "print(f\"webmd docs: {n_webmd_docs}\")\n",
    "print(f\"len(docs): {len(docs)}, len(split_docs):{len(split_docs)}\")\n",
    "print(split_docs[0])"
   ]
  },
  {
   "cell_type": "markdown",
   "metadata": {},
   "source": [
    "Set up embeddings - we'll use OpenAI's text-embedding-3-large"
   ]
  },
  {
   "cell_type": "code",
   "execution_count": 6,
   "metadata": {},
   "outputs": [],
   "source": [
    "from langchain_openai import OpenAIEmbeddings\n",
    "embedding_model = \"text-embedding-3-large\"\n",
    "openai_embeddings = OpenAIEmbeddings(\n",
    "    model=embedding_model,\n",
    "    openai_api_key=OPENAI_API_KEY  \n",
    ")\n"
   ]
  },
  {
   "cell_type": "markdown",
   "metadata": {},
   "source": [
    "Let's add the docs to a vector store. Make sure qdrant is running first (see README.md for more details). We can create it once and re-use it after that."
   ]
  },
  {
   "cell_type": "code",
   "execution_count": 150,
   "metadata": {},
   "outputs": [],
   "source": [
    "from langchain_qdrant import QdrantVectorStore\n",
    "from qdrant_client import QdrantClient\n",
    "\n",
    "url=\"http://localhost:6333\"\n",
    "collection_name = \"AlzheimersCare\"\n",
    "\n",
    "client = QdrantClient(url=url, prefer_grpc=True)\n",
    "client.delete_collection(collection_name)\n",
    "\n",
    "qdrant_vector_store = QdrantVectorStore.from_documents(\n",
    "    split_docs,\n",
    "    openai_embeddings,\n",
    "    url=url,\n",
    "    prefer_grpc=True,\n",
    "    collection_name=collection_name,\n",
    ")"
   ]
  },
  {
   "cell_type": "markdown",
   "metadata": {},
   "source": [
    "Make sure we can load the vectorstore too"
   ]
  },
  {
   "cell_type": "code",
   "execution_count": 8,
   "metadata": {},
   "outputs": [],
   "source": [
    "# make sure we can load it\n",
    "from langchain_qdrant import QdrantVectorStore\n",
    "collection_name = \"AlzheimersCare\"\n",
    "url=\"http://localhost:6333\"\n",
    "\n",
    "\n",
    "store = QdrantVectorStore.from_existing_collection(\n",
    "    embedding=openai_embeddings,\n",
    "    collection_name=collection_name,\n",
    "    url=url\n",
    ")"
   ]
  },
  {
   "cell_type": "markdown",
   "metadata": {},
   "source": [
    "Test it out by itself"
   ]
  },
  {
   "cell_type": "code",
   "execution_count": 9,
   "metadata": {},
   "outputs": [
    {
     "name": "stdout",
     "output_type": "stream",
     "text": [
      "page_content='strain may develop from the amount of time your loved one needs, as that can impact your ability to work and earn a living. things like lost wages, or loss of social security or pension benefits, can leave caregivers struggling to make ends meet. your risk for mental health issues also goes up. research shows that alzheimer’s caregivers are more likely than other caregivers to have depression, anxiety, and a poorer quality of life. among the physical health problems you’re at greater risk of having are high blood pressure, high blood sugar, weight gain or loss, and sleep disorders. some research suggests you’re also at greater risk for developing cognitive decline and alzheimer’s yourself. caregivers at most risk for reaching stress levels that impact their well-being are: caring for a person with alzheimer’s for many hours each day living with the person for whom they’re the caregiver women older socially isolated having financial problems clinically depressed at a low education level not equipped with coping skills without many options such as help from their family or friends self-care is key while you’re at increased risk for health-related problems as an alzheimer’s caregiver, there are some things you can do to help prevent them and boost your well-being. those include following a healthy diet, getting daily exercise, practicing gratitude, getting enough sleep, and staying connected to others. experts say it’s also important to set limits on what you can do, take' metadata={'chunk_id': 2, 'url': 'https://www.webmd.com/alzheimers/signficant-other-has-alzheimers', 'title': 'When Your Partner Has Alzheimer’s ', '_id': '6464de16-ee63-46eb-89d9-399b40ac6fae', '_collection_name': 'AlzheimersCare'}\n",
      "page_content='will increase. as the disease progresses, your loved one will need more and more help. “in the early stages of the disease, caregivers spend about 14 hours a week on average caring for the person,” says guy s. eakin, phd, from the alzheimer's disease research program at the american health assistance foundation. “in the advanced stages, it’s literally a fulltime job -- 40 hours a week.” caregiving will affect your job. according to beth kallmyer, msw, of the alzheimer's association, about 50% of caregivers continue to work full or part-time. two-thirds of them say that their caregiving had a significant impact on their career. being an alzheimer’s caregiver will affect your family. you may hope to shield your kids from your loved one’s disease and the responsibilities of caregiving. but in the long-run, you can’t. that doesn’t have to be a bad thing. there may be ways to get your children involved that will not only give you, the caregiver, support, but will benefit your loved one and the kids themselves. caregiving will affect your finances. “estimates for the average financial impact on a family for caregiving ranges from $16,000 to $70,000 a year,” eakin tells webmd. the range depends on whether the estimate includes the indirect costs, he says, like a caregiver going on leave from a job without pay. you can’t be an alzheimer’s caregiver alone. taking care of someone with alzheimer’s is too much for one person, especially if you’re raising kids too. you’ll need caregiver' metadata={'title': \"Caring for Parents with Alzheimer's or Dementia\", 'url': 'https://www.webmd.com/alzheimers/features/alzheimers-caregivers-sandwiched-between-parenting-your-kids-and-your-parents', 'chunk_id': 2, '_id': '4841ad7b-732f-40fe-8542-12e8bc116fc7', '_collection_name': 'AlzheimersCare'}\n",
      "page_content='and anxious. depression is not uncommon. different caregivers have different threshholds for tolerating these challenges. for many caregivers, just \"venting\" or talking about the frustrations of caregiving can be very helpful. others need more help, but may feel uneasy about asking for it. one thing is certain, though: if the caregiver is given no relief, he or she can burn out, develop his or her own mental and physical problems, and become unable to continue as a caregiver. this is why support groups were invented. support groups are groups of people who have lived through the same difficult experiences and want to help themselves and others by sharing coping strategies. mental health professionals strongly recommend taking part in support groups for families affected by serious disease. support groups serve a number of different purposes for a person living with the extreme stress of being a caregiver for a person with a motor neuron disease and dementia: the group allows the person to express his or her true feelings in an accepting, non-judgmental atmosphere. the group's shared experiences allow the caregiver to feel less alone and isolated. the group can offer fresh ideas for coping with specific problems. the group can introduce the caregiver to resources that may be able to provide some relief. the group can give the caregiver the strength he or she needs to ask for help. support groups meet in person, on the telephone, or on the internet. to find a support group' metadata={'title': 'Dementia in Amyotrophic Lateral Sclerosis (Lou Gehrig Disease)', 'url': 'https://www.webmd.com/alzheimers/dementia-amyotrophic-lateral-sclerosis', 'chunk_id': 9, '_id': '0546ad76-d745-486c-bf6d-b5528be0f94f', '_collection_name': 'AlzheimersCare'}\n",
      "page_content='alzheimer's are eligible after they get ssdi for at least 24 months. it also provides some short-term home health care in some cases. take care of yourself your help is really important to your loved one's quality of life. but it's a lot to take on. you'll probably feel anxious, depressed , and even angry sometimes. a person with dementia often needs long hours of care and a lot of monitoring, which can make you feel exhausted and overwhelmed. it's ok to feel this way. many caregivers do. don't forget to take care of yourself. here are some tips to relieve your stress: be realistic. accept that you can't do it all alone and that it's ok to ask for help or say yes when someone offers. it's also fine to say no. don't quit your job until your loved one has a definitive diagnosis and you've fully explored any employee benefits. this helps keep income flowing and relieves stress about lack of funds, at least temporarily. talk to your boss about flex options, like telecommuting. stay informed. learn all you can about early-onset dementia and how it can affect your family's life. you'll be better prepared for future changes. talk to others. get support from family and close friends. don't keep your feelings bottled up inside. sharing your emotions and journey can be helpful. caregiver support groups are available and may be a safe place for you to discuss your feelings and unwind. walk it off. exercise is a great stress reliever. it will help you sleep better, think better, and' metadata={'title': \"Early-Onset Dementia: A Caregiver's Guide\", 'url': 'https://www.webmd.com/alzheimers/caregiver-early-onset-dementia', 'chunk_id': 5, '_id': 'd59098ab-6726-4f3c-9e8f-a6675eeafece', '_collection_name': 'AlzheimersCare'}\n",
      "page_content='support groups for caregivers or a counselor can help, too. if your loved one is unhappy or angry unless their dementia is advanced, your loved one is probably going to have something to say about moving into a new care setting. sometimes, family caregivers are surprised at how well they take to the new setting. but other times, especially in early or mid-stage dementia, they may blame you and regularly ask to be taken home. remind yourself why you made the decision and why it was the right one, and give them lots of love and attention to help them adjust to the new living situation. concerns about day-to-day care the most common concern of family caregivers is that their loved one isn’t getting good care. this can be hard to adjust to, because while family caregivers typically care for one person, nursing assistants are usually assigned to eight or more people at a time. and while many have experience and are sensitive to the needs of the people in their care, some have little training. the best way to deal with any concerns about care is to talk to the staff member involved in a calm way. most of the time, the issue can be solved this way. if not, talk to the administrator or nursing director. it’s also a good idea to build good relationships with the care providers. remember that staff members work hard, have schedules and other pressures, and want to be treated with consideration and respect. visit the facility often, and share what you know. tell them what’s being done' metadata={'url': 'https://www.webmd.com/alzheimers/alzheimers-nursing-assisted', 'chunk_id': 1, 'title': 'Alzheimer’s: When It’s Time for a Nursing Home or Assisted Living ', '_id': '1b35584c-77ae-4391-a813-9aecbf6f6487', '_collection_name': 'AlzheimersCare'}\n",
      "page_content='nutrition and adds ensure to her cereal to boost the vitamin count. she recently asked the doctor what comes next, and they talked about difficulty swallowing. she dreads the day her mom stops eating completely. “if i get two meals in her, and pants on her, it’s a good day,” hayes bock says. “we decided it was laugh or scream. you have to laugh or you’ll lose your mind.” caregivers all over the world could tell the same stories. “with dementia, grief and loss begins before death and doesn’t stop afterwards,” says karen moss, phd, an assistant professor at ohio state university’s colleges of nursing and medicine, and a nurse-scientist who studies people living with dementia and their family caregivers. moss’s work focuses on the anxiety and stress of caregiving, pain, and the end of life of older adults who have dementia. moss specifically focuses on black adults with dementia and their family caregivers. dementia and alzheimer’s are extremely difficult conditions for the person going through the disease, especially early on as they struggle to figure out what’s wrong, says moss. and family caregivers struggle too. for starters, caregivers have to cope with changes brought on by normal physical aging – like decreased mobility and worsening vision – as well as the anguish of watching the person they love slowly disappear. as they fade, caregivers are left with heavy decisions to make – alone. if, say, a loved one falls, caregivers need to know whether to call the doctor or' metadata={'chunk_id': 4, 'title': 'Alone Together: Caregivers and Loved Ones Struggle With Alzheimer’s', 'url': 'https://www.webmd.com/alzheimers/features/alzheimers-caregivers', '_id': 'dddfe55c-6aee-4a4f-836f-c2cacf34693c', '_collection_name': 'AlzheimersCare'}\n",
      "page_content='negatively toward caregiving vs. feeling negatively toward the person you're doing the caregiving for,\" jacobs says. \"i'm allowed to hate the act but still feel ok about the commitment i made.\" and try to remember that you're being a huge help -- but that help should be balanced. you’ll feel much better if you also pay attention to your family, social life, and other activities. internist cathy alessi, md, president of the american geriatrics society, says when caregivers come in with her patients, she lets them know what an impact they've had. \"i make sure to tell them what a difference i've seen since they've been helping the person they've been caring for,\" she says. \"the situation doesn't have to be perfect, and it's probably much better with their help and assistance.\" she suggests finding caregiver support groups, online information, or therapists. \"caregivers tell me it's helpful to talk with someone else who is going through a similar experience. it's helpful to get tips, and the group can come up with ideas you may not think of yourself.\" recommended top doctors in , find more top doctors on search related links alzheimer's disease home alzheimer's disease news alzheimer's disease reference alzheimer's disease slideshows alzheimer's disease quizzes alzheimer's disease videos alzheimer's overview alzheimer's symptoms alzheimer's causes alzheimer's diagnosis alzheimer's treatment alzheimer's complications alzheimer's prevention find a neurologist alzheimer's disease' metadata={'url': 'https://www.webmd.com/alzheimers/features/overcoming-guilt', 'chunk_id': 2, 'title': 'Caregiver Guilt: How to Overcome It and Build a Network to Help', '_id': '1e663340-eea6-4103-b609-1bcd95986b01', '_collection_name': 'AlzheimersCare'}\n",
      "page_content='that it’s the disease, not the person. your loved one’s behavior is sure to frustrate, enrage, and hurt you sometimes. that’s natural. but try not to blame them for the changes the disease has caused in them. avoid caregiver burnout: take care of yourself although it’s often the last thing on a caregiver’s mind, it’s important to focus on yourself, too. remember that your physical and mental health are crucial to the well-being of both yourself and your loved one. if you push yourself too hard and burn out or get sick, who will take care of your loved one? here are some tips: get assistance. if you’re new at caregiving, don’t wait until you’re overwhelmed to ask for help. talk to relatives, friends, and neighbors to see what they can offer. find out what’s available from local resources, including your doctor and geriatric clinics in your area. remember: you can’t do this on your own. get support. you don’t only need support for your loved one with cognitive problems – you need it for yourself. so lean on your family and friends. consider joining a local support group for caregivers. if you’re overwhelmed, call a hotline or consider scheduling an appointment with a therapist. take breaks. pace yourself. try to take small breaks – even just a few minutes to yourself – every day. then build longer periods of time away each week. just going out with a friend for a walk or a bite to eat could give your mood a big boost. forgive yourself. no matter how good and compassionate a' metadata={'chunk_id': 4, 'url': 'https://www.webmd.com/alzheimers/cognitive-problems-caregivers-guide', 'title': 'Cognitive Problems and Brain Disorders: Caregiving 101', '_id': 'de187343-403e-4101-8a1f-20f07b9feef8', '_collection_name': 'AlzheimersCare'}\n",
      "page_content='alzheimer's caregiver stress: easing the burden and finding support dementia and alzheimer's alzheimer's disease & other dementias guide overview dementia alzheimer's disease other dementias diagnosis & stages causes & risks overview race as a risk factor treatment drug treatment complementary & alternative treatment research and potential treatments symptom management living with daily life diet & exercise safety issues complications & related conditions when alzheimer's affects more than memory physical problems sleep problems behavioral & cognitive problems gastrointestinal problems psychosis caregiving caregiving essentials caregiver stress & self-care legal & financial matters support & resources groups & organizations care facilities view full guide medically reviewed by christopher melinosky, md on june 06, 2021 written by webmd editorial contributors 3 min read caring for someone with alzheimer’s disease is a balancing act. you keep your loved one safe and comfortable, keep track of their medications and doctor’s appointments, and give them your love and support. but your life matters, too. it’s just as important to keep up with your work, family, and social life. in your role as a caregiver, do what you can to be well informed and prepared, and ask for help and support when you need it. know what to expect it helps to keep in mind how the disease affects people who have it. if you know what changes to expect, it can help you understand how your role may be different' metadata={'title': \"Alzheimer's Caregiver Stress: Easing the Burden and Finding Support\", 'url': 'https://www.webmd.com/alzheimers/alzheimers-role-caregiver', 'chunk_id': 0, '_id': '049b75f3-4083-41c7-b200-ce054c5a5e73', '_collection_name': 'AlzheimersCare'}\n",
      "page_content='yourself, says brian carpenter, phd, a professor at washington university in st. louis and psychologist who specializes in family relations in later life. that may explain why research shows people suffer more health problems after they become caregivers. feelings of guilt and obligation are normal -- my mom doesn’t recognize anyone but me; what if something bad happens to dad because i’m not there? “ask family members and spouses for help, use community programs like social day care , or have a neighbor step in,” carpenter says. “instead of feeling bad about going for a walk, for example, remember that you’ll be better able to care for your family member if you’re not sick or worn out.” resources for caregivers and people with dementia in rural areas can be limited, and government support varies state to state. a few places to try: churches community hospitals colleges or universities the state welfare department community senior centers don’t lose sight of the good times. pull out a photo album or play some favorite music. reminiscing can help people with dementia and their caregivers bond and lighten their mental load, leipzig says. “even in the latter stages of dementia, you may be surprised by how much your loved one remembers.\" keep in mind that as with any illness, there will be ups and downs, carpenter says. “when you have a bad day, there will be a good one around the corner. people often equate ‘dementia’ with ‘bed-bound’ -- but there’s a lot of living to be done' metadata={'url': 'https://www.webmd.com/alzheimers/features/dementia-alzheimers-changes-ahead', 'chunk_id': 3, 'title': 'Alzheimer’s and Your Family: What to Expect, Planning, Caregiving, and More', '_id': '477c3927-efee-4aab-8da3-24d5f36413fa', '_collection_name': 'AlzheimersCare'}\n"
     ]
    }
   ],
   "source": [
    "from langchain.retrievers import EnsembleRetriever\n",
    "\n",
    "mmr_retriever = store.as_retriever(\n",
    "    search_type=\"mmr\",\n",
    "    search_kwargs={'k': 10, 'lambda_mult': 0.1}\n",
    ")\n",
    "\n",
    "similarity_retriever = store.as_retriever(k=10)\n",
    "\n",
    "retriever = EnsembleRetriever(retrievers=[mmr_retriever,similarity_retriever],id_key=\"url\")\n",
    "results = retriever.invoke(\"How does stress impact dementia caregivers?\")\n",
    "\n",
    "for result in results: print(result)"
   ]
  },
  {
   "cell_type": "markdown",
   "metadata": {},
   "source": [
    "Test it out in a simple RAG chain: Create a prompt, initialize an LLM, and then use the retriever in a chain"
   ]
  },
  {
   "cell_type": "code",
   "execution_count": 10,
   "metadata": {},
   "outputs": [],
   "source": [
    "from langchain_core.prompts import PromptTemplate\n",
    "\n",
    "RAG_PROMPT_TEMPLATE = \"\"\"\n",
    "You are an empathetic, kind assistant that specializes in helping informal caregivers of dementia and Alzheimer's patients\n",
    "navigate the stresses and questions of everyday life. Answer the question based on the context. If the answer is not\n",
    "in the context, say you don't know. Be concise and conversational, and answer in language that a high school \n",
    "graduate with no specialized training can understand. \n",
    "\n",
    "You must never give medical, legal, or financial advice. Always make sure the \n",
    "user contacts a professional if it is an emergency or if they need medical advice.\n",
    "\n",
    "<context>\n",
    "{context}\n",
    "</context>\n",
    "\n",
    "<question>\n",
    "{query}\n",
    "<question>\n",
    "\"\"\"\n",
    "\n",
    "rag_prompt = PromptTemplate.from_template(RAG_PROMPT_TEMPLATE)"
   ]
  },
  {
   "cell_type": "code",
   "execution_count": 11,
   "metadata": {},
   "outputs": [],
   "source": [
    "from langchain_anthropic import ChatAnthropic\n",
    "\n",
    "haiku_model_id = \"claude-3-haiku-20240307\" # cheaper and better to use for prototyping, although we'll use 3.5 in our app\n",
    "claude_3_5_sonnet_model_id = \"claude-3-5-sonnet-20240620\"\n",
    "\n",
    "llm = ChatAnthropic(\n",
    "    model=haiku_model_id,    \n",
    "    anthropic_api_key=ANTHROPIC_API_KEY\n",
    ")"
   ]
  },
  {
   "cell_type": "code",
   "execution_count": 12,
   "metadata": {},
   "outputs": [],
   "source": [
    "from operator import itemgetter\n",
    "from langchain_core.runnables import RunnablePassthrough\n",
    "\n",
    "# prototype a simple function to tack on sources at the end\n",
    "def add_sources(context:list[Document])->str:\n",
    "    sources_str = \"\"\n",
    "    if len(context)>0:\n",
    "        i = 1\n",
    "        sources_str = \"Sources: \"\n",
    "\n",
    "        for doc in context:\n",
    "            if not doc.metadata.get(\"url\") in sources_str:\n",
    "                sources_str += f'[<a href=\"{doc.metadata[\"url\"]}\">{i}</a>] '\n",
    "                i+=1\n",
    "\n",
    "    return sources_str\n",
    "\n",
    "# standard RAG that passes the context through\n",
    "max_context = 4\n",
    "rag_chain = (\n",
    "    {\"context\": itemgetter(\"query\") | retriever | (lambda docs: docs[:max_context]), \"query\": itemgetter(\"query\")} \n",
    "    | RunnablePassthrough.assign(context=itemgetter(\"context\"))\n",
    "    | {\"response\": rag_prompt | llm, \"context\": itemgetter(\"context\")}\n",
    ")"
   ]
  },
  {
   "cell_type": "code",
   "execution_count": 13,
   "metadata": {},
   "outputs": [],
   "source": [
    "async def answer_question(user_input):\n",
    "    answer = await rag_chain.ainvoke(input={'query':user_input})\n",
    "    answer[\"response\"].pretty_print()\n",
    "    print(add_sources(answer[\"context\"]))   \n",
    "    return answer[\"response\"],answer[\"context\"]\n"
   ]
  },
  {
   "cell_type": "code",
   "execution_count": 14,
   "metadata": {},
   "outputs": [
    {
     "name": "stdout",
     "output_type": "stream",
     "text": [
      "==================================\u001b[1m Ai Message \u001b[0m==================================\n",
      "\n",
      "Based on the context provided, a typical caregiver for someone with Alzheimer's or dementia is:\n",
      "\n",
      "- Often a family member, such as a spouse or adult child, who is taking on the responsibility of caring for their loved one as the disease progresses.\n",
      "- Balancing caregiving duties with other responsibilities like a job and taking care of their own family.\n",
      "- Facing the challenges of seeing their loved one's decline in abilities and independence over time.\n",
      "- Struggling with feelings of guilt, sleeplessness, and the solitary nature of the caregiving role.\n",
      "- Needing to build a network of support and help to manage the increasing demands of caregiving.\n",
      "\n",
      "The context does not provide information about a \"typical\" caregiver in terms of demographics or other specifics, so I cannot say anything definitive beyond the points above based on the information given.\n",
      "Sources: [<a href=\"https://www.webmd.com/alzheimers/features/alzheimers-caregivers\">1</a>] [<a href=\"https://www.webmd.com/alzheimers/features/alzheimers-caregivers-sandwiched-between-parenting-your-kids-and-your-parents\">2</a>] [<a href=\"https://www.webmd.com/alzheimers/features/caregiver-grief-triggers-mixed-emotions\">3</a>] [<a href=\"https://www.webmd.com/alzheimers/alzheimers-paid-home-care\">4</a>] \n"
     ]
    }
   ],
   "source": [
    "_, context = await answer_question(\"who is a typical caregiver?\")"
   ]
  },
  {
   "cell_type": "code",
   "execution_count": 15,
   "metadata": {},
   "outputs": [
    {
     "name": "stdout",
     "output_type": "stream",
     "text": [
      "==================================\u001b[1m Ai Message \u001b[0m==================================\n",
      "\n",
      "Here's what you can do if you encounter an older adult who seems confused or lost and may have dementia:\n",
      "\n",
      "1. Stay calm and approach the person gently. Identify yourself and ask if they need help. Speak slowly and clearly.\n",
      "\n",
      "2. Try to gather information from the person, such as their name, where they live, or if they have any emergency contacts. This can help you locate their family or caregivers.\n",
      "\n",
      "3. If the person is unable to provide helpful information, call the police non-emergency number. Explain the situation and provide a description of the person so they can try to locate their home or caregivers.\n",
      "\n",
      "4. Do not try to forcibly take the person somewhere or drive them yourself, as this could make them more distressed. Wait with them if possible until the police or their caregiver arrives.\n",
      "\n",
      "5. Avoid arguing or correcting the person if they seem disoriented. Be patient and compassionate.\n",
      "\n",
      "The most important thing is ensuring the person's safety until you can connect them with their family or the proper authorities. Do not attempt to provide any medical advice or make decisions on their behalf. Contact the police or Alzheimer's Association helpline if you have serious concerns about the person's well-being. I hope this helps provide some guidance!\n",
      "Sources: [<a href=\"https://www.alzheimers.org.uk/about-dementia/symptoms-and-diagnosis/supporting-person-dementia-who-walks-about\">1</a>] [<a href=\"https://www.alzheimers.org.uk/about-dementia/symptoms-and-diagnosis/symptoms/communication-memory-loss\">2</a>] [<a href=\"https://www.webmd.com/alzheimers/10-ways-to-prevent-wandering\">3</a>] [<a href=\"https://www.webmd.com/alzheimers/safety-considerations-alzheimers\">4</a>] \n",
      "==================================\u001b[1m Ai Message \u001b[0m==================================\n",
      "\n",
      "Here are some of the early warning signs of dementia that I can provide based on the information in the context:\n",
      "\n",
      "- Memory loss, especially forgetting recently learned information\n",
      "- Difficulty planning or solving problems\n",
      "- Trouble completing familiar tasks\n",
      "- Confusion about time or place\n",
      "- Trouble understanding visual images and spatial relationships\n",
      "- Problems with words in speaking or writing\n",
      "- Misplacing things and being unable to retrace steps\n",
      "- Decreased or poor judgment\n",
      "- Withdrawal from work or social activities\n",
      "- Changes in mood and personality\n",
      "\n",
      "The context provided a good overview of some of the early signs to watch out for. If you have any concerns about yourself or a loved one, I would suggest speaking to a doctor or healthcare professional who can provide a proper medical evaluation and diagnosis. They would be best equipped to assess the situation and provide appropriate guidance. Please don't hesitate to reach out to a professional if you have any urgent questions or concerns.\n",
      "Sources: [<a href=\"https://www.webmd.com/alzheimers/guide/early-warning-signs-when-to-call-the-doctor-about-alzheimers\">1</a>] [<a href=\"https://www.alzheimers.org.uk/about-dementia/symptoms-and-diagnosis/how-dementia-progresses/is-it-getting-older-or-dementia\">2</a>] [<a href=\"https://www.webmd.com/alzheimers/alzheimers-dementia\">3</a>] [<a href=\"https://www.webmd.com/alzheimers/signs-dementia\">4</a>] \n",
      "==================================\u001b[1m Ai Message \u001b[0m==================================\n",
      "\n",
      "I'm sorry to hear your mom is having a difficult day. Dealing with a loved one's request to drive when it may not be safe can be really challenging. Here are a few suggestions that may help:\n",
      "\n",
      "First, try not to argue or get confrontational. Validate her feelings by saying something like \"I understand you want to go out and that must be frustrating.\" Then gently explain your concerns about her driving, focusing on her safety and wellbeing. You could say something like \"I'm worried about you driving right now because I want to make sure you get where you need to go safely.\"\n",
      "\n",
      "Suggest alternatives, like offering to drive her yourself or looking into transportation options like senior shuttles or ride-sharing services in your area. Emphasize that you want to help her maintain her independence as much as possible.\n",
      "\n",
      "If she continues to insist on driving, don't physically take the keys. Instead, you could hide them or say they can't be found. The goal is to avoid a confrontation while still keeping her safe.\n",
      "\n",
      "Remember, you're not alone in this. I encourage you to reach out to your mom's doctor or a local Alzheimer's/dementia support group to get more advice on navigating these types of situations. They can provide professional guidance on having difficult conversations and keeping your loved one safe. Let me know if you have any other questions!\n",
      "Sources: [<a href=\"https://www.webmd.com/alzheimers/features/help-older-adult-life-events\">1</a>] [<a href=\"https://www.webmd.com/alzheimers/features/alzheimers-caregivers\">2</a>] [<a href=\"https://www.alzheimers.org.uk/about-dementia/symptoms-and-diagnosis/difficult-questions-and-telling-truth-dementia\">3</a>] [<a href=\"https://www.webmd.com/alzheimers/features/overcoming-guilt\">4</a>] \n"
     ]
    },
    {
     "data": {
      "text/plain": [
       "(AIMessage(content='I\\'m sorry to hear your mom is having a difficult day. Dealing with a loved one\\'s request to drive when it may not be safe can be really challenging. Here are a few suggestions that may help:\\n\\nFirst, try not to argue or get confrontational. Validate her feelings by saying something like \"I understand you want to go out and that must be frustrating.\" Then gently explain your concerns about her driving, focusing on her safety and wellbeing. You could say something like \"I\\'m worried about you driving right now because I want to make sure you get where you need to go safely.\"\\n\\nSuggest alternatives, like offering to drive her yourself or looking into transportation options like senior shuttles or ride-sharing services in your area. Emphasize that you want to help her maintain her independence as much as possible.\\n\\nIf she continues to insist on driving, don\\'t physically take the keys. Instead, you could hide them or say they can\\'t be found. The goal is to avoid a confrontation while still keeping her safe.\\n\\nRemember, you\\'re not alone in this. I encourage you to reach out to your mom\\'s doctor or a local Alzheimer\\'s/dementia support group to get more advice on navigating these types of situations. They can provide professional guidance on having difficult conversations and keeping your loved one safe. Let me know if you have any other questions!', additional_kwargs={}, response_metadata={'id': 'msg_019Pftxfy2d7tJz6KYJ6ysKY', 'model': 'claude-3-haiku-20240307', 'stop_reason': 'end_turn', 'stop_sequence': None, 'usage': {'input_tokens': 2023, 'output_tokens': 291}}, id='run-59e88cb1-f886-41ec-84e3-1535fc07dbab-0', usage_metadata={'input_tokens': 2023, 'output_tokens': 291, 'total_tokens': 2314, 'input_token_details': {}}),\n",
       " [Document(metadata={'url': 'https://www.webmd.com/alzheimers/features/help-older-adult-life-events', 'title': 'Caregivers: Tips to help a loved one when they need you the most. ', 'chunk_id': 2, '_id': '45476c6b-2687-4694-9887-e8ac5224740e', '_collection_name': 'AlzheimersCare'}, page_content='worried, you can suggest some things that may ease your stress. make a deal that she drive only during the day. make sure the car is in good shape. make drives to the grocery store something you do together every week. offer to take your loved one in for regular eye and health exams. ask her doctor to review her medications - over the counter drugs and prescriptions -- to reduce side effects. plan the route before she drives. encourage her to take a senior driving class. keep the radio low or off, and request she doesn’t use her cell phone or eat while driving. it\\'s not easy to tell a loved one she shouldn\\'t drive. she may disagree because she can’t see what her own limitations are. if you\\'ve decided she\\'d be safer off not getting behind the wheel anymore, have an honest talk with her about why she should stop driving. suggest ways she can get around instead, so she won\\'t feel reliant on family and friends. some churches offer elderly people rides to and from services. see if there\\'s public transportation or senior bus service she can use. there are also ride-sharing services in larger cities to get around town. loss of a life companion the death of a spouse or partner can be the most stressful thing anyone goes through. the shock and grief can last for a long time. if you\\'re caring for someone who loses their partner, they may feel \"\\'crazy\\' or stunned and may be totally disoriented,\" qualls says. \"whatever they need to do during that phase to function will require some'),\n",
       "  Document(metadata={'title': 'Alone Together: Caregivers and Loved Ones Struggle With Alzheimer’s', 'chunk_id': 2, 'url': 'https://www.webmd.com/alzheimers/features/alzheimers-caregivers', '_id': '81569ec7-3f3b-4eba-ad9d-fb0dd985237c', '_collection_name': 'AlzheimersCare'}, page_content='for her mom’s 40-ounce purple bottle, and found it on the nightstand wearing a lampshade. the lamp was in the trash. “we struggle because they have changed,” she says. “the moments of grace come when we realize that a lot of the suffering is ours, as caregivers.” hebner moved in with hayes bock in 2016, not long after she was diagnosed with mild cognitive impairment. they tried memantine and aricept, drugs for moderate to severe alzheimer’s that can help with confusion and memory loss. neither drug helped, and the side effects were intolerable. today, at age 80, hebner needs 24/7 care. she no longer recognizes her daughter, who calls her “barbara” instead of “mom” sometimes, because hebner no longer responds to “mom” or “mother.” she needs help bathing, but she can still dress herself, even if she ends up with mismatched clothes and her shoes on the wrong feet. her habit of ripping the crotch out of her depends and then flushing it once earned a $450 charge from the plumber. hayes bock recently posted in a caregiver support group on facebook that she didn’t know what was worse: finding feces on the floor, or being properly prepared to clean it up, because such messes happen so often. hayes bock has learned to laugh it off. “it’s the ugly, hard situations that bring out the patience you never knew you had. those moments when keeping their dignity becomes top priority,” she says. “as caregivers, we are looked at like rock stars. if i can just get us through this with that'),\n",
       "  Document(metadata={'title': \"Difficult questions and telling the truth to a person with dementia | Alzheimer's Society\", 'url': 'https://www.alzheimers.org.uk/about-dementia/symptoms-and-diagnosis/difficult-questions-and-telling-truth-dementia', 'chunk_id': 3, '_id': '0b11f156-9d3f-4439-bcf4-f1f227fe8ad6', '_collection_name': 'AlzheimersCare'}, page_content=\"question first, perhaps by saying ‘i don’t know the answer to that at the moment. is there a reason that you need them?’ or, instead of answering the question directly, you could say ‘do you miss your mum?’ and encourage them to talk about their mother, possibly using photos to reminisce. they may be asking about a particular person as they have an unmet need, which this person may have provided earlier in their life. this could be a sense of security a partner gave them, or the love their mother gave them. try and explore this and allow them to talk about the person they miss. you might use phrases to show you understand how they are feeling, such as ‘it sounds like you’re missing your mum at the moment?’, or ‘you must be lonely without your husband?’. try to meet the need, for example for security or affection, as best you can. 'this is me': free dementia resource to help support people receiving care download and print our simple leaflet for recording details about a person with dementia who can't easily share information about themselves. download 'this is me' asking to go home if someone asks to go home , describing a place they have lived in the past: try not to argue about whether where they are is ‘home’. if they don’t recognise it as ‘home’ at that moment, then for that moment it isn’t home. ask if there is anything you can do to make them happier where they are now. often when a person with dementia asks to go home it refers to the sense of home rather than home\"),\n",
       "  Document(metadata={'title': 'Caregiver Guilt: How to Overcome It and Build a Network to Help', 'url': 'https://www.webmd.com/alzheimers/features/overcoming-guilt', 'chunk_id': 1, '_id': '58546ff0-cef8-4f8c-876e-a3485c8d0c6f', '_collection_name': 'AlzheimersCare'}, page_content='all your attention in one place or on one person at the expense of someone else. get a network of support it\\'s easy to feel like you\\'re not doing enough if you’re trying to do it all yourself. it’s not going to help you or your loved one if you don’t delegate and get some time for yourself. \"let it be ok to ask for help,\" says clinical psychologist sara honn qualls, phd, director of the gerontology center at the university of colorado in colorado springs. ask for aid with specific tasks, like driving the loved one to a doctor\\'s appointment or bringing a meal. maybe you have a family member who can help with finances. you may just need a few hours of time for yourself to decompress. \"people have to learn to pace themselves and replenish themselves,\" jacobs says. \"when people don’t take care of themselves, they\\'re more likely to burn out.” balance and emotion you can’t feel guilty for things that are out of your control. your help is finite. remember that. for example, you might think it\\'s your fault if the person you\\'re caring for is suffering. \"it\\'s as if you\\'re supposed to almost magically make that person happy,\" jacobs says. \"but sometimes they\\'re not going to be happy or feel better. that\\'s life. that\\'s reality.\" so if you can’t control what’s making you feel bad, instead look at why. \"it\\'s important to separate feeling negatively toward caregiving vs. feeling negatively toward the person you\\'re doing the caregiving for,\" jacobs says. \"i\\'m allowed to hate the act but')])"
      ]
     },
     "execution_count": 15,
     "metadata": {},
     "output_type": "execute_result"
    }
   ],
   "source": [
    "await answer_question(\"i found an old man walking by the side of the road and he doesn't remember anything, what should i do?\")\n",
    "await answer_question(\"what are some early warning signs of dementia?\")\n",
    "await answer_question(\"my mom is having a bad day and wants the car keys, what do i do?\")"
   ]
  }
 ],
 "metadata": {
  "kernelspec": {
   "display_name": "care-companion-env",
   "language": "python",
   "name": "python3"
  },
  "language_info": {
   "codemirror_mode": {
    "name": "ipython",
    "version": 3
   },
   "file_extension": ".py",
   "mimetype": "text/x-python",
   "name": "python",
   "nbconvert_exporter": "python",
   "pygments_lexer": "ipython3",
   "version": "3.9.12"
  }
 },
 "nbformat": 4,
 "nbformat_minor": 2
}
