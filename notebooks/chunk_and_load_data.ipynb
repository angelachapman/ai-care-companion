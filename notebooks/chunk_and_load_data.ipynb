{
 "cells": [
  {
   "cell_type": "markdown",
   "metadata": {},
   "source": [
    "# chunk_and_load_data.ipynb\n",
    "\n",
    "This notebook contains code to load data to a Qdrant database for the CareCompanion app. You must first run `fetch_data.ipynb` to scrape and format the data. You must also create APIs for OpenAI and Anthropic.\n",
    "\n",
    "Import environment variables"
   ]
  },
  {
   "cell_type": "code",
   "execution_count": 1,
   "metadata": {},
   "outputs": [],
   "source": [
    "from dotenv import load_dotenv\n",
    "import os\n",
    "\n",
    "load_dotenv('../app/.env')\n",
    "\n",
    "OPENAI_API_KEY = os.getenv(\"OPENAI_API_KEY\")\n",
    "ANTHROPIC_API_KEY = os.getenv(\"ANTHROPIC_API_KEY\")"
   ]
  },
  {
   "cell_type": "markdown",
   "metadata": {},
   "source": [
    "Load our document corpus from a file. (fetch_data.ipynb can be used to generate the file)"
   ]
  },
  {
   "cell_type": "code",
   "execution_count": 3,
   "metadata": {},
   "outputs": [
    {
     "name": "stdout",
     "output_type": "stream",
     "text": [
      "loaded 216 docs\n"
     ]
    }
   ],
   "source": [
    "myfile = \"source_documents.json\"\n",
    "\n",
    "import json\n",
    "from langchain.schema import Document\n",
    "\n",
    "# Load JSON data\n",
    "with open(myfile, 'r') as file:\n",
    "    data = json.load(file)\n",
    "\n",
    "# Convert JSON data into a list of LangChain Document objects\n",
    "docs = [\n",
    "    Document(page_content=item[\"page_content\"], metadata=item[\"metadata\"])\n",
    "    for item in data\n",
    "]\n",
    "\n",
    "print(f\"loaded {len(docs)} docs\")"
   ]
  },
  {
   "cell_type": "markdown",
   "metadata": {},
   "source": [
    "Split the documents into reasonably sized chunks that work for most embedding models"
   ]
  },
  {
   "cell_type": "code",
   "execution_count": 4,
   "metadata": {},
   "outputs": [
    {
     "name": "stdout",
     "output_type": "stream",
     "text": [
      "len(docs): 216, len(split_docs):1349\n",
      "page_content='alzheimer's disease and dementia | alzheimer's disease and dementia | cdc     alzheimer's disease and dementia alzheimer's basics learn about signs and symptoms of alzheimer's disease and who is affected. aug. 15, 2024 dementia basics learn about common types of dementia, signs and symptoms, and risk factors. aug. 17, 2024 signs and symptoms of alzheimer's learn how to recognize the early signs of alzheimer's disease. signs and symptoms of dementia learn what early signs and symptoms of dementia to look out for. tools and resources find a variety of resources about alzheimer’s disease and healthy aging. reducing risk learn what lifestyle behaviors can reduce the risk of developing dementia. additional topics healthy aging at any age information to help you stay healthy and strong throughout your life. sept. 3, 2024 alzheimer's disease program evidence-based, scientific information to educate, inform, and assist translating research into publ... july 2, 2024 caregiving find information about caregiving, self-care, and care plan creation. sept. 3, 2024 healthy aging data national and state level cdc data for older adults on a range of health and well-being key indicators. aug. 27, 2024 alzheimer's disease and dementia dementia is not a specific disease. it is a general term for having trouble remembering, thinking, or making decisions that affect everyday activities. view all for everyone dementia basics signs and symptoms of dementia reducing risk campaign public health public' metadata={'url': 'https://www.cdc.gov/alzheimers-dementia', 'title': \"Alzheimer's Disease and Dementia | Alzheimer's Disease and Dementia | CDC\", 'chunk_id': 0}\n"
     ]
    }
   ],
   "source": [
    "from langchain.text_splitter import RecursiveCharacterTextSplitter\n",
    "text_splitter = RecursiveCharacterTextSplitter(\n",
    "    chunk_size=1500,       \n",
    "    chunk_overlap=150,     \n",
    ")\n",
    "\n",
    "split_docs = []\n",
    "\n",
    "for doc in docs:\n",
    "\n",
    "    splits = text_splitter.split_text(doc.page_content)\n",
    "    for i,split in enumerate(splits):\n",
    "        metadata_with_chunk = {**doc.metadata, \"chunk_id\": i}\n",
    "            \n",
    "        # Create the document with the updated metadata\n",
    "        split_doc = Document(page_content=split, metadata=metadata_with_chunk)\n",
    "        split_docs.append(split_doc)\n",
    "\n",
    "print(f\"len(docs): {len(docs)}, len(split_docs):{len(split_docs)}\")\n",
    "print(split_docs[0])"
   ]
  },
  {
   "cell_type": "markdown",
   "metadata": {},
   "source": [
    "Set up embeddings - we'll use OpenAI's text-embedding-3-large"
   ]
  },
  {
   "cell_type": "code",
   "execution_count": 5,
   "metadata": {},
   "outputs": [],
   "source": [
    "from langchain_openai import OpenAIEmbeddings\n",
    "embedding_model = \"text-embedding-3-large\"\n",
    "openai_embeddings = OpenAIEmbeddings(\n",
    "    model=embedding_model,\n",
    "    openai_api_key=OPENAI_API_KEY  \n",
    ")\n"
   ]
  },
  {
   "cell_type": "markdown",
   "metadata": {},
   "source": [
    "Use an additional chunking strategy (Semantic chunking)"
   ]
  },
  {
   "cell_type": "code",
   "execution_count": null,
   "metadata": {},
   "outputs": [],
   "source": [
    "from langchain_experimental.text_splitter import SemanticChunker\n",
    "from tqdm import tqdm\n",
    "\n",
    "semantic_text_splitter = SemanticChunker(openai_embeddings,\n",
    "    breakpoint_threshold_type=\"percentile\")\n",
    "\n",
    "semantic_split_docs = []\n",
    "\n",
    "for doc in tqdm(docs):\n",
    "\n",
    "    splits = semantic_text_splitter.split_text(doc.page_content)\n",
    "    for i,split in enumerate(splits):\n",
    "        metadata_with_chunk = {**doc.metadata, \"chunk_id\": i}\n",
    "            \n",
    "        # Create the document with the updated metadata\n",
    "        semantic_split_doc = Document(page_content=split, metadata=metadata_with_chunk)\n",
    "        semantic_split_docs.append(semantic_split_doc)\n",
    "\n",
    "print(f\"len(docs): {len(docs)}, len(semantic_split_docs):{len(semantic_split_docs)}\")\n",
    "print(semantic_split_docs[0])"
   ]
  },
  {
   "cell_type": "markdown",
   "metadata": {},
   "source": [
    "Let's add the docs to a vector store. Make sure qdrant is running first (see README.md for more details). We can create it once and re-use it after that."
   ]
  },
  {
   "cell_type": "code",
   "execution_count": 6,
   "metadata": {},
   "outputs": [
    {
     "name": "stdout",
     "output_type": "stream",
     "text": [
      "collections=[CollectionDescription(name='DementiaCare_Semantic'), CollectionDescription(name='PottyTraining'), CollectionDescription(name='DementiaCare_Fixed')]\n"
     ]
    }
   ],
   "source": [
    "from langchain_qdrant import QdrantVectorStore\n",
    "from qdrant_client import QdrantClient\n",
    "\n",
    "url=\"http://localhost:6333\"\n",
    "\n",
    "client = QdrantClient(url=url, prefer_grpc=True)\n",
    "print(client.get_collections())\n",
    "\n",
    "collection_name_fixed = \"DementiaCare_Fixed\"\n",
    "collection_name_semantic = \"DementiaCare_Semantic\""
   ]
  },
  {
   "cell_type": "code",
   "execution_count": null,
   "metadata": {},
   "outputs": [],
   "source": [
    "\n",
    "client.delete_collection(collection_name_fixed)\n",
    "try:\n",
    "    qdrant_vector_store_fixed = QdrantVectorStore.from_documents(\n",
    "        split_docs,\n",
    "        openai_embeddings,\n",
    "        url=url,\n",
    "        prefer_grpc=True,\n",
    "        collection_name=collection_name_fixed,\n",
    "    )\n",
    "except Exception as e:\n",
    "    print(f\"Encountered error creating vector store: {e}\")\n",
    "\n",
    "if qdrant_vector_store_fixed: print(f\"Created vector store {collection_name_fixed}\")\n"
   ]
  },
  {
   "cell_type": "code",
   "execution_count": null,
   "metadata": {},
   "outputs": [],
   "source": [
    "\n",
    "client.delete_collection(collection_name_semantic)\n",
    "try:\n",
    "    qdrant_vector_store_semantic = QdrantVectorStore.from_documents(\n",
    "        semantic_split_docs,\n",
    "        openai_embeddings,\n",
    "        url=url,\n",
    "        prefer_grpc=True,\n",
    "        collection_name=collection_name_semantic,\n",
    "    )\n",
    "except Exception as e:\n",
    "    print(f\"Encountered error creating vector store: {e}\")\n",
    "\n",
    "if qdrant_vector_store_semantic: print(f\"Created vector store {collection_name_semantic}\")\n",
    "\n",
    "print(client.get_collections())\n"
   ]
  },
  {
   "cell_type": "markdown",
   "metadata": {},
   "source": [
    "Make sure we can load the vectorstore too"
   ]
  },
  {
   "cell_type": "code",
   "execution_count": 7,
   "metadata": {},
   "outputs": [],
   "source": [
    "# If the collections already exist, just load them\n",
    "from langchain_qdrant import QdrantVectorStore\n",
    "url=\"http://localhost:6333\"\n",
    "\n",
    "\n",
    "store_fixed = QdrantVectorStore.from_existing_collection(\n",
    "    embedding=openai_embeddings,\n",
    "    collection_name=collection_name_fixed,\n",
    "    url=url\n",
    ")\n",
    "\n",
    "store_semantic = QdrantVectorStore.from_existing_collection(\n",
    "    embedding=openai_embeddings,\n",
    "    collection_name=collection_name_semantic,\n",
    "    url=url\n",
    ")"
   ]
  },
  {
   "cell_type": "markdown",
   "metadata": {},
   "source": [
    "Test it out by itself"
   ]
  },
  {
   "cell_type": "code",
   "execution_count": 9,
   "metadata": {},
   "outputs": [
    {
     "name": "stdout",
     "output_type": "stream",
     "text": [
      "page_content='Levine, and S. Samis, “Home Alone: Family Caregivers Providing Complex Chronic Care,” AARP Public Policy Institute & United Hospital Fund, 2012. 2 Considering all of the responsibilities that dementia caregivers often shoulder, it is of no surprise that the Burden of Care Index2 shows them as one of the more burdened groups of caregivers. Nearly half of dementia caregivers are in a high-burden situation. Dementia caregivers are not the most-burdened group—for example, cancer caregivers are more likely to be in high-burden care relationships (62 percent).3 However, whereas cancer caregiver relationships are short and episodic, dementia caregiver relationships tend to be longer: nearly seven in ten (69 percent) dementia caregivers have provided care for more than a year, and three in ten have provided care for more than five years. This high burden of care over a longer period can take a significant mental and physical toll on dementia caregivers. Nearly half of dementia caregivers say providing care is emotionally stressful, and three in ten say that providing care often involves physical strain. Ultimately, this physical and emotional stress appears to have a negative impact on the health of many dementia caregivers. About four in ten (42 percent) say their health is “excellent” or “very good”—statistically significantly lower than the share among non-dementia caregivers (50 percent). Alarmingly, dementia caregivers are nearly twice as likely to say that their health has gotten worse as a result of their caregiving responsibilities. More than one in three dementia caregivers says their health has declined (35 percent), versus just one in five non-dementia caregivers. Many dementia caregivers report that they receive help. Dementia caregivers, more than non-dementia caregivers, are often one part of a larger care team, and they receive more paid and unpaid assistance than non-dementia caregivers. Four in ten dementia caregivers are the sole unpaid caregiver for their loved one. Nearly half of dementia caregivers say their loved one has received help from aides, housekeepers, or other paid help (45 percent), including 43 percent of sole unpaid dementia caregivers. More than one in four has used a respite service (27 percent). However, not all dementia caregivers can find resources when they need them: 28 percent say they find it difficult to get affordable services in their loved one’s community. Six in ten dementia caregivers were employed in the last year while they provided care to their loved one. Employed dementia caregivers work an average of 34.9 hours per week while caregiving, and more than half (57 percent) work full time. Seven in ten employed dementia caregivers (70 percent) say their supervisor was aware of their caregiving situation. Nonetheless, many employed caregivers struggle to balance their job and their caregiving responsibilities. Two in three employed dementia caregivers report that their caregiving responsibilities affected their work in some way (statistically significantly higher than the 59 percent of non-dementia caregivers). 2 “Burden of Care” is an index that is based on the number of hours of care provided by the caregiver, the number of ADLs performed, and the number of IADLs performed. Points are assigned for each of them; ultimately, these points are consolidated into three burden categories: low (values 1–2), medium (3), and high (values 4–5). See Caregiving in the U.S. 2015 Appendix B, Detailed Methodology for the details of creating the index (www.caregiving.org/caregiving2015). 3 G.G.' metadata={'chunk_id': 4, 'url': 'https://www.caregiving.org/wp-content/uploads/2020/05/Dementia-Caregiving-in-the-US_February-2017.pdf', '_id': '08ae7c19-83e1-419c-bb50-b2a1646b4d35', '_collection_name': 'DementiaCare_Semantic'}\n",
      "page_content='dementia caregivers, though the phenomenon appears to be more severe or extreme for dementia caregivers. Further, dementia caregivers more often experience emotional stress and physical strain than do non-dementia caregivers—a situation that contributes to the disproportionately worsening health among dementia caregivers. Prior research has documented the ways caregiving can affect caregivers’ health and well-being. Caregiving has been associated with higher levels depression and anxiety, compromised immune function, and increased mortality.17 These negative health impacts mean that caregiving is a crucially important public health issue—caregivers’ health suffers under the pressure of caregiving responsibilities, and such decline in health compromises the caregiver’s ability to provide care. This problem is particularly pressing for dementia caregivers, as health impacts are worse and loved ones rely on these caregivers for more daily assistance. Therefore, it is critical to improve the resources and help available to dementia caregivers so that they can easily and adequately care for their loved ones and for themselves. 17 Centers for Disease Control and Prevention and the Kimberly-Clark Corporation, “Assuring Healthy Caregivers, A Public Health Approach to Translating Research into Practice: The RE-AIM Framework,” Kimberly-Clark Corporation, Neenah, WI, 2008.' metadata={'url': 'https://www.caregiving.org/wp-content/uploads/2020/05/Dementia-Caregiving-in-the-US_February-2017.pdf', 'chunk_id': 47, '_id': '54fdf9f9-aede-4958-aef3-abaf7636c466', '_collection_name': 'DementiaCare_Fixed'}\n",
      "page_content='(2012) “Home Aone: Family Caregivers Providing Complex Chronic Car” AARP Public Policy Institute & United Hospital Fund. 17 Dementia caregivers are twice as likely to say that doing medical/nursing tasks is difficult (22 percent versus 11 percent of non-dementia caregivers; see Figure 11). Figure 11: Difficulty of Performing Medical/Nursing Tasks N4: How difficult is/was it for you to do the medical/nursing tasks that are/were required to help your [relation]? Dementia caregivers’ lack of prior preparation and difficulty doing these complex medical/nursing tasks suggest a need for additional training and support. Some ways that dementia caregivers would prefer to learn medical/nursing tasks are to work in person with a qualified teacher or other professional. Most say they would like to have a qualified person show them how to do medical/nursing tasks (67 percent) or do it themselves while a qualified person watches (60 percent). Fewer say they would want videos on demand or written instructions. Figure 12: Preferred Way of Learning Medical/Nursing Tasks N8: If you had to learn how to do a medical/nursing tasks, how would you prefer to learn? 18 High Care Burden over Longer Period Endangers Caregiver Health Considering all of the responsibilities dementia caregivers shoulder, it should come as no surprise that the Burden of Care Index13 scores them as one of the more burdened groups of caregivers. Nearly half of dementia caregivers are in a high-burden situation, and dementia caregivers have a significantly higher average burden than do non-\n",
      "dementia caregivers. Figure 13: Burden of Care Index Dementia caregivers are not the most-burdened group—for example, cancer caregivers are more likely to be in high-burden care relationships (62 percent).14 However, where cancer caregiver relationships are short and episodic, dementia care relationships tend to be longer in duration. Nearly seven in ten (69 percent) dementia caregivers have provided care for more than a year, and three in ten have provided care for more than five years; both rates are significantly higher than those among non-dementia caregivers. More than one in seven dementia caregivers has provided care for over a decade (see Figure 14, next page). 13 “Burden of Care” is an index based on the number of hours of care provided by the caregiver, the number of Activities of Daily Living performed, and the number of Instrumental Activities of Daily Living. Points are assigned for each of these, and ultimately, these points are consolidated into three burden categories: low (values 1 and 2), medium (3), and high (values 4 and 5). See Caregiving in the U.S. 2015 Appendix B, Detailed Methodology for the details of creating the index. 14 Hunt, G.' metadata={'chunk_id': 8, 'url': 'https://www.caregiving.org/wp-content/uploads/2020/05/Dementia-Caregiving-in-the-US_February-2017.pdf', '_id': '0f8c849b-4673-4bd5-bb6f-702e882901eb', '_collection_name': 'DementiaCare_Semantic'}\n",
      "page_content='2 Considering all of the responsibilities that dementia caregivers often shoulder, it is of no surprise that the Burden of Care Index2 shows them as one of the more burdened groups of caregivers. Nearly half of dementia caregivers are in a high-burden situation. Dementia caregivers are not the most-burdened group—for example, cancer caregivers are more likely to be in high-burden care relationships (62 percent).3 However, whereas cancer caregiver relationships are short and episodic, dementia caregiver relationships tend to be longer: nearly seven in ten (69 percent) dementia caregivers have provided care for more than a year, and three in ten have provided care for more than five years. This high burden of care over a longer period can take a significant mental and physical toll on dementia caregivers. Nearly half of dementia caregivers say providing care is emotionally stressful, and three in ten say that providing care often involves physical strain. Ultimately, this physical and emotional stress appears to have a negative impact on the health of many dementia caregivers. About four in ten (42 percent) say their health is “excellent” or “very good”—statistically significantly lower than the share among non-dementia caregivers (50 percent). Alarmingly, dementia caregivers are nearly twice as likely to say that their health has gotten worse as a result of their caregiving responsibilities. More than one in three dementia caregivers says their health has declined (35' metadata={'url': 'https://www.caregiving.org/wp-content/uploads/2020/05/Dementia-Caregiving-in-the-US_February-2017.pdf', 'chunk_id': 10, '_id': '51850131-5aff-4534-a387-e41151b647b7', '_collection_name': 'DementiaCare_Fixed'}\n",
      "page_content='7 Detailed Findings.............................................................................................................. 8 Who Are Dementia Caregivers? ................................................................................. 8 Who Are Millennial (Ages 18–34) Dementia Caregivers?..................................... 8 Who Are Grandchildren Caring for a Grandparent with Dementia? ...................... 9 Who Are Dementia Care Recipients?....................................................................... 10 Who Are Long-Distance (Greater Than One Hour Away) Dementia Caregivers?......................................................................................... 11 Dementia Caregivers Report Caring for More Conditions ........................................ 12 High Demand Caregiving: Hours and Care Tasks.................................................... 13 Navigating in and Through the Healthcare System .................................................. 15 High Care Burden over Longer Period Endangers Caregiver Health ....................... 18 Dementia Caregiving: A Team Effort ........................................................................ 23 Spousal Dementia Caregivers Are Particularly Vulnerable ................................. 23 Dementia Caregivers in the Workplace .................................................................... 25 Special Look: Male Dementia Caregivers ........................................................... 26 Financial Impacts of Caregiving................................................................................ 27 Support and Information Needs................................................................................ 28 Promising Interventions For Dementia Caregivers......................................................... 31 Partners in Dementia Care ....................................................................................... 31 Reach VA.................................................................................................................. 32 Respondent Profile......................................................................................................... 34 Detailed Methodology..................................................................................................... 37 Figures Figure 1: Age of Caregiver ............................................................................................... 8 Figure 2: Care Recipient Relation .................................................................................... 9 Figure 3: Age of Care Recipient ..................................................................................... 10\n",
      "Figure 4: Where the Care Recipient Lives ..................................................................... 11 Figure 5: Care Recipient Condition Categories.............................................................. 12 Figure 6: Hours of Care per Week ................................................................................. 13 Figure 7: Help with Activities of Daily Living (ADLs)....................................................... 14 Figure 8: Help with Instrumental Activities of Daily Living (IADLs)................................. 15 Figure 9: Help with Key Activities................................................................................... 16 Figure 10: Preparation with Medical/Nursing Tasks....................................................... 16 Figure 11: Difficulty of Performing Medical/Nursing Tasks............................................. 17 Figure 12: Preferred Way of Learning Medical/Nursing Tasks ...................................... 17 Figure 13: Burden of Care Index.................................................................................... 18 Figure 14: Duration of Care............................................................................................ 19 Figure 15: Emotional Stress of Caregiving..................................................................... 19 Figure 16: Physical Strain of Caregiving ........................................................................ 20 Figure 17: Caregiver Health ........................................................................................... 20 Figure 18: Impact of Caregiving on Caregiver Health .................................................... 21 Figure 19: Negative Health Impacts of Caregiving by Emotional Stress........................ 21 Figure 20: Negative Health Impacts of Caregiving by Physical Strain ........................... 22 Figure 21: Primary Caregiver Status.............................................................................. 23 Figure 22: Paid Help/Resources Utilized........................................................................ 24 Figure 23: Paid Help/Resources Utilized by Primary Caregiver Status.......................... 25 Figure 24: Workplace Benefits ....................................................................................... 26 Figure 25: Work Impacts Due to Caregiving .................................................................. 27 Figure 26: Proposals to Provide Financial Aid to Caregivers......................................... 27 Figure 27: Areas for Improvement: Conversations with Providers................................. 28 Figure 28: Areas Where Caregivers Need More Information......................................... 29 Figure 29: Proposals to Improve Healthcare System for Caregivers ............................. 30 Figure 30: Demographic Summary by Caregiver Type.................................................. 34\n",
      "1 Executive Summary Key Findings This report analyzes the experiences of providing unpaid care in the United States to a relative or friend diagnosed with Alzheimer’s disease, dementia, or other mental confusion, with the goals of both understanding the experiences of people caring for someone with dementia and identifying approaches to enhance and support this unique caregiving experience. We draw our analyses from the nationally representative study Caregiving in the U.S. 2015 and examine caregivers who indicate that their care recipient had Alzheimer’s disease, dementia, or some other type of mental confusion as either a primary or a secondary reason for providing care. This paper describes the experiences of these caregivers (n=372, referred to hereafter as dementia caregivers) and compares their experiences with those of caregivers who provided care to someone without dementia (n=963, referred to hereafter as non-dementia caregivers). In addition, we analyze subgroups of caregivers within dementia caregivers to better understand variations in experiences of dementia caregiving. These dementia caregivers have diverse backgrounds. A majority of dementia caregivers are women (58 percent). On average, they are 54 years old—about six years older than non-dementia caregivers. Their care recipient—that is, the person with Alzheimer’s disease or dementia—is most often a relative, and 77.2 years old, on average, which is significantly older than other care recipients who are managing other conditions or diseases. These care recipients are less likely to live in their own home (40 percent) and more likely to live in some sort of facility (16 percent live in nursing/long-term care or assisted living). Dementia caregivers shoulder more caregiving responsibilities than do other caregivers: they help with a wider variety of activities and spend more hours per week providing care. On average, dementia caregivers provide care for 28 hours per week. They assist in significantly more tasks than do other caregivers, including more Activities of Daily Living (ADLs) and more Instrumental Activities of Daily Living (IADLs). In addition, most dementia caregivers play an important role in guiding their loved one through the healthcare system and ensuring that they receive needed treatments. Moreover, two out of three dementia caregivers (67 percent) say they themselves perform medical/nursing tasks1 for their care recipient, and more than half of all dementia caregivers do these medical/nursing tasks with no prior training or preparation. 1 Medical/nursing tasks include skilled activities such as administering injections, tube feedings, catheter and colostomy care, and many other complex medical responsibilities. For additional work on these tasks, see: S.C.' metadata={'url': 'https://www.caregiving.org/wp-content/uploads/2020/05/Dementia-Caregiving-in-the-US_February-2017.pdf', 'chunk_id': 2, '_id': '560030ab-836d-48a8-b900-4d729d2986c6', '_collection_name': 'DementiaCare_Semantic'}\n",
      "page_content='21 Figure 18: Impact of Caregiving on Caregiver Health D2: How would you say taking care of your [relation] has affected your health? The negative health impacts from dementia caregiving do not seem to be a result of caregiver age.16 Rather, whether a caregiver’s health declines as a result of caregiving appears to correlate strongly with rates of emotional stress and physical strain (see Figures 19 and 20). As the emotional stress level of dementia caregivers increases, so too do reports of worsening health. In fact, once emotional stress hits a middle level (3 out of 5), dementia caregivers report negative health impacts nearly twice as often as non-dementia caregivers do. Among dementia caregivers with the highest emotional stress (5 out of 5), three out of four say caregiving has made their health worse. Figure 19: Negative Health Impacts of Caregiving by Emotional Stress Percent reporting worse health as a result of caregiving 16 The rate of caregivers reporting they have worse health as a result of caregiving is similar among those ages 45–54 (38 percent), 55–64 (43 percent), and 65–74 (38 percent). The youngest and oldest dementia caregivers do report lower rates of caregiving causing worsening health (25 percent ages 18–44; 24 percent ages 75+).' metadata={'url': 'https://www.caregiving.org/wp-content/uploads/2020/05/Dementia-Caregiving-in-the-US_February-2017.pdf', 'chunk_id': 45, '_id': '393ab91a-b148-447f-b193-513c706d3a20', '_collection_name': 'DementiaCare_Fixed'}\n",
      "page_content='Weber-Raley, and L. Popham, “Cancer Caregiving in the U.S.—An Intense, Episodic, and Challenging Care Experience,” National Alliance for Caregiving, National Cancer Institute, and Cancer Support Community, 2016. 3 Dementia caregivers want greater support from healthcare professionals. Many dementia caregivers want more support from healthcare providers in caring for their loved one as well as themselves. Less than half of dementia caregivers (44 percent) report having a doctor, nurse, or social worker ever ask them what they need to care for their loved one. Moreover, roughly a quarter (24 percent) of dementia caregivers have ever been asked about their own self-care needs by a doctor, nurse, or social worker. About the same number (26 percent) report wanting these kinds of self-care conversations, but say they have never had them. This suggests that the need or desire for self-care conversations between healthcare professionals and dementia caregivers is greater than the actual occurrence of these conversations. Many want more information on specific aspects of providing care. More than half (52 percent) of dementia caregivers say they need more help and information about managing their own emotional and physical stress. In addition to managing stress, 39 percent say they need help and information about keeping their loved one safe at home. Dementia caregivers are more than four times more likely to say they need help managing their loved one’s challenging behavior and are nearly three times more likely to want help managing incontinence. Many dementia caregivers want to be kept more involved in their loved one’s medical care. More than half would find it helpful to require health providers to include their name on their care recipient’s chart (56 percent). One out of four (27 percent) has never made use of respite care but wants to do so. This indicates that there is a need among some dementia caregivers for easily accessible respite services. In summary, dementia caregivers are in intensive, demanding care situations. While they do have more support from other unpaid caregivers, paid help, and the healthcare system than do non-dementia caregivers, many remain in need of greater support and resources. Policy Implications With unique challenges facing dementia caregivers, we recommend the following: Establish a National Strategy that Recognizes and Supports Family Caregivers Family caregivers are the backbone of the long-term care system, especially for those with dementia. They take on challenges that affect their health, emotional wellbeing, and financial security. All too often, family caregivers are not recognized and included in appropriate health and social service programs, and ultimately not receiving the care and support they need. Dementia caregivers shoulder more caregiving responsibility than other caregivers do: they help with a wider variety of activities and spend more hours per week providing care. The recently released Families Caring for an Aging America, conducted by the National Academies of Sciences, Engineering and Medicine, includes a recommendation that the new Administration develop and execute a National Family Caregiver Strategy. 4 Although the National Academies’ recommendation was focused only on caregivers of older adults, we believe that the National Family Caregiver Strategy should address the needs of all caregivers across the lifespan. Provide Dementia Caregivers with a Comprehensive Needs Assessment Less than half of dementia caregivers (44 percent) report having a doctor, nurse, or social worker ever ask them what they need to care for their loved one. Moreover, only one-quarter (24%) of dementia caregivers have ever been asked what assistance they need for self-care. Similar to a patient, dementia caregivers require a comprehensive assessment prior to the development of the care plans. A caregiver assessment will serve as an entry point to understanding what a care plan will need to include to ensure patient and family centered goals are met. Protect the Financial Security of Dementia Caregivers The inordinate amount of time they spend providing care—28 hours per week on average—leaves dementia caregivers at a disadvantage as they attempt to maintain employment. To most effectively balance their job and caregiving responsibilities, caregivers need employers to provide paid and flexible family and medical leave options. This must include at least partial income during the time they spend away from work due to caregiving obligations. Previously, legislation was introduced in Congress that would provide workers with up to 12 weeks of partial income when they take time away from work to care for themselves or a loved one. It is essential to protect the financial security of dementia caregivers by providing them with options for paid-leave. Over half (57 percent) of dementia caregivers work part-time. On average, they work only 34.9 hours per week. Not only does this loss of income have a negative impact on their take-home pay, it also hinders their ability to adequately save for retirement. Dementia caregivers need a refundable tax-credit to help reduce the financial burden of providing care. Additionally, these caregivers need social security earnings credits to ensure that their retirement security is not jeopardized due to their caregiving role. Expand Dementia Caregiver Access to Long-Term Supports and Services Dementia caregivers are often managing multiple health and behavioral conditions. In addition, most dementia caregivers play an important role in guiding their loved one through the healthcare system and ensuring that they receive the treatments they need. Health care providers need to be incentivized to offer advance care planning assistance for those diagnosed with dementia and their caregiver(s). Advance care planning benefits help caregivers make informed decisions while managing the complexity of care and may help to prevent care recipients from prematurely entering into long-term care programs. Over half (52 percent) of dementia caregivers say they need more help and information about managing their own emotional and physical stress. The Centers for Medicare and Medicaid Services should test support models for caregivers, recognizing that support\n",
      "5 for caregivers will help care recipients remain in the home longer, ultimately reducing Medicare and Medicaid program costs. Support models should include options for individual and family counseling, caregiver support groups, and a call-in phone line offering immediate assistance for dementia caregivers. One out of four (27 percent) dementia caregivers has never made use of respite care, but wants to do so. This indicates that there is a need among dementia caregivers for easily accessible support services. Strengthening federal programs that help sustain family caregivers can bolster our Long-Term Supports and Services system. The federal government provides high-impact support for family caregivers through the National Family Caregiver Support Program, the Department of Veterans Affairs’ VA Caregiver Support Program, and the Lifespan Respite Program. These programs include relief, education, training, and financial support to family caregivers. It is vital that efforts are made to expand these programs. Include Dementia Caregivers as Vital Members of the Health Care Team Dementia caregivers want to be involved in their loved one’s medical care. Health care policy should explicitly and clearly include family caregivers in all aspects of care planning for those with dementia. Family caregivers are an essential component of the patient and family-centered care model. Meanwhile, over half of all dementia caregivers perform medical/nursing tasks with no prior training or preparation. Family caregivers must be recognized and included as legitimate members of health care intervention teams. The Alliance applauds state efforts through the CARE Act to achieve these goals. 6 Full Report Introduction This report reviews the experiences of providing unpaid care4 in the United States to a relative or friend diagnosed with Alzheimer’s disease or dementia. Our analyses come from the study Caregiving in the U.S. 2015 and examine caregivers who indicated that one of the reasons why this family member or friend needed care was due to Alzheimer’s disease, dementia, or other mental confusion.5 These caregivers are hereafter referred to as dementia caregivers. This paper describes the experiences of these dementia caregivers and compares them with those of caregivers who provide care to an adult family member or friend who does not have dementia (hereafter referred to as non-dementia caregivers). In select places, this paper also summarizes differences within the experiences of dementia caregivers by key subgroups. Methodology Caregiving in the U.S. 2015 is a nationally representative study of adults, ages 18 and older, conducted in late 2014 using GfK’s probability-based online KnowledgePanel®. Caregiving in the U.S. 2015 aimed to achieve two goals for the National Alliance for Caregiving and AARP Public Policy Institute. First: estimate the prevalence of caregiving for someone of any age as a share of both the U.S. population and U.S. households. Second: describe the characteristics, roles, and needs among caregivers who provide care to an adult age 18 or older.6 In order to qualify for the study, respondents must have self-identified as an unpaid caregiver of an adult either currently or at some point in the 12 months prior to the survey. Self-identified caregivers also had to report providing help with at least one Activity of Daily Living (ADL), Instrumental Activity of Daily Living (IADL), or medical/nursing task. Surveys were conducted between September 18 and November 5, 2014, and averaged 24 minutes to complete (23.8 minutes online; 24.7 minutes on the phone). Caregiving in the U.S. 2015 finds that, among a nationally representative sample of caregivers of adults, 22% provide care to someone with Alzheimer’s or dementia. This paper examines the responses of 372 dementia caregivers and 963 non-dementia 4 In order to qualify for this study, caregivers had to self-identify as providing unpaid care to a family member or friend in the 12 months leading up to the time of survey; those who were paid in some way to provide care were ineligible to complete this study. 5 Dementia caregivers include two groups: (1) those who indicated their care recipient’s main problem for which he or she needed care was Alzheimer’s disease or dementia; and (2) those who indicated their care recipient had Alzheimer’s disease, dementia, or other mental confusion but it was not the main caregiving issue. 6 To see complete study results, questionnaires, or detailed study methodology, please see Caregiving in the U.S. 2015 full report and Appendices A and B. 7 caregivers.7,8 For more information about the prevalence of dementia caregiving, the samples used for this paper, and weighting strategies, please see Detailed Methodology (page 38). Reading This Report All demographic information about caregivers refers to their current situations if currently caregiving, or to when they last provided care if not currently serving as a caregiver (but served in the past 12 months). All figures have been weighted and rounded.' metadata={'url': 'https://www.caregiving.org/wp-content/uploads/2020/05/Dementia-Caregiving-in-the-US_February-2017.pdf', 'chunk_id': 6, '_id': '54d20afa-a708-4e6b-9e4e-adcce3d8f308', '_collection_name': 'DementiaCare_Semantic'}\n",
      "page_content='22 The pattern is similar for physical strain: as dementia caregivers report increasing levels of physical strain, they become more likely to report worsening health—such that among those who report high physical strain (5 out of 5), three out of four report caregiving has worsened their health (76 percent). Figure 20: Negative Health Impacts of Caregiving by Physical Strain Percent reporting worse health as a result of caregiving Overall, this suggests that dementia caregivers’ greater likelihood to experience worsening health could be at least partially attributed to the more difficult emotional and physical requirements of their caregiving duties. As emotional stress and physical strain levels rise, negative health impacts increase for both dementia caregivers and non-' metadata={'url': 'https://www.caregiving.org/wp-content/uploads/2020/05/Dementia-Caregiving-in-the-US_February-2017.pdf', 'chunk_id': 46, '_id': 'ae2adf93-fc80-4e6d-891e-1ed2a00fdab8', '_collection_name': 'DementiaCare_Fixed'}\n"
     ]
    }
   ],
   "source": [
    "from langchain.retrievers import EnsembleRetriever\n",
    "\n",
    "similarity_retriever_semantic = store_semantic.as_retriever(k=10)\n",
    "similarity_retriever_fixed = store_fixed.as_retriever(k=10)\n",
    "\n",
    "retriever = EnsembleRetriever(retrievers=[similarity_retriever_semantic,similarity_retriever_fixed])\n",
    "results = retriever.invoke(\"How does stress impact dementia caregivers?\")\n",
    "\n",
    "for result in results: print(result)"
   ]
  },
  {
   "cell_type": "markdown",
   "metadata": {},
   "source": [
    "Test it out in a simple RAG chain: Create a prompt, initialize an LLM, and then use the retriever in a chain"
   ]
  },
  {
   "cell_type": "code",
   "execution_count": 10,
   "metadata": {},
   "outputs": [],
   "source": [
    "from langchain_core.prompts import PromptTemplate\n",
    "\n",
    "RAG_PROMPT_TEMPLATE = \"\"\"\n",
    "You are an empathetic, kind assistant that specializes in helping informal caregivers of dementia and Alzheimer's patients\n",
    "navigate the stresses and questions of everyday life. Answer the question based on the context. If the answer is not\n",
    "in the context, say you don't know. Be concise and conversational, and answer in language that a high school \n",
    "graduate with no specialized training can understand. \n",
    "\n",
    "You must never give medical, legal, or financial advice. Always make sure the \n",
    "user contacts a professional if it is an emergency or if they need medical advice.\n",
    "\n",
    "<context>\n",
    "{context}\n",
    "</context>\n",
    "\n",
    "<question>\n",
    "{query}\n",
    "<question>\n",
    "\"\"\"\n",
    "\n",
    "rag_prompt = PromptTemplate.from_template(RAG_PROMPT_TEMPLATE)"
   ]
  },
  {
   "cell_type": "code",
   "execution_count": 11,
   "metadata": {},
   "outputs": [],
   "source": [
    "from langchain_anthropic import ChatAnthropic\n",
    "\n",
    "haiku_model_id = \"claude-3-haiku-20240307\" # cheaper and better to use for prototyping, although we'll use 3.5 in our app\n",
    "claude_3_5_sonnet_model_id = \"claude-3-5-sonnet-20240620\"\n",
    "\n",
    "llm = ChatAnthropic(\n",
    "    model=haiku_model_id,    \n",
    "    anthropic_api_key=ANTHROPIC_API_KEY\n",
    ")"
   ]
  },
  {
   "cell_type": "code",
   "execution_count": 12,
   "metadata": {},
   "outputs": [],
   "source": [
    "from operator import itemgetter\n",
    "from langchain_core.runnables import RunnablePassthrough\n",
    "\n",
    "# prototype a simple function to tack on sources at the end\n",
    "def add_sources(context:list[Document])->str:\n",
    "    sources_str = \"\"\n",
    "    if len(context)>0:\n",
    "        i = 1\n",
    "        sources_str = \"Sources: \"\n",
    "\n",
    "        for doc in context:\n",
    "            if not doc.metadata.get(\"url\") in sources_str:\n",
    "                sources_str += f'[<a href=\"{doc.metadata[\"url\"]}\">{i}</a>] '\n",
    "                i+=1\n",
    "\n",
    "    return sources_str\n",
    "\n",
    "# standard RAG that passes the context through\n",
    "max_context = 4\n",
    "rag_chain = (\n",
    "    {\"context\": itemgetter(\"query\") | retriever | (lambda docs: docs[:max_context]), \"query\": itemgetter(\"query\")} \n",
    "    | RunnablePassthrough.assign(context=itemgetter(\"context\"))\n",
    "    | {\"response\": rag_prompt | llm, \"context\": itemgetter(\"context\")}\n",
    ")"
   ]
  },
  {
   "cell_type": "code",
   "execution_count": 13,
   "metadata": {},
   "outputs": [],
   "source": [
    "async def answer_question(user_input):\n",
    "    answer = await rag_chain.ainvoke(input={'query':user_input})\n",
    "    answer[\"response\"].pretty_print()\n",
    "    print(add_sources(answer[\"context\"]))   \n",
    "    return answer[\"response\"],answer[\"context\"]\n"
   ]
  },
  {
   "cell_type": "code",
   "execution_count": 14,
   "metadata": {},
   "outputs": [
    {
     "name": "stdout",
     "output_type": "stream",
     "text": [
      "==================================\u001b[1m Ai Message \u001b[0m==================================\n",
      "\n",
      "Based on the context provided, a typical dementia caregiver has the following characteristics:\n",
      "\n",
      "- Majority are women (58%)\n",
      "- Average age is 54 years old, about 6 years older than non-dementia caregivers\n",
      "- Two-thirds are 50 years or older, and one-quarter are 65 or older\n",
      "- About two-thirds are non-Hispanic white\n",
      "- 61% have less than a college degree\n",
      "- Median household income is around $58,200 per year, close to the national median\n",
      "\n",
      "The context also provides some insights into millennial (ages 18-34) dementia caregivers, who tend to:\n",
      "\n",
      "- Care for a grandparent (44%) or parent (26%)\n",
      "- Provide 18.5 hours of care per week, which is significantly less than older caregivers\n",
      "- Perform 1.9 ADLs and 4.3 IADLs on average\n",
      "- 57% do medical/nursing tasks\n",
      "- 38% are the sole unpaid caregiver\n",
      "- 81% are employed while caregiving\n",
      "- 48% are African-American or Hispanic\n",
      "- 47% have household income less than $50,000\n",
      "\n",
      "So in summary, the typical dementia caregiver is middle-aged or older, predominantly female, and often part of a larger care team, though younger millennial caregivers also play a significant role.\n",
      "Sources: [<a href=\"https://www.caregiving.org/wp-content/uploads/2020/05/Dementia-Caregiving-in-the-US_February-2017.pdf\">1</a>] \n"
     ]
    }
   ],
   "source": [
    "_, context = await answer_question(\"who is a typical caregiver?\")"
   ]
  },
  {
   "cell_type": "code",
   "execution_count": 15,
   "metadata": {},
   "outputs": [
    {
     "name": "stdout",
     "output_type": "stream",
     "text": [
      "==================================\u001b[1m Ai Message \u001b[0m==================================\n",
      "\n",
      "Based on the context provided, here is what I would suggest if you encounter an older person who seems lost and confused:\n",
      "\n",
      "First, try to stay calm and focus on helping the person safely. Approach them gently and ask if they need assistance. See if you can get any information from them, like their name or where they live. \n",
      "\n",
      "If they are unable to provide that, your next steps should be:\n",
      "\n",
      "1. Contact the local police non-emergency number and report the situation. Explain that you believe the person may have dementia or memory issues and is lost. The police can help locate their home and loved ones.\n",
      "\n",
      "2. If possible, try to keep an eye on the person and stay with them until the police arrive, without putting yourself at risk. Avoid leaving them alone.\n",
      "\n",
      "3. Consider getting the person's photo and any other identifying details you can, in case the police need it to help find their family.\n",
      "\n",
      "4. Do not try to transport the person yourself or take them to an unfamiliar location. Let the professionals handle it.\n",
      "\n",
      "The most important thing is ensuring the person's safety until help arrives. Do not provide any medical advice or try to diagnose their condition. Contact the authorities so they can get the appropriate support. I hope this helps provide some guidance in this situation.\n",
      "Sources: [<a href=\"https://www.alzheimers.org.uk/about-dementia/symptoms-and-diagnosis/supporting-person-dementia-who-walks-about\">1</a>] [<a href=\"https://www.alzheimers.org.uk/about-dementia/symptoms-and-diagnosis/symptoms/communication-memory-loss\">2</a>] \n",
      "==================================\u001b[1m Ai Message \u001b[0m==================================\n",
      "\n",
      "Based on the information provided in the context, here are some early warning signs of dementia:\n",
      "\n",
      "- Difficulty planning or solving problems\n",
      "- Trouble completing familiar tasks at home, work, or leisure\n",
      "- Confusion with time or place\n",
      "- New problems with words in speaking or writing\n",
      "- Misplacing things and not being able to retrace steps\n",
      "- Decreased or poor judgment\n",
      "- Withdrawal from work or social activities\n",
      "- Changes in mood or personality\n",
      "\n",
      "The context also mentions that forgetting things you were recently told, being unable to learn new tasks, struggling to stay focused on a single task, and having frequent problems finding the right words can be early signs of dementia. \n",
      "\n",
      "If you are concerned about these types of symptoms, I would encourage you to speak to a healthcare professional for an evaluation. They can help determine if it's dementia or something else and provide guidance on next steps. Please let me know if you have any other questions!\n",
      "Sources: [<a href=\"https://www.cdc.gov/alzheimers-dementia/signs-symptoms/alzheimers.html\">1</a>] [<a href=\"https://www.alzheimers.org.uk/about-dementia/worried-about-memory-problems/is-it-getting-older-or-dementia\">2</a>] [<a href=\"https://www.cdc.gov/alzheimers-dementia/signs-symptoms/index.html\">3</a>] \n",
      "==================================\u001b[1m Ai Message \u001b[0m==================================\n",
      "\n",
      "I'm sorry to hear your mom is having a difficult day. Here are a few suggestions that may help:\n",
      "\n",
      "Don't argue with her about the car keys. That could escalate the situation. Instead, try to understand what need she is trying to meet by asking for the keys. She may feel a desire for independence or to go home. \n",
      "\n",
      "You could gently acknowledge her feelings, saying something like \"I know you want to go out right now. What is it about that that you're missing?\" Then try to address the underlying need, perhaps by offering to go for a short walk together or looking at old photos to reminisce about home.\n",
      "\n",
      "Avoid directly refusing her the keys, as this could make her more upset. Instead, try to redirect her attention to something soothing or engaging. Ultimately, your goal is to provide comfort and meet her needs, not to control the situation.\n",
      "\n",
      "If she becomes agitated or aggressive, leave the situation and seek help from other family members or professionals if needed. Your safety and hers is the priority. I know these situations can be very challenging, but try to stay calm and empathetic. Let me know if you have any other questions.\n",
      "Sources: [<a href=\"https://www.alzheimers.org.uk/about-dementia/symptoms-and-diagnosis/difficult-questions-and-telling-truth-dementia\">1</a>] [<a href=\"https://www.alzheimers.org.uk/about-dementia/symptoms-and-diagnosis/symptoms/preventing-aggression\">2</a>] \n"
     ]
    },
    {
     "data": {
      "text/plain": [
       "(AIMessage(content='I\\'m sorry to hear your mom is having a difficult day. Here are a few suggestions that may help:\\n\\nDon\\'t argue with her about the car keys. That could escalate the situation. Instead, try to understand what need she is trying to meet by asking for the keys. She may feel a desire for independence or to go home. \\n\\nYou could gently acknowledge her feelings, saying something like \"I know you want to go out right now. What is it about that that you\\'re missing?\" Then try to address the underlying need, perhaps by offering to go for a short walk together or looking at old photos to reminisce about home.\\n\\nAvoid directly refusing her the keys, as this could make her more upset. Instead, try to redirect her attention to something soothing or engaging. Ultimately, your goal is to provide comfort and meet her needs, not to control the situation.\\n\\nIf she becomes agitated or aggressive, leave the situation and seek help from other family members or professionals if needed. Your safety and hers is the priority. I know these situations can be very challenging, but try to stay calm and empathetic. Let me know if you have any other questions.', additional_kwargs={}, response_metadata={'id': 'msg_01Wvk3pfTaSFFvTbQF9zCSKf', 'model': 'claude-3-haiku-20240307', 'stop_reason': 'end_turn', 'stop_sequence': None, 'usage': {'input_tokens': 2340, 'output_tokens': 250}}, id='run-e95d147f-9e1d-4911-bf56-913c0ed42a1e-0', usage_metadata={'input_tokens': 2340, 'output_tokens': 250, 'total_tokens': 2590, 'input_token_details': {}}),\n",
       " [Document(metadata={'chunk_id': 3, 'url': 'https://www.alzheimers.org.uk/about-dementia/symptoms-and-diagnosis/difficult-questions-and-telling-truth-dementia', 'title': \"Difficult questions and telling the truth to a person with dementia | Alzheimer's Society\", '_id': '03484568-e562-4718-ba76-e6f9d9707eff', '_collection_name': 'DementiaCare_Semantic'}, page_content=\"however, it is often not easy to manage these questions on a regular basis and it is important you have as much support around you as you need. it can be helpful to hear from other carers about approaches they have tried, and what worked for them. advice tag: advice. carers: looking after yourself supporting a person with dementia can be positive and rewarding, but it can also be challenging. looking after yourself is important for both you and the person you are supporting. read more difficult questions a person with dementia might ask and how to respond asking for a partner, friend or relative who has died if they are asking for a partner, relative or friend who has died, telling the person the truth may shock and upset them, as it will feel like the first time they have heard the news. as they may well have short-term memory problems , they could experience the shock of grief repeatedly if they continue to be told every time they ask. some carers choose to tell the person initially, but do not repeat if it becomes a recurring question. you may feel that reducing the person’s distress is more important than telling them the truth. if you choose to tell the truth in this scenario, try to give them the news in a sensitive and compassionate way, offering warmth and support. think about whether it is in their best interests to continue to be told this news every time they ask. try not to give details of how and when it happened if it was long ago, as this can add to the confusion caused by their time-shifting. our dementia advisers are here for you. 0333 150 3456 try not to ignore the question. the person may continue to feel distressed if their concern for their loved one is being dismissed. you may need to acknowledge their question first, perhaps by saying ‘i don’t know the answer to that at the moment. is there a reason that you need them?’ or, instead of answering the question directly, you could say ‘do you miss your mum?’ and encourage them to talk about their mother, possibly using photos to reminisce. they may be asking about a particular person as they have an unmet need, which this person may have provided earlier in their life. this could be a sense of security a partner gave them, or the love their mother gave them. try and explore this and allow them to talk about the person they miss. you might use phrases to show you understand how they are feeling, such as ‘it sounds like you’re missing your mum at the moment?’, or ‘you must be lonely without your husband?’. try to meet the need, for example for security or affection, as best you can. 'this is me': free dementia resource to help support people receiving care download and print our simple leaflet for recording details about a person with dementia who can't easily share information about themselves. download 'this is me' asking to go home if someone asks to go home , describing a place they have lived in the past: try not to argue about whether where they are is ‘home’. if they don’t recognise it as ‘home’ at that moment, then for that moment it isn’t home.\"),\n",
       "  Document(metadata={'url': 'https://www.alzheimers.org.uk/about-dementia/symptoms-and-diagnosis/difficult-questions-and-telling-truth-dementia', 'chunk_id': 3, 'title': \"Difficult questions and telling the truth to a person with dementia | Alzheimer's Society\", '_id': '8a64ab3d-0be3-40f1-8322-9034ac74d042', '_collection_name': 'DementiaCare_Fixed'}, page_content=\"question first, perhaps by saying ‘i don’t know the answer to that at the moment. is there a reason that you need them?’ or, instead of answering the question directly, you could say ‘do you miss your mum?’ and encourage them to talk about their mother, possibly using photos to reminisce. they may be asking about a particular person as they have an unmet need, which this person may have provided earlier in their life. this could be a sense of security a partner gave them, or the love their mother gave them. try and explore this and allow them to talk about the person they miss. you might use phrases to show you understand how they are feeling, such as ‘it sounds like you’re missing your mum at the moment?’, or ‘you must be lonely without your husband?’. try to meet the need, for example for security or affection, as best you can. 'this is me': free dementia resource to help support people receiving care download and print our simple leaflet for recording details about a person with dementia who can't easily share information about themselves. download 'this is me' asking to go home if someone asks to go home , describing a place they have lived in the past: try not to argue about whether where they are is ‘home’. if they don’t recognise it as ‘home’ at that moment, then for that moment it isn’t home. ask if there is anything you can do to make them happier where they are now. often when a person with dementia asks to go home it refers to the sense of home rather than home\"),\n",
       "  Document(metadata={'url': 'https://www.alzheimers.org.uk/about-dementia/symptoms-and-diagnosis/difficult-questions-and-telling-truth-dementia', 'title': \"Difficult questions and telling the truth to a person with dementia | Alzheimer's Society\", 'chunk_id': 4, '_id': 'cd4a084d-8eb4-485c-a83a-bb0177716103', '_collection_name': 'DementiaCare_Semantic'}, page_content='ask if there is anything you can do to make them happier where they are now. often when a person with dementia asks to go home it refers to the sense of home rather than home itself. find out where ‘home’ is for them – and what they like about it. reassure the person that they are safe and cared for. check that they are comfortable, not too hot or cold, hungry or thirsty, or needing to use the toilet. keep a photograph album to hand, to gently distract them. sometimes looking at pictures from their past and being given the chance to reminisce will ease feelings of anxiety. it might be best to avoid asking questions about the picture or the past, instead trying to make comments: ‘that looks like uncle vijay. granny told me about the time he....’ distracting them with food or other activities, such as a walk. ask them as many details as possible about their home and consider completing a ‘herbert protocol’ with previous addresses in case they try and return there. a herbert protocol is designed to help the police if a vulnerable person goes missing. visit the website for your local police for more information. when is it okay to lie to someone with dementia? we discuss the difficult choices and situations around lying to a person with dementia to protect their feelings. read more page last reviewed: 16 january 2023 previous section previous 4. time-shifting and dementia next section next 6. changes in perception - useful organisations sign up for dementia support by email our regular support email includes the latest dementia advice, resources, real stories and more. '),\n",
       "  Document(metadata={'title': \"Preventing and managing aggressive behaviour in people with dementia | Alzheimer's Society\", 'url': 'https://www.alzheimers.org.uk/about-dementia/symptoms-and-diagnosis/symptoms/preventing-aggression', 'chunk_id': 4, '_id': 'da7d6ed8-9f51-4ba8-b8d7-4cf71f2cae0b', '_collection_name': 'DementiaCare_Fixed'}, page_content=\"– the person may see this as threatening behaviour. reassure the person and acknowledge their feelings. think about how they are feeling, what they are trying to express, and how you can support them emotionally. for example, if the person is angry because they are being stopped from picking up their children from school, acknowledge that they want to look after their children and reassure them that they are safe. for more information on managing situations like this see how can dementia change a person's perception? listen to what they are saying. try to keep your body language open (for example by not crossing your arms) and stay calm. it can also help if your body language is similar to the person’s. for example, if they are sitting down with their arms on their lap, you may want to mirror this. this shows that you are not against them and that you want to help. keep eye contact and try to explain calmly why you are there. gently encourage the person to communicate with you. if you are trying to support the person with an activity or task, think about whether it needs to be done at that moment. if you are able to, give them space, come back later and try again. try to distract the person’s attention if they continue to be angry. if the person is physically violent, walk away from the situation and seek help. when the behaviour has passed try not to blame or punish the person for the behaviour. they may have forgotten what happened, and may become confused or distressed if\")])"
      ]
     },
     "execution_count": 15,
     "metadata": {},
     "output_type": "execute_result"
    }
   ],
   "source": [
    "await answer_question(\"i found an old man walking by the side of the road and he doesn't remember anything, what should i do?\")\n",
    "await answer_question(\"what are some early warning signs of dementia?\")\n",
    "await answer_question(\"my mom is having a bad day and wants the car keys, what do i do?\")"
   ]
  }
 ],
 "metadata": {
  "kernelspec": {
   "display_name": "care-companion-notebooks-env",
   "language": "python",
   "name": "python3"
  },
  "language_info": {
   "codemirror_mode": {
    "name": "ipython",
    "version": 3
   },
   "file_extension": ".py",
   "mimetype": "text/x-python",
   "name": "python",
   "nbconvert_exporter": "python",
   "pygments_lexer": "ipython3",
   "version": "3.9.12"
  }
 },
 "nbformat": 4,
 "nbformat_minor": 2
}
