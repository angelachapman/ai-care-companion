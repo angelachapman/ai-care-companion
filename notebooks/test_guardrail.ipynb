{
 "cells": [
  {
   "cell_type": "code",
   "execution_count": null,
   "metadata": {
    "vscode": {
     "languageId": "plaintext"
    }
   },
   "outputs": [],
   "source": [
    "    guardrails_llm = ChatAnthropic(\n",
    "        model=HAIKU,    \n",
    "        anthropic_api_key=ANTHROPIC_API_KEY,\n",
    "        temperature = TEMPERATURE,\n",
    "        top_p = TOP_P,\n",
    "        max_tokens = 1\n",
    "    )"
   ]
  },
  {
   "cell_type": "code",
   "execution_count": null,
   "metadata": {
    "vscode": {
     "languageId": "plaintext"
    }
   },
   "outputs": [],
   "source": [
    "GUARDRAILS_PROMPT = \"\"\"\n",
    "Does the chatbot statement contain FACTS or CLAIMS that are not supported by the context? Reply Y for Yes and N for No.\n",
    "\n",
    "<context>\n",
    "{context}\n",
    "\n",
    "{tool_output}\n",
    "</context>\n",
    "\n",
    "<chatbot_statement>\n",
    "{response}\n",
    "<chatbot_statement>\n",
    "\n",
    "Reply: \n",
    "\"\"\""
   ]
  },
  {
   "cell_type": "markdown",
   "metadata": {},
   "source": [
    "If No: continue\n",
    "If Yes: erase, put up a temporary message, and regenerate the response (make sure to handle chat memory)"
   ]
  }
 ],
 "metadata": {
  "language_info": {
   "name": "python"
  }
 },
 "nbformat": 4,
 "nbformat_minor": 2
}
