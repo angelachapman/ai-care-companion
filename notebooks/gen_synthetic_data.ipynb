{
 "cells": [
  {
   "cell_type": "markdown",
   "metadata": {},
   "source": [
    "**Step 0: Imports, constants, and API Keys!**"
   ]
  },
  {
   "cell_type": "code",
   "execution_count": 1,
   "metadata": {},
   "outputs": [],
   "source": [
    "from dotenv import load_dotenv\n",
    "import os\n",
    "\n",
    "load_dotenv('../app/.env')\n",
    "\n",
    "OPENAI_API_KEY = os.getenv(\"OPENAI_API_KEY\")\n",
    "\n",
    "if not OPENAI_API_KEY:\n",
    "    print(\"Error retrieving API keys\")"
   ]
  },
  {
   "cell_type": "markdown",
   "metadata": {},
   "source": [
    "**Step 1: Generate synthetic data**"
   ]
  },
  {
   "cell_type": "code",
   "execution_count": 11,
   "metadata": {},
   "outputs": [],
   "source": [
    "from ragas.testset import TestsetGenerator\n",
    "from langchain_openai import ChatOpenAI, OpenAIEmbeddings\n",
    "\n",
    "generator_llm = ChatOpenAI()\n",
    "critic_llm = ChatOpenAI(model=\"gpt-4o\")\n",
    "embeddings = OpenAIEmbeddings()\n",
    "\n",
    "# Initialize data generator and set up distributions\n",
    "generator = TestsetGenerator.from_langchain(llm=ChatOpenAI())"
   ]
  },
  {
   "cell_type": "code",
   "execution_count": 12,
   "metadata": {},
   "outputs": [
    {
     "name": "stdout",
     "output_type": "stream",
     "text": [
      "loaded 216 docs\n"
     ]
    }
   ],
   "source": [
    "# load the document corpus, then generate the synthetic test set\n",
    "myfile = \"source_documents.json\"\n",
    "\n",
    "import json\n",
    "from langchain.schema import Document\n",
    "\n",
    "# Load JSON data\n",
    "with open(myfile, 'r') as file:\n",
    "    data = json.load(file)\n",
    "\n",
    "# Convert JSON data into a list of LangChain Document objects\n",
    "docs = [\n",
    "    Document(page_content=item[\"page_content\"], metadata=item.get(\"metadata\",{}))\n",
    "    for item in data\n",
    "]\n",
    "\n",
    "print(f\"loaded {len(docs)} docs\")\n"
   ]
  },
  {
   "cell_type": "code",
   "execution_count": 13,
   "metadata": {},
   "outputs": [
    {
     "name": "stdout",
     "output_type": "stream",
     "text": [
      "len(docs): 216, len(split_docs):687\n"
     ]
    }
   ],
   "source": [
    "from langchain.text_splitter import RecursiveCharacterTextSplitter\n",
    "text_splitter = RecursiveCharacterTextSplitter(\n",
    "    chunk_size=3000, # use a different chunk size from the app       \n",
    "    chunk_overlap=100,     \n",
    ")\n",
    "\n",
    "split_docs = []\n",
    "\n",
    "for doc in docs:\n",
    "\n",
    "    splits = text_splitter.split_text(doc.page_content)\n",
    "    for i,split in enumerate(splits):\n",
    "        metadata_with_chunk = {**doc.metadata, \"chunk_id\": i}\n",
    "            \n",
    "        # Create the document with the updated metadata\n",
    "        split_doc = Document(page_content=split, metadata=metadata_with_chunk)\n",
    "        split_docs.append(split_doc)\n",
    "\n",
    "print(f\"len(docs): {len(docs)}, len(split_docs):{len(split_docs)}\")"
   ]
  },
  {
   "cell_type": "markdown",
   "metadata": {},
   "source": [
    "Keep the default distributions: 50% reasoning, 30% simple, 20% multi-context"
   ]
  },
  {
   "cell_type": "code",
   "execution_count": null,
   "metadata": {},
   "outputs": [
    {
     "name": "stderr",
     "output_type": "stream",
     "text": [
      "Applying [SummaryExtractor, HeadlinesExtractor]:  34%|███▍      | 466/1374 [00:50<01:51,  8.17it/s]Prompt fix_output_format failed to parse output: The output parser failed to parse the output after 0 retries.\n",
      "Prompt headlines_extractor_prompt failed to parse output: The output parser failed to parse the output after 0 retries.\n",
      "unable to apply transformation: The output parser failed to parse the output after 0 retries.\n",
      "Applying [SummaryExtractor, HeadlinesExtractor]:  67%|██████▋   | 923/1374 [01:43<00:52,  8.64it/s]Prompt headlines_extractor_prompt failed to parse output: The output parser failed to parse the output after 0 retries.\n",
      "unable to apply transformation: The output parser failed to parse the output after 0 retries.\n",
      "Applying HeadlineSplitter:   0%|          | 1/687 [00:00<01:45,  6.51it/s]                          unable to apply transformation: 'headlines' property not found in this node\n",
      "unable to apply transformation: 'headlines' property not found in this node\n",
      "Applying [EmbeddingExtractor, KeyphrasesExtractor, TitleExtractor]:  58%|█████▊    | 5102/8865 [11:22<20:45,  3.02it/s] "
     ]
    }
   ],
   "source": [
    "testset = generator.generate_with_langchain_docs(split_docs, 30, with_debugging_logs=True)"
   ]
  },
  {
   "cell_type": "markdown",
   "metadata": {},
   "source": [
    "**Step 2: Save for later re-use**"
   ]
  },
  {
   "cell_type": "code",
   "execution_count": 9,
   "metadata": {},
   "outputs": [],
   "source": [
    "import pandas as pd\n",
    "\n",
    "# Generating the test data costs money, time, and compute, so make sure to save it for later re-use\n",
    "test_df = testset.to_pandas().to_csv(\"ragas_test_data.csv\",index=False)\n"
   ]
  }
 ],
 "metadata": {
  "kernelspec": {
   "display_name": "care-companion-notebooks-env",
   "language": "python",
   "name": "python3"
  },
  "language_info": {
   "codemirror_mode": {
    "name": "ipython",
    "version": 3
   },
   "file_extension": ".py",
   "mimetype": "text/x-python",
   "name": "python",
   "nbconvert_exporter": "python",
   "pygments_lexer": "ipython3",
   "version": "3.9.12"
  }
 },
 "nbformat": 4,
 "nbformat_minor": 2
}
