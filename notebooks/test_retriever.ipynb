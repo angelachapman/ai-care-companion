{
 "cells": [
  {
   "cell_type": "markdown",
   "metadata": {},
   "source": [
    "Import environment variables"
   ]
  },
  {
   "cell_type": "code",
   "execution_count": 22,
   "metadata": {},
   "outputs": [],
   "source": [
    "!pip install -q langchain==0.2.16 langchain-openai ragas==0.1.14 pandas langchain-qdrant qdrant-client python-dotenv langchain-anthropic langchain_experimental"
   ]
  },
  {
   "cell_type": "code",
   "execution_count": 8,
   "metadata": {},
   "outputs": [],
   "source": [
    "from dotenv import load_dotenv\n",
    "import os\n",
    "\n",
    "load_dotenv('../app/.env')\n",
    "\n",
    "OPENAI_API_KEY = os.getenv(\"OPENAI_API_KEY\")\n",
    "ANTHROPIC_API_KEY = os.getenv(\"ANTHROPIC_API_KEY\")\n",
    "\n",
    "if not OPENAI_API_KEY or not ANTHROPIC_API_KEY:\n",
    "    print(\"Error retrieving API keys\")"
   ]
  },
  {
   "cell_type": "markdown",
   "metadata": {},
   "source": [
    "Load our document corpus from a file. (fetch_data.ipynb can be used to generate the file)"
   ]
  },
  {
   "cell_type": "code",
   "execution_count": 9,
   "metadata": {},
   "outputs": [
    {
     "name": "stdout",
     "output_type": "stream",
     "text": [
      "loaded 216 docs\n"
     ]
    }
   ],
   "source": [
    "myfile = \"source_documents.json\"\n",
    "\n",
    "import json\n",
    "from langchain.schema import Document\n",
    "\n",
    "# Load JSON data\n",
    "with open(myfile, 'r') as file:\n",
    "    data = json.load(file)\n",
    "\n",
    "# Convert JSON data into a list of LangChain Document objects\n",
    "docs = [\n",
    "    Document(page_content=item[\"page_content\"], metadata=item[\"metadata\"])\n",
    "    for item in data\n",
    "]\n",
    "\n",
    "print(f\"loaded {len(docs)} docs\")"
   ]
  },
  {
   "cell_type": "markdown",
   "metadata": {},
   "source": [
    "Baseline chunking strategy: Fixed width, 1500 chars"
   ]
  },
  {
   "cell_type": "code",
   "execution_count": 3,
   "metadata": {},
   "outputs": [
    {
     "name": "stdout",
     "output_type": "stream",
     "text": [
      "len(docs): 216, len(split_docs):1349\n",
      "page_content='alzheimer's disease and dementia | alzheimer's disease and dementia | cdc     alzheimer's disease and dementia alzheimer's basics learn about signs and symptoms of alzheimer's disease and who is affected. aug. 15, 2024 dementia basics learn about common types of dementia, signs and symptoms, and risk factors. aug. 17, 2024 signs and symptoms of alzheimer's learn how to recognize the early signs of alzheimer's disease. signs and symptoms of dementia learn what early signs and symptoms of dementia to look out for. tools and resources find a variety of resources about alzheimer’s disease and healthy aging. reducing risk learn what lifestyle behaviors can reduce the risk of developing dementia. additional topics healthy aging at any age information to help you stay healthy and strong throughout your life. sept. 3, 2024 alzheimer's disease program evidence-based, scientific information to educate, inform, and assist translating research into publ... july 2, 2024 caregiving find information about caregiving, self-care, and care plan creation. sept. 3, 2024 healthy aging data national and state level cdc data for older adults on a range of health and well-being key indicators. aug. 27, 2024 alzheimer's disease and dementia dementia is not a specific disease. it is a general term for having trouble remembering, thinking, or making decisions that affect everyday activities. view all for everyone dementia basics signs and symptoms of dementia reducing risk campaign public health public' metadata={'url': 'https://www.cdc.gov/alzheimers-dementia', 'title': \"Alzheimer's Disease and Dementia | Alzheimer's Disease and Dementia | CDC\", 'chunk_id': 0}\n"
     ]
    }
   ],
   "source": [
    "from langchain.text_splitter import RecursiveCharacterTextSplitter\n",
    "text_splitter = RecursiveCharacterTextSplitter(\n",
    "    chunk_size=1500,       \n",
    "    chunk_overlap=150,     \n",
    ")\n",
    "\n",
    "split_docs = []\n",
    "\n",
    "for doc in docs:\n",
    "\n",
    "    splits = text_splitter.split_text(doc.page_content)\n",
    "    for i,split in enumerate(splits):\n",
    "        metadata_with_chunk = {**doc.metadata, \"chunk_id\": i}\n",
    "            \n",
    "        # Create the document with the updated metadata\n",
    "        split_doc = Document(page_content=split, metadata=metadata_with_chunk)\n",
    "        split_docs.append(split_doc)\n",
    "\n",
    "print(f\"len(docs): {len(docs)}, len(split_docs):{len(split_docs)}\")\n",
    "print(split_docs[0])"
   ]
  },
  {
   "cell_type": "code",
   "execution_count": 10,
   "metadata": {},
   "outputs": [],
   "source": [
    "from langchain_openai import OpenAIEmbeddings\n",
    "embedding_model = \"text-embedding-3-large\"\n",
    "openai_embeddings = OpenAIEmbeddings(\n",
    "    model=embedding_model,\n",
    "    openai_api_key=OPENAI_API_KEY  \n",
    ")"
   ]
  },
  {
   "cell_type": "code",
   "execution_count": 28,
   "metadata": {},
   "outputs": [
    {
     "name": "stderr",
     "output_type": "stream",
     "text": [
      "100%|██████████| 216/216 [03:01<00:00,  1.19it/s]"
     ]
    },
    {
     "name": "stdout",
     "output_type": "stream",
     "text": [
      "len(docs): 216, len(semantic_split_docs):1074\n",
      "page_content='alzheimer's disease and dementia | alzheimer's disease and dementia | cdc     alzheimer's disease and dementia alzheimer's basics learn about signs and symptoms of alzheimer's disease and who is affected. aug. 15, 2024 dementia basics learn about common types of dementia, signs and symptoms, and risk factors. aug. 17, 2024 signs and symptoms of alzheimer's learn how to recognize the early signs of alzheimer's disease. signs and symptoms of dementia learn what early signs and symptoms of dementia to look out for. tools and resources find a variety of resources about alzheimer’s disease and healthy aging. reducing risk learn what lifestyle behaviors can reduce the risk of developing dementia. additional topics healthy aging at any age information to help you stay healthy and strong throughout your life. sept. 3, 2024 alzheimer's disease program evidence-based, scientific information to educate, inform, and assist translating research into publ... july 2, 2024 caregiving find information about caregiving, self-care, and care plan creation. sept. 3, 2024 healthy aging data national and state level cdc data for older adults on a range of health and well-being key indicators. aug.' metadata={'url': 'https://www.cdc.gov/alzheimers-dementia', 'title': \"Alzheimer's Disease and Dementia | Alzheimer's Disease and Dementia | CDC\", 'chunk_id': 0}\n"
     ]
    },
    {
     "name": "stderr",
     "output_type": "stream",
     "text": [
      "\n"
     ]
    }
   ],
   "source": [
    "from langchain_experimental.text_splitter import SemanticChunker\n",
    "from tqdm import tqdm\n",
    "\n",
    "semantic_text_splitter = SemanticChunker(openai_embeddings,\n",
    "    breakpoint_threshold_type=\"percentile\")\n",
    "\n",
    "semantic_split_docs = []\n",
    "\n",
    "for doc in tqdm(docs):\n",
    "\n",
    "    splits = semantic_text_splitter.split_text(doc.page_content)\n",
    "    for i,split in enumerate(splits):\n",
    "        metadata_with_chunk = {**doc.metadata, \"chunk_id\": i}\n",
    "            \n",
    "        # Create the document with the updated metadata\n",
    "        semantic_split_doc = Document(page_content=split, metadata=metadata_with_chunk)\n",
    "        semantic_split_docs.append(semantic_split_doc)\n",
    "\n",
    "print(f\"len(docs): {len(docs)}, len(semantic_split_docs):{len(semantic_split_docs)}\")\n",
    "print(semantic_split_docs[0])"
   ]
  },
  {
   "cell_type": "markdown",
   "metadata": {},
   "source": [
    "Let's add the docs to a vector store. Make sure qdrant is running first (see README.md for more details). We can create it once and re-use it after that."
   ]
  },
  {
   "cell_type": "code",
   "execution_count": 11,
   "metadata": {},
   "outputs": [
    {
     "name": "stdout",
     "output_type": "stream",
     "text": [
      "collections=[CollectionDescription(name='DementiaCare_Semantic'), CollectionDescription(name='PottyTraining'), CollectionDescription(name='DementiaCare_Fixed')]\n"
     ]
    }
   ],
   "source": [
    "from langchain_qdrant import QdrantVectorStore\n",
    "from qdrant_client import QdrantClient\n",
    "\n",
    "url=\"http://localhost:6333\"\n",
    "\n",
    "client = QdrantClient(url=url, prefer_grpc=True)\n",
    "print(client.get_collections())\n",
    "\n",
    "# Delete any existing collections here, otherwise the code below will extend rather than overwrite them"
   ]
  },
  {
   "cell_type": "code",
   "execution_count": 12,
   "metadata": {},
   "outputs": [],
   "source": [
    "collection_name_fixed = \"DementiaCare_Fixed\"\n",
    "collection_name_semantic = \"DementiaCare_Semantic\"\n"
   ]
  },
  {
   "cell_type": "code",
   "execution_count": null,
   "metadata": {},
   "outputs": [],
   "source": [
    "\n",
    "client.delete_collection(collection_name_fixed)\n",
    "try:\n",
    "    qdrant_vector_store_fixed = QdrantVectorStore.from_documents(\n",
    "        split_docs,\n",
    "        openai_embeddings,\n",
    "        url=url,\n",
    "        prefer_grpc=True,\n",
    "        collection_name=collection_name_fixed,\n",
    "    )\n",
    "except Exception as e:\n",
    "    print(f\"Encountered error creating vector store: {e}\")\n",
    "\n",
    "if qdrant_vector_store_fixed: print(f\"Created vector store {collection_name_fixed}\")\n"
   ]
  },
  {
   "cell_type": "code",
   "execution_count": null,
   "metadata": {},
   "outputs": [],
   "source": [
    "\n",
    "client.delete_collection(collection_name_semantic)\n",
    "try:\n",
    "    qdrant_vector_store_semantic = QdrantVectorStore.from_documents(\n",
    "        semantic_split_docs,\n",
    "        openai_embeddings,\n",
    "        url=url,\n",
    "        prefer_grpc=True,\n",
    "        collection_name=collection_name_semantic,\n",
    "    )\n",
    "except Exception as e:\n",
    "    print(f\"Encountered error creating vector store: {e}\")\n",
    "\n",
    "if qdrant_vector_store_semantic: print(f\"Created vector store {collection_name_semantic}\")\n",
    "\n",
    "print(client.get_collections())\n"
   ]
  },
  {
   "cell_type": "code",
   "execution_count": 13,
   "metadata": {},
   "outputs": [],
   "source": [
    "# If the collections already exist, just load them\n",
    "from langchain_qdrant import QdrantVectorStore\n",
    "url=\"http://localhost:6333\"\n",
    "\n",
    "\n",
    "store_fixed = QdrantVectorStore.from_existing_collection(\n",
    "    embedding=openai_embeddings,\n",
    "    collection_name=collection_name_fixed,\n",
    "    url=url\n",
    ")\n",
    "\n",
    "store_semantic = QdrantVectorStore.from_existing_collection(\n",
    "    embedding=openai_embeddings,\n",
    "    collection_name=collection_name_semantic,\n",
    "    url=url\n",
    ")"
   ]
  },
  {
   "cell_type": "markdown",
   "metadata": {},
   "source": [
    "Set up RAGAS"
   ]
  },
  {
   "cell_type": "code",
   "execution_count": 14,
   "metadata": {},
   "outputs": [
    {
     "name": "stderr",
     "output_type": "stream",
     "text": [
      "/Users/Angela/Desktop/ai_makerspace/code/ai-care-companion/synthetic-data-env/lib/python3.9/site-packages/tqdm/auto.py:21: TqdmWarning: IProgress not found. Please update jupyter and ipywidgets. See https://ipywidgets.readthedocs.io/en/stable/user_install.html\n",
      "  from .autonotebook import tqdm as notebook_tqdm\n"
     ]
    }
   ],
   "source": [
    "from ragas.metrics import (\n",
    "    faithfulness,\n",
    "    answer_relevancy,\n",
    "    context_precision,\n",
    "    context_recall\n",
    ")\n",
    "RAGAS_METRICS = [ faithfulness, answer_relevancy, context_precision, context_recall ]"
   ]
  },
  {
   "cell_type": "markdown",
   "metadata": {},
   "source": [
    "Set up retrievers"
   ]
  },
  {
   "cell_type": "code",
   "execution_count": 15,
   "metadata": {},
   "outputs": [
    {
     "name": "stdout",
     "output_type": "stream",
     "text": [
      "page_content='dementia caregivers, though the phenomenon appears to be more severe or extreme for dementia caregivers. Further, dementia caregivers more often experience emotional stress and physical strain than do non-dementia caregivers—a situation that contributes to the disproportionately worsening health among dementia caregivers. Prior research has documented the ways caregiving can affect caregivers’ health and well-being. Caregiving has been associated with higher levels depression and anxiety, compromised immune function, and increased mortality.17 These negative health impacts mean that caregiving is a crucially important public health issue—caregivers’ health suffers under the pressure of caregiving responsibilities, and such decline in health compromises the caregiver’s ability to provide care. This problem is particularly pressing for dementia caregivers, as health impacts are worse and loved ones rely on these caregivers for more daily assistance. Therefore, it is critical to improve the resources and help available to dementia caregivers so that they can easily and adequately care for their loved ones and for themselves. 17 Centers for Disease Control and Prevention and the Kimberly-Clark Corporation, “Assuring Healthy Caregivers, A Public Health Approach to Translating Research into Practice: The RE-AIM Framework,” Kimberly-Clark Corporation, Neenah, WI, 2008.' metadata={'url': 'https://www.caregiving.org/wp-content/uploads/2020/05/Dementia-Caregiving-in-the-US_February-2017.pdf', 'chunk_id': 47, '_id': '54fdf9f9-aede-4958-aef3-abaf7636c466', '_collection_name': 'DementiaCare_Fixed'}\n",
      "page_content='significantly fewer than working female dementia caregivers (65 percent)\n",
      "27 Figure 25: Work Impacts Due to Caregiving Q34: As a result of caregiving, did you ever experience any of these things at work? Financial Impacts of Caregiving Nearly one in five dementia caregivers (19 percent) reports high financial strain due to caring for their loved one, similar to the figure for non-dementia caregivers (17 percent). As mentioned previously, 28 percent say it is difficult to find affordable services in their loved one’s area. In response to three different proposals intended to provide financial relief for caregivers, dementia caregivers tended to prefer a tax credit (33 percent) or programs that include a stipend for at least some of the hours they provide care (28 percent). Figure 26: Proposals to Provide Financial Aid to Caregivers Q47a: Below are some ways that people are proposing to help caregivers financially. Which one would you find/have found most helpful? Dementia Caregiver (n=372) Non-Dementia Caregiver (n=963) Income tax credit to caregivers, to help offset the cost of care 33% 29% Program where caregivers could be paid for at least some of the hours they provide care 28% 31% Partially paid leave of absence from work, for employed caregiversa 12% 11% Not sure 26% 29% a Support for partially paid work leave was similar among dementia caregivers who were employed (13 percent) and not employed (11 percent).' metadata={'url': 'https://www.caregiving.org/wp-content/uploads/2020/05/Dementia-Caregiving-in-the-US_February-2017.pdf', 'chunk_id': 58, '_id': '40db1829-e523-4d3d-a460-98e409eeb8a9', '_collection_name': 'DementiaCare_Fixed'}\n",
      "page_content='2 Considering all of the responsibilities that dementia caregivers often shoulder, it is of no surprise that the Burden of Care Index2 shows them as one of the more burdened groups of caregivers. Nearly half of dementia caregivers are in a high-burden situation. Dementia caregivers are not the most-burdened group—for example, cancer caregivers are more likely to be in high-burden care relationships (62 percent).3 However, whereas cancer caregiver relationships are short and episodic, dementia caregiver relationships tend to be longer: nearly seven in ten (69 percent) dementia caregivers have provided care for more than a year, and three in ten have provided care for more than five years. This high burden of care over a longer period can take a significant mental and physical toll on dementia caregivers. Nearly half of dementia caregivers say providing care is emotionally stressful, and three in ten say that providing care often involves physical strain. Ultimately, this physical and emotional stress appears to have a negative impact on the health of many dementia caregivers. About four in ten (42 percent) say their health is “excellent” or “very good”—statistically significantly lower than the share among non-dementia caregivers (50 percent). Alarmingly, dementia caregivers are nearly twice as likely to say that their health has gotten worse as a result of their caregiving responsibilities. More than one in three dementia caregivers says their health has declined (35' metadata={'url': 'https://www.caregiving.org/wp-content/uploads/2020/05/Dementia-Caregiving-in-the-US_February-2017.pdf', 'chunk_id': 10, '_id': '51850131-5aff-4534-a387-e41151b647b7', '_collection_name': 'DementiaCare_Fixed'}\n"
     ]
    }
   ],
   "source": [
    "from langchain.retrievers import EnsembleRetriever\n",
    "\n",
    "mmr_retriever_fixed = store_fixed.as_retriever(\n",
    "    search_type=\"mmr\",\n",
    "    search_kwargs={'k': 10, 'lambda_mult': 0.1}\n",
    ")\n",
    "similarity_retriever_fixed = store_fixed.as_retriever(k=10)\n",
    "ensemble_retriever_fixed = EnsembleRetriever(retrievers=[mmr_retriever_fixed,similarity_retriever_fixed])\n",
    "\n",
    "results = ensemble_retriever_fixed.invoke(\"How does stress impact dementia caregivers?\")\n",
    "for result in results[:3]: print(result)"
   ]
  },
  {
   "cell_type": "code",
   "execution_count": 16,
   "metadata": {},
   "outputs": [
    {
     "name": "stdout",
     "output_type": "stream",
     "text": [
      "\n",
      "\n",
      "page_content='Levine, and S. Samis, “Home Alone: Family Caregivers Providing Complex Chronic Care,” AARP Public Policy Institute & United Hospital Fund, 2012. 2 Considering all of the responsibilities that dementia caregivers often shoulder, it is of no surprise that the Burden of Care Index2 shows them as one of the more burdened groups of caregivers. Nearly half of dementia caregivers are in a high-burden situation. Dementia caregivers are not the most-burdened group—for example, cancer caregivers are more likely to be in high-burden care relationships (62 percent).3 However, whereas cancer caregiver relationships are short and episodic, dementia caregiver relationships tend to be longer: nearly seven in ten (69 percent) dementia caregivers have provided care for more than a year, and three in ten have provided care for more than five years. This high burden of care over a longer period can take a significant mental and physical toll on dementia caregivers. Nearly half of dementia caregivers say providing care is emotionally stressful, and three in ten say that providing care often involves physical strain. Ultimately, this physical and emotional stress appears to have a negative impact on the health of many dementia caregivers. About four in ten (42 percent) say their health is “excellent” or “very good”—statistically significantly lower than the share among non-dementia caregivers (50 percent). Alarmingly, dementia caregivers are nearly twice as likely to say that their health has gotten worse as a result of their caregiving responsibilities. More than one in three dementia caregivers says their health has declined (35 percent), versus just one in five non-dementia caregivers. Many dementia caregivers report that they receive help. Dementia caregivers, more than non-dementia caregivers, are often one part of a larger care team, and they receive more paid and unpaid assistance than non-dementia caregivers. Four in ten dementia caregivers are the sole unpaid caregiver for their loved one. Nearly half of dementia caregivers say their loved one has received help from aides, housekeepers, or other paid help (45 percent), including 43 percent of sole unpaid dementia caregivers. More than one in four has used a respite service (27 percent). However, not all dementia caregivers can find resources when they need them: 28 percent say they find it difficult to get affordable services in their loved one’s community. Six in ten dementia caregivers were employed in the last year while they provided care to their loved one. Employed dementia caregivers work an average of 34.9 hours per week while caregiving, and more than half (57 percent) work full time. Seven in ten employed dementia caregivers (70 percent) say their supervisor was aware of their caregiving situation. Nonetheless, many employed caregivers struggle to balance their job and their caregiving responsibilities. Two in three employed dementia caregivers report that their caregiving responsibilities affected their work in some way (statistically significantly higher than the 59 percent of non-dementia caregivers). 2 “Burden of Care” is an index that is based on the number of hours of care provided by the caregiver, the number of ADLs performed, and the number of IADLs performed. Points are assigned for each of them; ultimately, these points are consolidated into three burden categories: low (values 1–2), medium (3), and high (values 4–5). See Caregiving in the U.S. 2015 Appendix B, Detailed Methodology for the details of creating the index (www.caregiving.org/caregiving2015). 3 G.G.' metadata={'chunk_id': 4, 'url': 'https://www.caregiving.org/wp-content/uploads/2020/05/Dementia-Caregiving-in-the-US_February-2017.pdf', '_id': '08ae7c19-83e1-419c-bb50-b2a1646b4d35', '_collection_name': 'DementiaCare_Semantic'}\n",
      "page_content='the emotional impact of living with memory loss | alzheimer's society the emotional impact of living with memory loss everyone reacts differently to memory loss. it can cause a range of emotions in both the person with dementia and those supporting them. memory loss and dementia you are here: the emotional impact of living with memory loss therapy and approaches for memory loss support memory loss and dementia – useful organisations supporting a person with memory loss save this information get a copy order by post helping the person with memory loss to manage their emotions some people with dementia may not seem troubled by their memory loss, while others may find it frustrating and upsetting. the person may lose self-confidence and be embarrassed by their difficulties. they may begin to withdraw from social situations or stop doing things they usually do. memory loss can also lead to people misplacing items that they then might think others have moved or stolen. this can sometimes cause anger and mistrust between the person with dementia and those around them. see ‘ dementia and hiding, hoarding or losing things ’ for more advice. making decisions for someone with dementia read more about assisting somebody with dementia to make decisions and when it's appropriate. making decisions it can be helpful to be aware of these difficulties and find ways to provide support. the following suggestions might help: if the person is ready to, encourage them to talk about how they are feeling. if they are frustrated or upset because of their memory difficulties, it can help to talk through some of the issues with them. look for different ways to manage some of the day-to-day problems they are having. for suggestions, see practical tips for supporting someone with memory loss . if the person is worried about the future, try to understand their concerns and help them focus on the present. think of what they can still do and encourage or support them to continue doing these things. there are approaches for supporting people with memory loss which can help rebuild confidence. encourage the person to continue spending time with other people and to take part in meaningful activities that do not rely as much on memory, such as word or number games. if the person is frustrated because of their memory problems, they may get distressed or agitated. in these cases, it may be best to gently change the conversation or activity. for more information on changes in behaviour and tips on how to cope with these see changes in behaviour . managing your emotions as a carer for someone with memory loss if you are supporting a person with dementia who is living with memory loss, you are also likely to feel a range of emotions. for example, if the person is recalling earlier happy memories, it can sometimes be nice to reminisce together. this can make you feel closer to the person. but it can also be difficult to care for someone with memory loss. for example, you may feel embarrassed if the person forgets who someone is, or if they no longer remember how to carry out a task. or you might feel sad that the person has forgotten memories that you share with them. advice guilt and dementia: how to manage guilty feelings as a carer advice feelings of guilt can be difficult to deal with as a carer of somebody living with dementia. read our advice to help identify and manage guilty feelings. feelings of guilt can be difficult to deal with as a carer of somebody living with dementia. read our advice to help identify and manage guilty feelings. ... 25 may 2023 it can be tiring and frustrating to be asked the same question many times, and this might make you feel guilty . you may also feel unsure about what you can talk about with the person without relying too much on their memory. it is natural to feel these emotions when caring for someone with memory loss. reminding yourself that the person’s difficulties are because of their dementia may help you to deal with these feelings. it is also worth reminding yourself that, by supporting the person, you are making a positive difference to their life. when caring for someone else, the needs of that person often come before your own. this can make it difficult for you take care of yourself. however, it is just as important to look after your own physical and mental health . if you are trying to process how the person’s memory loss is making you feel, you may find a talking therapy useful. these will allow you to explore your feelings in private. to get in touch with a therapist, you can speak to your gp or you can find a private therapist by contacting the british association for counselling and psychotherapy . carers: looking after yourself find out more about accessing support and looking after yourself when caring for somebody else. support for carers think this page could be useful to someone? share it: share this page on facebook.' metadata={'url': 'https://www.alzheimers.org.uk/about-dementia/symptoms-and-diagnosis/symptoms/emotions-memory-loss', 'chunk_id': 0, 'title': \"The emotional impact of living with memory loss | Alzheimer's Society\", '_id': '95a74bb3-6840-4864-a22d-e5fde90053ff', '_collection_name': 'DementiaCare_Semantic'}\n",
      "page_content='(2012) “Home Aone: Family Caregivers Providing Complex Chronic Car” AARP Public Policy Institute & United Hospital Fund. 17 Dementia caregivers are twice as likely to say that doing medical/nursing tasks is difficult (22 percent versus 11 percent of non-dementia caregivers; see Figure 11). Figure 11: Difficulty of Performing Medical/Nursing Tasks N4: How difficult is/was it for you to do the medical/nursing tasks that are/were required to help your [relation]? Dementia caregivers’ lack of prior preparation and difficulty doing these complex medical/nursing tasks suggest a need for additional training and support. Some ways that dementia caregivers would prefer to learn medical/nursing tasks are to work in person with a qualified teacher or other professional. Most say they would like to have a qualified person show them how to do medical/nursing tasks (67 percent) or do it themselves while a qualified person watches (60 percent). Fewer say they would want videos on demand or written instructions. Figure 12: Preferred Way of Learning Medical/Nursing Tasks N8: If you had to learn how to do a medical/nursing tasks, how would you prefer to learn? 18 High Care Burden over Longer Period Endangers Caregiver Health Considering all of the responsibilities dementia caregivers shoulder, it should come as no surprise that the Burden of Care Index13 scores them as one of the more burdened groups of caregivers. Nearly half of dementia caregivers are in a high-burden situation, and dementia caregivers have a significantly higher average burden than do non-\n",
      "dementia caregivers. Figure 13: Burden of Care Index Dementia caregivers are not the most-burdened group—for example, cancer caregivers are more likely to be in high-burden care relationships (62 percent).14 However, where cancer caregiver relationships are short and episodic, dementia care relationships tend to be longer in duration. Nearly seven in ten (69 percent) dementia caregivers have provided care for more than a year, and three in ten have provided care for more than five years; both rates are significantly higher than those among non-dementia caregivers. More than one in seven dementia caregivers has provided care for over a decade (see Figure 14, next page). 13 “Burden of Care” is an index based on the number of hours of care provided by the caregiver, the number of Activities of Daily Living performed, and the number of Instrumental Activities of Daily Living. Points are assigned for each of these, and ultimately, these points are consolidated into three burden categories: low (values 1 and 2), medium (3), and high (values 4 and 5). See Caregiving in the U.S. 2015 Appendix B, Detailed Methodology for the details of creating the index. 14 Hunt, G.' metadata={'chunk_id': 8, 'url': 'https://www.caregiving.org/wp-content/uploads/2020/05/Dementia-Caregiving-in-the-US_February-2017.pdf', '_id': '0f8c849b-4673-4bd5-bb6f-702e882901eb', '_collection_name': 'DementiaCare_Semantic'}\n"
     ]
    }
   ],
   "source": [
    "\n",
    "mmr_retriever_semantic = store_semantic.as_retriever(\n",
    "    search_type=\"mmr\",\n",
    "    search_kwargs={'k': 10, 'lambda_mult': 0.1}\n",
    ")\n",
    "similarity_retriever_semantic = store_semantic.as_retriever(k=10)\n",
    "ensemble_retriever_semantic = EnsembleRetriever(retrievers=[mmr_retriever_semantic,similarity_retriever_semantic])\n",
    "\n",
    "results = ensemble_retriever_semantic.invoke(\"How does stress impact dementia caregivers?\")\n",
    "print(\"\\n\")\n",
    "for result in results[:3]: print(result)\n"
   ]
  },
  {
   "cell_type": "markdown",
   "metadata": {},
   "source": [
    "Test it out in a simple RAG chain: Create a prompt, initialize an LLM, and then use the retriever in a chain"
   ]
  },
  {
   "cell_type": "code",
   "execution_count": 17,
   "metadata": {},
   "outputs": [],
   "source": [
    "from langchain_core.prompts import PromptTemplate\n",
    "\n",
    "RAG_PROMPT_TEMPLATE = \"\"\"\n",
    "You are a helpful assistant. Answer the question based on the context. If you don't know, say you don't know.\n",
    "\n",
    "<context>\n",
    "{context}\n",
    "</context>\n",
    "\n",
    "<question>\n",
    "{query}\n",
    "<question>\n",
    "\"\"\"\n",
    "\n",
    "rag_prompt = PromptTemplate.from_template(RAG_PROMPT_TEMPLATE)"
   ]
  },
  {
   "cell_type": "code",
   "execution_count": 18,
   "metadata": {},
   "outputs": [],
   "source": [
    "from langchain_anthropic import ChatAnthropic\n",
    "\n",
    "haiku_model_id = \"claude-3-haiku-20240307\" # cheaper and better to use for prototyping, although we'll use 3.5 in our app\n",
    "claude_3_5_sonnet_model_id = \"claude-3-5-sonnet-20240620\"\n",
    "\n",
    "llm = ChatAnthropic(\n",
    "    model=haiku_model_id,    \n",
    "    anthropic_api_key=ANTHROPIC_API_KEY,\n",
    "    temperature=0\n",
    ")"
   ]
  },
  {
   "cell_type": "code",
   "execution_count": 19,
   "metadata": {},
   "outputs": [],
   "source": [
    "from datasets import Dataset\n",
    "import pandas as pd\n",
    "from tqdm.asyncio import tqdm_asyncio\n",
    "\n",
    "async def gen_rag_responses(rag_chain) -> Dataset:\n",
    "    \"\"\"Wrapper function to run a RAG chain against a test dataset and generate/store responses\"\"\"\n",
    "    test_df = pd.read_csv(\"ragas_test_data.csv\")\n",
    "\n",
    "    test_questions = test_df[\"question\"].to_list()\n",
    "    test_gt = test_df[\"ground_truth\"].to_list()\n",
    "    print(\"read test questions\")\n",
    "\n",
    "    answers = []\n",
    "    contexts = []\n",
    "\n",
    "    print(\"generating responses\")\n",
    "    for question in tqdm_asyncio(test_questions,desc=\"Processing Questions\"):\n",
    "        response = await rag_chain.ainvoke({\"query\" : question})\n",
    "        answers.append(response[\"response\"].content)\n",
    "        contexts.append([context.page_content for context in response[\"context\"]])\n",
    "\n",
    "    # Put in huggingface dataset format and save it for later re-use\n",
    "    response_dataset = Dataset.from_dict({\n",
    "        \"question\" : test_questions,\n",
    "        \"answer\" : answers,\n",
    "        \"contexts\" : contexts,\n",
    "        \"ground_truth\" : test_gt\n",
    "    })\n",
    "\n",
    "    return response_dataset"
   ]
  },
  {
   "cell_type": "code",
   "execution_count": 20,
   "metadata": {},
   "outputs": [],
   "source": [
    "from operator import itemgetter\n",
    "from langchain_core.runnables import RunnablePassthrough\n",
    "from ragas import evaluate\n",
    "from langchain.retrievers import EnsembleRetriever\n"
   ]
  },
  {
   "cell_type": "code",
   "execution_count": 23,
   "metadata": {},
   "outputs": [
    {
     "name": "stdout",
     "output_type": "stream",
     "text": [
      "read test questions\n",
      "generating responses\n"
     ]
    },
    {
     "name": "stderr",
     "output_type": "stream",
     "text": [
      "Processing Questions: 100%|██████████| 30/30 [01:37<00:00,  3.26s/it]\n",
      "Evaluating: 100%|██████████| 120/120 [01:09<00:00,  1.73it/s]\n"
     ]
    },
    {
     "name": "stdout",
     "output_type": "stream",
     "text": [
      "{'faithfulness': 0.9507, 'answer_relevancy': 0.7835, 'context_precision': 0.8676, 'context_recall': 0.9200}\n"
     ]
    }
   ],
   "source": [
    "\n",
    "# standard RAG that passes the context through\n",
    "fixed_similarity_rag_chain = (\n",
    "    {\"context\": itemgetter(\"query\") | similarity_retriever_fixed | (lambda docs: docs[:4]), \"query\": itemgetter(\"query\")} \n",
    "    | RunnablePassthrough.assign(context=itemgetter(\"context\"))\n",
    "    | {\"response\": rag_prompt | llm, \"context\": itemgetter(\"context\")}\n",
    ")\n",
    "\n",
    "response_dataset = await gen_rag_responses(fixed_similarity_rag_chain)\n",
    "\n",
    "from ragas import evaluate\n",
    "\n",
    "results = evaluate(response_dataset, \n",
    "                   RAGAS_METRICS)\n",
    "\n",
    "# Check out the results\n",
    "print(results)\n",
    "results_df = pd.DataFrame([results])\n"
   ]
  },
  {
   "cell_type": "code",
   "execution_count": null,
   "metadata": {},
   "outputs": [],
   "source": [
    "fixed_mmr_rag_chain = (\n",
    "    {\"context\": itemgetter(\"query\") | mmr_retriever_fixed | (lambda docs: docs[:4]), \"query\": itemgetter(\"query\")} \n",
    "    | RunnablePassthrough.assign(context=itemgetter(\"context\"))\n",
    "    | {\"response\": rag_prompt | llm, \"context\": itemgetter(\"context\")}\n",
    ")\n",
    "\n",
    "response_dataset = await gen_rag_responses(fixed_mmr_rag_chain)\n"
   ]
  },
  {
   "cell_type": "code",
   "execution_count": 15,
   "metadata": {},
   "outputs": [
    {
     "name": "stderr",
     "output_type": "stream",
     "text": [
      "Evaluating: 100%|██████████| 120/120 [01:02<00:00,  1.92it/s]\n"
     ]
    },
    {
     "name": "stdout",
     "output_type": "stream",
     "text": [
      "{'faithfulness': 0.9091, 'answer_relevancy': 0.9486, 'context_precision': 0.8074, 'context_recall': 0.8522}\n"
     ]
    }
   ],
   "source": [
    "results = evaluate(response_dataset, \n",
    "                   RAGAS_METRICS)\n",
    "\n",
    "# Check out the results\n",
    "print(results)\n",
    "results_df = pd.DataFrame([results])"
   ]
  },
  {
   "cell_type": "code",
   "execution_count": 16,
   "metadata": {},
   "outputs": [
    {
     "name": "stdout",
     "output_type": "stream",
     "text": [
      "read test questions\n",
      "generating responses\n"
     ]
    },
    {
     "name": "stderr",
     "output_type": "stream",
     "text": [
      "Processing Questions: 100%|██████████| 30/30 [01:43<00:00,  3.44s/it]\n",
      "Evaluating: 100%|██████████| 120/120 [00:53<00:00,  2.25it/s]\n"
     ]
    },
    {
     "name": "stdout",
     "output_type": "stream",
     "text": [
      "{'faithfulness': 0.9586, 'answer_relevancy': 0.8842, 'context_precision': 0.8537, 'context_recall': 0.9133}\n"
     ]
    }
   ],
   "source": [
    "fixed_ensemble_rag_chain = (\n",
    "    {\"context\": itemgetter(\"query\") | ensemble_retriever_fixed | (lambda docs: docs[:4]), \"query\": itemgetter(\"query\")} \n",
    "    | RunnablePassthrough.assign(context=itemgetter(\"context\"))\n",
    "    | {\"response\": rag_prompt | llm, \"context\": itemgetter(\"context\")}\n",
    ")\n",
    "\n",
    "response_dataset = await gen_rag_responses(fixed_ensemble_rag_chain)\n",
    "results = evaluate(response_dataset, \n",
    "                   RAGAS_METRICS)\n",
    "\n",
    "# Check out the results\n",
    "print(results)\n",
    "results_df = pd.DataFrame([results])"
   ]
  },
  {
   "cell_type": "code",
   "execution_count": 40,
   "metadata": {},
   "outputs": [
    {
     "name": "stdout",
     "output_type": "stream",
     "text": [
      "read test questions\n",
      "generating responses\n"
     ]
    },
    {
     "name": "stderr",
     "output_type": "stream",
     "text": [
      "Processing Questions:   0%|          | 0/30 [00:00<?, ?it/s]"
     ]
    },
    {
     "name": "stderr",
     "output_type": "stream",
     "text": [
      "Processing Questions: 100%|██████████| 30/30 [01:40<00:00,  3.36s/it]\n",
      "Evaluating: 100%|██████████| 120/120 [01:06<00:00,  1.80it/s]\n"
     ]
    },
    {
     "name": "stdout",
     "output_type": "stream",
     "text": [
      "{'faithfulness': 0.9521, 'answer_relevancy': 0.8805, 'context_precision': 0.8713, 'context_recall': 0.9272}\n"
     ]
    }
   ],
   "source": [
    "semantic_similarity_rag_chain = (\n",
    "    {\"context\": itemgetter(\"query\") | similarity_retriever_semantic | (lambda docs: docs[:4]), \"query\": itemgetter(\"query\")} \n",
    "    | RunnablePassthrough.assign(context=itemgetter(\"context\"))\n",
    "    | {\"response\": rag_prompt | llm, \"context\": itemgetter(\"context\")}\n",
    ")\n",
    "\n",
    "response_dataset = await gen_rag_responses(semantic_similarity_rag_chain)\n",
    "results = evaluate(response_dataset, \n",
    "                   RAGAS_METRICS)\n",
    "\n",
    "# Check out the results\n",
    "print(results)\n",
    "results_df = pd.DataFrame([results])"
   ]
  },
  {
   "cell_type": "code",
   "execution_count": 42,
   "metadata": {},
   "outputs": [
    {
     "name": "stdout",
     "output_type": "stream",
     "text": [
      "read test questions\n",
      "generating responses\n"
     ]
    },
    {
     "name": "stderr",
     "output_type": "stream",
     "text": [
      "Processing Questions:   0%|          | 0/30 [00:00<?, ?it/s]"
     ]
    },
    {
     "name": "stderr",
     "output_type": "stream",
     "text": [
      "Processing Questions: 100%|██████████| 30/30 [01:56<00:00,  3.87s/it]\n",
      "Evaluating: 100%|██████████| 120/120 [00:48<00:00,  2.48it/s]\n"
     ]
    },
    {
     "name": "stdout",
     "output_type": "stream",
     "text": [
      "{'faithfulness': 0.9500, 'answer_relevancy': 0.8781, 'context_precision': 0.8185, 'context_recall': 0.8211}\n"
     ]
    }
   ],
   "source": [
    "semantic_mmr_rag_chain = (\n",
    "    {\"context\": itemgetter(\"query\") | mmr_retriever_semantic | (lambda docs: docs[:4]), \"query\": itemgetter(\"query\")} \n",
    "    | RunnablePassthrough.assign(context=itemgetter(\"context\"))\n",
    "    | {\"response\": rag_prompt | llm, \"context\": itemgetter(\"context\")}\n",
    ")\n",
    "\n",
    "response_dataset = await gen_rag_responses(semantic_mmr_rag_chain)\n",
    "results = evaluate(response_dataset, \n",
    "                   RAGAS_METRICS)\n",
    "\n",
    "# Check out the results\n",
    "print(results)\n",
    "results_df = pd.DataFrame([results])"
   ]
  },
  {
   "cell_type": "code",
   "execution_count": 43,
   "metadata": {},
   "outputs": [
    {
     "name": "stdout",
     "output_type": "stream",
     "text": [
      "read test questions\n",
      "generating responses\n"
     ]
    },
    {
     "name": "stderr",
     "output_type": "stream",
     "text": [
      "Processing Questions: 100%|██████████| 30/30 [01:53<00:00,  3.78s/it]\n",
      "Evaluating:  29%|██▉       | 35/120 [00:14<00:26,  3.19it/s]No statements were generated from the answer.\n",
      "Evaluating: 100%|██████████| 120/120 [00:53<00:00,  2.23it/s]\n"
     ]
    },
    {
     "name": "stdout",
     "output_type": "stream",
     "text": [
      "{'faithfulness': 0.9345, 'answer_relevancy': 0.8475, 'context_precision': 0.8333, 'context_recall': 0.8983}\n"
     ]
    }
   ],
   "source": [
    "semantic_ensemble_rag_chain = (\n",
    "    {\"context\": itemgetter(\"query\") | ensemble_retriever_semantic | (lambda docs: docs[:4]), \"query\": itemgetter(\"query\")} \n",
    "    | RunnablePassthrough.assign(context=itemgetter(\"context\"))\n",
    "    | {\"response\": rag_prompt | llm, \"context\": itemgetter(\"context\")}\n",
    ")\n",
    "\n",
    "response_dataset = await gen_rag_responses(semantic_ensemble_rag_chain)\n",
    "results = evaluate(response_dataset, \n",
    "                   RAGAS_METRICS)\n",
    "\n",
    "# Check out the results\n",
    "print(results)\n",
    "results_df = pd.DataFrame([results])"
   ]
  },
  {
   "cell_type": "code",
   "execution_count": 44,
   "metadata": {},
   "outputs": [
    {
     "name": "stdout",
     "output_type": "stream",
     "text": [
      "read test questions\n",
      "generating responses\n"
     ]
    },
    {
     "name": "stderr",
     "output_type": "stream",
     "text": [
      "Processing Questions: 100%|██████████| 30/30 [01:46<00:00,  3.56s/it]\n",
      "Evaluating: 100%|██████████| 120/120 [00:54<00:00,  2.20it/s]\n"
     ]
    },
    {
     "name": "stdout",
     "output_type": "stream",
     "text": [
      "{'faithfulness': 0.9335, 'answer_relevancy': 0.9111, 'context_precision': 0.8833, 'context_recall': 0.9500}\n"
     ]
    }
   ],
   "source": [
    "ensemble_retriever_similarity = EnsembleRetriever(retrievers=[similarity_retriever_semantic,similarity_retriever_fixed])\n",
    "similarity_ensemble_rag_chain = (\n",
    "    {\"context\": itemgetter(\"query\") | ensemble_retriever_similarity | (lambda docs: docs[:4]), \"query\": itemgetter(\"query\")} \n",
    "    | RunnablePassthrough.assign(context=itemgetter(\"context\"))\n",
    "    | {\"response\": rag_prompt | llm, \"context\": itemgetter(\"context\")}\n",
    ")\n",
    "\n",
    "response_dataset = await gen_rag_responses(similarity_ensemble_rag_chain)\n",
    "results = evaluate(response_dataset, \n",
    "                   RAGAS_METRICS)\n",
    "\n",
    "# Check out the results\n",
    "print(results)\n",
    "results_df = pd.DataFrame([results])"
   ]
  },
  {
   "cell_type": "code",
   "execution_count": 45,
   "metadata": {},
   "outputs": [
    {
     "data": {
      "text/plain": [
       "[Document(metadata={'chunk_id': 4, 'url': 'https://www.caregiving.org/wp-content/uploads/2020/05/Dementia-Caregiving-in-the-US_February-2017.pdf', '_id': '08ae7c19-83e1-419c-bb50-b2a1646b4d35', '_collection_name': 'DementiaCare_Semantic'}, page_content='Levine, and S. Samis, “Home Alone: Family Caregivers Providing Complex Chronic Care,” AARP Public Policy Institute & United Hospital Fund, 2012. 2 Considering all of the responsibilities that dementia caregivers often shoulder, it is of no surprise that the Burden of Care Index2 shows them as one of the more burdened groups of caregivers. Nearly half of dementia caregivers are in a high-burden situation. Dementia caregivers are not the most-burdened group—for example, cancer caregivers are more likely to be in high-burden care relationships (62 percent).3 However, whereas cancer caregiver relationships are short and episodic, dementia caregiver relationships tend to be longer: nearly seven in ten (69 percent) dementia caregivers have provided care for more than a year, and three in ten have provided care for more than five years. This high burden of care over a longer period can take a significant mental and physical toll on dementia caregivers. Nearly half of dementia caregivers say providing care is emotionally stressful, and three in ten say that providing care often involves physical strain. Ultimately, this physical and emotional stress appears to have a negative impact on the health of many dementia caregivers. About four in ten (42 percent) say their health is “excellent” or “very good”—statistically significantly lower than the share among non-dementia caregivers (50 percent). Alarmingly, dementia caregivers are nearly twice as likely to say that their health has gotten worse as a result of their caregiving responsibilities. More than one in three dementia caregivers says their health has declined (35 percent), versus just one in five non-dementia caregivers. Many dementia caregivers report that they receive help. Dementia caregivers, more than non-dementia caregivers, are often one part of a larger care team, and they receive more paid and unpaid assistance than non-dementia caregivers. Four in ten dementia caregivers are the sole unpaid caregiver for their loved one. Nearly half of dementia caregivers say their loved one has received help from aides, housekeepers, or other paid help (45 percent), including 43 percent of sole unpaid dementia caregivers. More than one in four has used a respite service (27 percent). However, not all dementia caregivers can find resources when they need them: 28 percent say they find it difficult to get affordable services in their loved one’s community. Six in ten dementia caregivers were employed in the last year while they provided care to their loved one. Employed dementia caregivers work an average of 34.9 hours per week while caregiving, and more than half (57 percent) work full time. Seven in ten employed dementia caregivers (70 percent) say their supervisor was aware of their caregiving situation. Nonetheless, many employed caregivers struggle to balance their job and their caregiving responsibilities. Two in three employed dementia caregivers report that their caregiving responsibilities affected their work in some way (statistically significantly higher than the 59 percent of non-dementia caregivers). 2 “Burden of Care” is an index that is based on the number of hours of care provided by the caregiver, the number of ADLs performed, and the number of IADLs performed. Points are assigned for each of them; ultimately, these points are consolidated into three burden categories: low (values 1–2), medium (3), and high (values 4–5). See Caregiving in the U.S. 2015 Appendix B, Detailed Methodology for the details of creating the index (www.caregiving.org/caregiving2015). 3 G.G.'),\n",
       " Document(metadata={'url': 'https://www.caregiving.org/wp-content/uploads/2020/05/Dementia-Caregiving-in-the-US_February-2017.pdf', 'chunk_id': 47, '_id': '54fdf9f9-aede-4958-aef3-abaf7636c466', '_collection_name': 'DementiaCare_Fixed'}, page_content='dementia caregivers, though the phenomenon appears to be more severe or extreme for dementia caregivers. Further, dementia caregivers more often experience emotional stress and physical strain than do non-dementia caregivers—a situation that contributes to the disproportionately worsening health among dementia caregivers. Prior research has documented the ways caregiving can affect caregivers’ health and well-being. Caregiving has been associated with higher levels depression and anxiety, compromised immune function, and increased mortality.17 These negative health impacts mean that caregiving is a crucially important public health issue—caregivers’ health suffers under the pressure of caregiving responsibilities, and such decline in health compromises the caregiver’s ability to provide care. This problem is particularly pressing for dementia caregivers, as health impacts are worse and loved ones rely on these caregivers for more daily assistance. Therefore, it is critical to improve the resources and help available to dementia caregivers so that they can easily and adequately care for their loved ones and for themselves. 17 Centers for Disease Control and Prevention and the Kimberly-Clark Corporation, “Assuring Healthy Caregivers, A Public Health Approach to Translating Research into Practice: The RE-AIM Framework,” Kimberly-Clark Corporation, Neenah, WI, 2008.'),\n",
       " Document(metadata={'chunk_id': 8, 'url': 'https://www.caregiving.org/wp-content/uploads/2020/05/Dementia-Caregiving-in-the-US_February-2017.pdf', '_id': '0f8c849b-4673-4bd5-bb6f-702e882901eb', '_collection_name': 'DementiaCare_Semantic'}, page_content='(2012) “Home Aone: Family Caregivers Providing Complex Chronic Car” AARP Public Policy Institute & United Hospital Fund. 17 Dementia caregivers are twice as likely to say that doing medical/nursing tasks is difficult (22 percent versus 11 percent of non-dementia caregivers; see Figure 11). Figure 11: Difficulty of Performing Medical/Nursing Tasks N4: How difficult is/was it for you to do the medical/nursing tasks that are/were required to help your [relation]? Dementia caregivers’ lack of prior preparation and difficulty doing these complex medical/nursing tasks suggest a need for additional training and support. Some ways that dementia caregivers would prefer to learn medical/nursing tasks are to work in person with a qualified teacher or other professional. Most say they would like to have a qualified person show them how to do medical/nursing tasks (67 percent) or do it themselves while a qualified person watches (60 percent). Fewer say they would want videos on demand or written instructions. Figure 12: Preferred Way of Learning Medical/Nursing Tasks N8: If you had to learn how to do a medical/nursing tasks, how would you prefer to learn? 18 High Care Burden over Longer Period Endangers Caregiver Health Considering all of the responsibilities dementia caregivers shoulder, it should come as no surprise that the Burden of Care Index13 scores them as one of the more burdened groups of caregivers. Nearly half of dementia caregivers are in a high-burden situation, and dementia caregivers have a significantly higher average burden than do non-\\ndementia caregivers. Figure 13: Burden of Care Index Dementia caregivers are not the most-burdened group—for example, cancer caregivers are more likely to be in high-burden care relationships (62 percent).14 However, where cancer caregiver relationships are short and episodic, dementia care relationships tend to be longer in duration. Nearly seven in ten (69 percent) dementia caregivers have provided care for more than a year, and three in ten have provided care for more than five years; both rates are significantly higher than those among non-dementia caregivers. More than one in seven dementia caregivers has provided care for over a decade (see Figure 14, next page). 13 “Burden of Care” is an index based on the number of hours of care provided by the caregiver, the number of Activities of Daily Living performed, and the number of Instrumental Activities of Daily Living. Points are assigned for each of these, and ultimately, these points are consolidated into three burden categories: low (values 1 and 2), medium (3), and high (values 4 and 5). See Caregiving in the U.S. 2015 Appendix B, Detailed Methodology for the details of creating the index. 14 Hunt, G.'),\n",
       " Document(metadata={'url': 'https://www.caregiving.org/wp-content/uploads/2020/05/Dementia-Caregiving-in-the-US_February-2017.pdf', 'chunk_id': 10, '_id': '51850131-5aff-4534-a387-e41151b647b7', '_collection_name': 'DementiaCare_Fixed'}, page_content='2 Considering all of the responsibilities that dementia caregivers often shoulder, it is of no surprise that the Burden of Care Index2 shows them as one of the more burdened groups of caregivers. Nearly half of dementia caregivers are in a high-burden situation. Dementia caregivers are not the most-burdened group—for example, cancer caregivers are more likely to be in high-burden care relationships (62 percent).3 However, whereas cancer caregiver relationships are short and episodic, dementia caregiver relationships tend to be longer: nearly seven in ten (69 percent) dementia caregivers have provided care for more than a year, and three in ten have provided care for more than five years. This high burden of care over a longer period can take a significant mental and physical toll on dementia caregivers. Nearly half of dementia caregivers say providing care is emotionally stressful, and three in ten say that providing care often involves physical strain. Ultimately, this physical and emotional stress appears to have a negative impact on the health of many dementia caregivers. About four in ten (42 percent) say their health is “excellent” or “very good”—statistically significantly lower than the share among non-dementia caregivers (50 percent). Alarmingly, dementia caregivers are nearly twice as likely to say that their health has gotten worse as a result of their caregiving responsibilities. More than one in three dementia caregivers says their health has declined (35'),\n",
       " Document(metadata={'url': 'https://www.caregiving.org/wp-content/uploads/2020/05/Dementia-Caregiving-in-the-US_February-2017.pdf', 'chunk_id': 2, '_id': '560030ab-836d-48a8-b900-4d729d2986c6', '_collection_name': 'DementiaCare_Semantic'}, page_content='7 Detailed Findings.............................................................................................................. 8 Who Are Dementia Caregivers? ................................................................................. 8 Who Are Millennial (Ages 18–34) Dementia Caregivers?..................................... 8 Who Are Grandchildren Caring for a Grandparent with Dementia? ...................... 9 Who Are Dementia Care Recipients?....................................................................... 10 Who Are Long-Distance (Greater Than One Hour Away) Dementia Caregivers?......................................................................................... 11 Dementia Caregivers Report Caring for More Conditions ........................................ 12 High Demand Caregiving: Hours and Care Tasks.................................................... 13 Navigating in and Through the Healthcare System .................................................. 15 High Care Burden over Longer Period Endangers Caregiver Health ....................... 18 Dementia Caregiving: A Team Effort ........................................................................ 23 Spousal Dementia Caregivers Are Particularly Vulnerable ................................. 23 Dementia Caregivers in the Workplace .................................................................... 25 Special Look: Male Dementia Caregivers ........................................................... 26 Financial Impacts of Caregiving................................................................................ 27 Support and Information Needs................................................................................ 28 Promising Interventions For Dementia Caregivers......................................................... 31 Partners in Dementia Care ....................................................................................... 31 Reach VA.................................................................................................................. 32 Respondent Profile......................................................................................................... 34 Detailed Methodology..................................................................................................... 37 Figures Figure 1: Age of Caregiver ............................................................................................... 8 Figure 2: Care Recipient Relation .................................................................................... 9 Figure 3: Age of Care Recipient ..................................................................................... 10\\nFigure 4: Where the Care Recipient Lives ..................................................................... 11 Figure 5: Care Recipient Condition Categories.............................................................. 12 Figure 6: Hours of Care per Week ................................................................................. 13 Figure 7: Help with Activities of Daily Living (ADLs)....................................................... 14 Figure 8: Help with Instrumental Activities of Daily Living (IADLs)................................. 15 Figure 9: Help with Key Activities................................................................................... 16 Figure 10: Preparation with Medical/Nursing Tasks....................................................... 16 Figure 11: Difficulty of Performing Medical/Nursing Tasks............................................. 17 Figure 12: Preferred Way of Learning Medical/Nursing Tasks ...................................... 17 Figure 13: Burden of Care Index.................................................................................... 18 Figure 14: Duration of Care............................................................................................ 19 Figure 15: Emotional Stress of Caregiving..................................................................... 19 Figure 16: Physical Strain of Caregiving ........................................................................ 20 Figure 17: Caregiver Health ........................................................................................... 20 Figure 18: Impact of Caregiving on Caregiver Health .................................................... 21 Figure 19: Negative Health Impacts of Caregiving by Emotional Stress........................ 21 Figure 20: Negative Health Impacts of Caregiving by Physical Strain ........................... 22 Figure 21: Primary Caregiver Status.............................................................................. 23 Figure 22: Paid Help/Resources Utilized........................................................................ 24 Figure 23: Paid Help/Resources Utilized by Primary Caregiver Status.......................... 25 Figure 24: Workplace Benefits ....................................................................................... 26 Figure 25: Work Impacts Due to Caregiving .................................................................. 27 Figure 26: Proposals to Provide Financial Aid to Caregivers......................................... 27 Figure 27: Areas for Improvement: Conversations with Providers................................. 28 Figure 28: Areas Where Caregivers Need More Information......................................... 29 Figure 29: Proposals to Improve Healthcare System for Caregivers ............................. 30 Figure 30: Demographic Summary by Caregiver Type.................................................. 34\\n1 Executive Summary Key Findings This report analyzes the experiences of providing unpaid care in the United States to a relative or friend diagnosed with Alzheimer’s disease, dementia, or other mental confusion, with the goals of both understanding the experiences of people caring for someone with dementia and identifying approaches to enhance and support this unique caregiving experience. We draw our analyses from the nationally representative study Caregiving in the U.S. 2015 and examine caregivers who indicate that their care recipient had Alzheimer’s disease, dementia, or some other type of mental confusion as either a primary or a secondary reason for providing care. This paper describes the experiences of these caregivers (n=372, referred to hereafter as dementia caregivers) and compares their experiences with those of caregivers who provided care to someone without dementia (n=963, referred to hereafter as non-dementia caregivers). In addition, we analyze subgroups of caregivers within dementia caregivers to better understand variations in experiences of dementia caregiving. These dementia caregivers have diverse backgrounds. A majority of dementia caregivers are women (58 percent). On average, they are 54 years old—about six years older than non-dementia caregivers. Their care recipient—that is, the person with Alzheimer’s disease or dementia—is most often a relative, and 77.2 years old, on average, which is significantly older than other care recipients who are managing other conditions or diseases. These care recipients are less likely to live in their own home (40 percent) and more likely to live in some sort of facility (16 percent live in nursing/long-term care or assisted living). Dementia caregivers shoulder more caregiving responsibilities than do other caregivers: they help with a wider variety of activities and spend more hours per week providing care. On average, dementia caregivers provide care for 28 hours per week. They assist in significantly more tasks than do other caregivers, including more Activities of Daily Living (ADLs) and more Instrumental Activities of Daily Living (IADLs). In addition, most dementia caregivers play an important role in guiding their loved one through the healthcare system and ensuring that they receive needed treatments. Moreover, two out of three dementia caregivers (67 percent) say they themselves perform medical/nursing tasks1 for their care recipient, and more than half of all dementia caregivers do these medical/nursing tasks with no prior training or preparation. 1 Medical/nursing tasks include skilled activities such as administering injections, tube feedings, catheter and colostomy care, and many other complex medical responsibilities. For additional work on these tasks, see: S.C.'),\n",
       " Document(metadata={'url': 'https://www.caregiving.org/wp-content/uploads/2020/05/Dementia-Caregiving-in-the-US_February-2017.pdf', 'chunk_id': 45, '_id': '393ab91a-b148-447f-b193-513c706d3a20', '_collection_name': 'DementiaCare_Fixed'}, page_content='21 Figure 18: Impact of Caregiving on Caregiver Health D2: How would you say taking care of your [relation] has affected your health? The negative health impacts from dementia caregiving do not seem to be a result of caregiver age.16 Rather, whether a caregiver’s health declines as a result of caregiving appears to correlate strongly with rates of emotional stress and physical strain (see Figures 19 and 20). As the emotional stress level of dementia caregivers increases, so too do reports of worsening health. In fact, once emotional stress hits a middle level (3 out of 5), dementia caregivers report negative health impacts nearly twice as often as non-dementia caregivers do. Among dementia caregivers with the highest emotional stress (5 out of 5), three out of four say caregiving has made their health worse. Figure 19: Negative Health Impacts of Caregiving by Emotional Stress Percent reporting worse health as a result of caregiving 16 The rate of caregivers reporting they have worse health as a result of caregiving is similar among those ages 45–54 (38 percent), 55–64 (43 percent), and 65–74 (38 percent). The youngest and oldest dementia caregivers do report lower rates of caregiving causing worsening health (25 percent ages 18–44; 24 percent ages 75+).'),\n",
       " Document(metadata={'url': 'https://www.caregiving.org/wp-content/uploads/2020/05/Dementia-Caregiving-in-the-US_February-2017.pdf', 'chunk_id': 6, '_id': '54d20afa-a708-4e6b-9e4e-adcce3d8f308', '_collection_name': 'DementiaCare_Semantic'}, page_content='Weber-Raley, and L. Popham, “Cancer Caregiving in the U.S.—An Intense, Episodic, and Challenging Care Experience,” National Alliance for Caregiving, National Cancer Institute, and Cancer Support Community, 2016. 3 Dementia caregivers want greater support from healthcare professionals. Many dementia caregivers want more support from healthcare providers in caring for their loved one as well as themselves. Less than half of dementia caregivers (44 percent) report having a doctor, nurse, or social worker ever ask them what they need to care for their loved one. Moreover, roughly a quarter (24 percent) of dementia caregivers have ever been asked about their own self-care needs by a doctor, nurse, or social worker. About the same number (26 percent) report wanting these kinds of self-care conversations, but say they have never had them. This suggests that the need or desire for self-care conversations between healthcare professionals and dementia caregivers is greater than the actual occurrence of these conversations. Many want more information on specific aspects of providing care. More than half (52 percent) of dementia caregivers say they need more help and information about managing their own emotional and physical stress. In addition to managing stress, 39 percent say they need help and information about keeping their loved one safe at home. Dementia caregivers are more than four times more likely to say they need help managing their loved one’s challenging behavior and are nearly three times more likely to want help managing incontinence. Many dementia caregivers want to be kept more involved in their loved one’s medical care. More than half would find it helpful to require health providers to include their name on their care recipient’s chart (56 percent). One out of four (27 percent) has never made use of respite care but wants to do so. This indicates that there is a need among some dementia caregivers for easily accessible respite services. In summary, dementia caregivers are in intensive, demanding care situations. While they do have more support from other unpaid caregivers, paid help, and the healthcare system than do non-dementia caregivers, many remain in need of greater support and resources. Policy Implications With unique challenges facing dementia caregivers, we recommend the following: Establish a National Strategy that Recognizes and Supports Family Caregivers Family caregivers are the backbone of the long-term care system, especially for those with dementia. They take on challenges that affect their health, emotional wellbeing, and financial security. All too often, family caregivers are not recognized and included in appropriate health and social service programs, and ultimately not receiving the care and support they need. Dementia caregivers shoulder more caregiving responsibility than other caregivers do: they help with a wider variety of activities and spend more hours per week providing care. The recently released Families Caring for an Aging America, conducted by the National Academies of Sciences, Engineering and Medicine, includes a recommendation that the new Administration develop and execute a National Family Caregiver Strategy. 4 Although the National Academies’ recommendation was focused only on caregivers of older adults, we believe that the National Family Caregiver Strategy should address the needs of all caregivers across the lifespan. Provide Dementia Caregivers with a Comprehensive Needs Assessment Less than half of dementia caregivers (44 percent) report having a doctor, nurse, or social worker ever ask them what they need to care for their loved one. Moreover, only one-quarter (24%) of dementia caregivers have ever been asked what assistance they need for self-care. Similar to a patient, dementia caregivers require a comprehensive assessment prior to the development of the care plans. A caregiver assessment will serve as an entry point to understanding what a care plan will need to include to ensure patient and family centered goals are met. Protect the Financial Security of Dementia Caregivers The inordinate amount of time they spend providing care—28 hours per week on average—leaves dementia caregivers at a disadvantage as they attempt to maintain employment. To most effectively balance their job and caregiving responsibilities, caregivers need employers to provide paid and flexible family and medical leave options. This must include at least partial income during the time they spend away from work due to caregiving obligations. Previously, legislation was introduced in Congress that would provide workers with up to 12 weeks of partial income when they take time away from work to care for themselves or a loved one. It is essential to protect the financial security of dementia caregivers by providing them with options for paid-leave. Over half (57 percent) of dementia caregivers work part-time. On average, they work only 34.9 hours per week. Not only does this loss of income have a negative impact on their take-home pay, it also hinders their ability to adequately save for retirement. Dementia caregivers need a refundable tax-credit to help reduce the financial burden of providing care. Additionally, these caregivers need social security earnings credits to ensure that their retirement security is not jeopardized due to their caregiving role. Expand Dementia Caregiver Access to Long-Term Supports and Services Dementia caregivers are often managing multiple health and behavioral conditions. In addition, most dementia caregivers play an important role in guiding their loved one through the healthcare system and ensuring that they receive the treatments they need. Health care providers need to be incentivized to offer advance care planning assistance for those diagnosed with dementia and their caregiver(s). Advance care planning benefits help caregivers make informed decisions while managing the complexity of care and may help to prevent care recipients from prematurely entering into long-term care programs. Over half (52 percent) of dementia caregivers say they need more help and information about managing their own emotional and physical stress. The Centers for Medicare and Medicaid Services should test support models for caregivers, recognizing that support\\n5 for caregivers will help care recipients remain in the home longer, ultimately reducing Medicare and Medicaid program costs. Support models should include options for individual and family counseling, caregiver support groups, and a call-in phone line offering immediate assistance for dementia caregivers. One out of four (27 percent) dementia caregivers has never made use of respite care, but wants to do so. This indicates that there is a need among dementia caregivers for easily accessible support services. Strengthening federal programs that help sustain family caregivers can bolster our Long-Term Supports and Services system. The federal government provides high-impact support for family caregivers through the National Family Caregiver Support Program, the Department of Veterans Affairs’ VA Caregiver Support Program, and the Lifespan Respite Program. These programs include relief, education, training, and financial support to family caregivers. It is vital that efforts are made to expand these programs. Include Dementia Caregivers as Vital Members of the Health Care Team Dementia caregivers want to be involved in their loved one’s medical care. Health care policy should explicitly and clearly include family caregivers in all aspects of care planning for those with dementia. Family caregivers are an essential component of the patient and family-centered care model. Meanwhile, over half of all dementia caregivers perform medical/nursing tasks with no prior training or preparation. Family caregivers must be recognized and included as legitimate members of health care intervention teams. The Alliance applauds state efforts through the CARE Act to achieve these goals. 6 Full Report Introduction This report reviews the experiences of providing unpaid care4 in the United States to a relative or friend diagnosed with Alzheimer’s disease or dementia. Our analyses come from the study Caregiving in the U.S. 2015 and examine caregivers who indicated that one of the reasons why this family member or friend needed care was due to Alzheimer’s disease, dementia, or other mental confusion.5 These caregivers are hereafter referred to as dementia caregivers. This paper describes the experiences of these dementia caregivers and compares them with those of caregivers who provide care to an adult family member or friend who does not have dementia (hereafter referred to as non-dementia caregivers). In select places, this paper also summarizes differences within the experiences of dementia caregivers by key subgroups. Methodology Caregiving in the U.S. 2015 is a nationally representative study of adults, ages 18 and older, conducted in late 2014 using GfK’s probability-based online KnowledgePanel®. Caregiving in the U.S. 2015 aimed to achieve two goals for the National Alliance for Caregiving and AARP Public Policy Institute. First: estimate the prevalence of caregiving for someone of any age as a share of both the U.S. population and U.S. households. Second: describe the characteristics, roles, and needs among caregivers who provide care to an adult age 18 or older.6 In order to qualify for the study, respondents must have self-identified as an unpaid caregiver of an adult either currently or at some point in the 12 months prior to the survey. Self-identified caregivers also had to report providing help with at least one Activity of Daily Living (ADL), Instrumental Activity of Daily Living (IADL), or medical/nursing task. Surveys were conducted between September 18 and November 5, 2014, and averaged 24 minutes to complete (23.8 minutes online; 24.7 minutes on the phone). Caregiving in the U.S. 2015 finds that, among a nationally representative sample of caregivers of adults, 22% provide care to someone with Alzheimer’s or dementia. This paper examines the responses of 372 dementia caregivers and 963 non-dementia 4 In order to qualify for this study, caregivers had to self-identify as providing unpaid care to a family member or friend in the 12 months leading up to the time of survey; those who were paid in some way to provide care were ineligible to complete this study. 5 Dementia caregivers include two groups: (1) those who indicated their care recipient’s main problem for which he or she needed care was Alzheimer’s disease or dementia; and (2) those who indicated their care recipient had Alzheimer’s disease, dementia, or other mental confusion but it was not the main caregiving issue. 6 To see complete study results, questionnaires, or detailed study methodology, please see Caregiving in the U.S. 2015 full report and Appendices A and B. 7 caregivers.7,8 For more information about the prevalence of dementia caregiving, the samples used for this paper, and weighting strategies, please see Detailed Methodology (page 38). Reading This Report All demographic information about caregivers refers to their current situations if currently caregiving, or to when they last provided care if not currently serving as a caregiver (but served in the past 12 months). All figures have been weighted and rounded.'),\n",
       " Document(metadata={'url': 'https://www.caregiving.org/wp-content/uploads/2020/05/Dementia-Caregiving-in-the-US_February-2017.pdf', 'chunk_id': 46, '_id': 'ae2adf93-fc80-4e6d-891e-1ed2a00fdab8', '_collection_name': 'DementiaCare_Fixed'}, page_content='22 The pattern is similar for physical strain: as dementia caregivers report increasing levels of physical strain, they become more likely to report worsening health—such that among those who report high physical strain (5 out of 5), three out of four report caregiving has worsened their health (76 percent). Figure 20: Negative Health Impacts of Caregiving by Physical Strain Percent reporting worse health as a result of caregiving Overall, this suggests that dementia caregivers’ greater likelihood to experience worsening health could be at least partially attributed to the more difficult emotional and physical requirements of their caregiving duties. As emotional stress and physical strain levels rise, negative health impacts increase for both dementia caregivers and non-')]"
      ]
     },
     "execution_count": 45,
     "metadata": {},
     "output_type": "execute_result"
    }
   ],
   "source": [
    "ensemble_retriever_similarity.invoke(\"How does stress impact dementia caregivers?\")\n"
   ]
  },
  {
   "cell_type": "code",
   "execution_count": 46,
   "metadata": {},
   "outputs": [
    {
     "data": {
      "text/plain": [
       "[Document(metadata={'chunk_id': 0, 'title': \"About Dementia | Alzheimer's Disease and Dementia | CDC\", 'url': 'https://www.cdc.gov/alzheimers-dementia/about/index.html', '_id': 'd74baf23-11b5-46f5-b9ea-8c7f36cddeb9', '_collection_name': 'DementiaCare_Semantic'}, page_content=\"about dementia | alzheimer's disease and dementia | cdc     august 17, 2024 about dementia what to know dementia is a condition that makes someone unable to remember, think clearly, or make decisions while doing everyday activities. alzheimer’s disease is the most common type of dementia. learn about the different types of dementia. overview dementia dementia is not a specific disease. it is an overall term that describes a decline in mental ability that interferes with daily life. it affects memory, thinking, and behavior. people with dementia often have symptoms like trouble remembering, thinking, or making everyday decisions. these symptoms tend to get worse over time. there are many types of dementia. alzheimer’s disease is the most common type of dementia. each form of dementia has a different cause. though dementia mostly affects older adults, it is not a part of normal aging . a growing problem an estimated 6.7 million older adults have alzheimer's disease in the united states. that number is expected to double by 2060. [1] projected number of adults with alzheimer's disease by 2060\\u200e by 2060, nearly 14 million adults are projected to have alzheimer's disease in the united states. most common types alzheimer's disease alzheimer's is the most common type of dementia. it accounts for 60% to 80% of cases 1 . cause: many factors play a role in causing alzheimer's, including genetics, behaviors, and habits. 2 symptoms: symptoms include problems with short-term memory, paying bills, preparing meals, remembering appointments, or getting lost in familiar areas. risks: having a close relative (like a parent or sibling) with alzheimer's disease increases a person's chance of developing it.\"),\n",
       " Document(metadata={'title': \"Alzheimer's disease | Alzheimer's Society\", 'url': 'https://www.alzheimers.org.uk/about-dementia/types-dementia/alzheimers-disease', 'chunk_id': 1, '_id': '001df162-8e1d-4bc1-a157-ce2654d40271', '_collection_name': 'DementiaCare_Fixed'}, page_content=\"these make it harder for the brain to work properly. over time the disease causes certain parts to become smaller. it also reduces the amount of important chemicals needed to send messages around the brain. eventually the brain struggles to cope with the damage and the person begins to have problems with memory and thinking. when it gets to the stage where these problems are making it difficult for the person to do everyday tasks that they used to do easily, this is called ‘dementia’ . alzheimer’s disease or dementia? the term 'alzheimer's disease' – or alzheimer’s – can be used to describe the physical disease that damages the brain, as well as the type of dementia that the disease causes. advice what is the difference between dementia and alzheimer’s disease? advice dementia is a condition where problems with memory or other types of thinking make it hard for a person to do everyday activities by themselves. it can be caused by several different diseases that affect the brain. alzheimer’s disease is the most common cause of dementia. dementia is a condition where problems with memory or other types of thinking make it hard for a person to do everyday activities by themselves. it can be caused by several different diseases that affect the brain. alzheimer’s disease is the most common cause of dementia. ... 21 february 2023 getting a diagnosis of alzheimer's disease it is very important for anyone who has worsening problems with their memory or thinking to be assessed by a\"),\n",
       " Document(metadata={'url': 'https://www.alzheimers.org.uk/about-dementia/types-dementia/alzheimers-disease', 'chunk_id': 1, 'title': \"Alzheimer's disease | Alzheimer's Society\", '_id': '67643195-b01e-46d9-8023-40fe1f0bbd07', '_collection_name': 'DementiaCare_Semantic'}, page_content=\"alzheimer’s disease is the most common cause of dementia. you are here: alzheimer's disease symptoms of alzheimer's disease risk factors for alzheimer's disease getting a diagnosis of alzheimer's disease treatment and support of alzheimer's disease alzheimer's disease save this information get a copy order by post symptoms of alzheimer's disease alzheimer’s disease affects everyone differently. however, it has some common early symptoms: memory problems thinking and reasoning difficulties language problems changes to how they see and hear things changes in mood explaining your symptoms to a gp print and complete our symptoms checklist. take it with you when you visit your gp to help describe your symptoms. view our symptoms checklist the symptoms of alzheimer’s disease will get worse over time. as alzheimer's disease progresses , a person will need increasing support with everyday living. what causes alzheimer's disease? the causes of alzheimer’s disease are very complex, but one key part is the build-up of two substances inside the brain called amyloid and tau. when conditions in the brain aren’t right, these clump up and form tiny structures called plaques and tangles. these make it harder for the brain to work properly. over time the disease causes certain parts to become smaller. it also reduces the amount of important chemicals needed to send messages around the brain. eventually the brain struggles to cope with the damage and the person begins to have problems with memory and thinking. when it gets to the stage where these problems are making it difficult for the person to do everyday tasks that they used to do easily, this is called ‘dementia’ . alzheimer’s disease or dementia? the term 'alzheimer's disease' – or alzheimer’s – can be used to describe the physical disease that damages the brain, as well as the type of dementia that the disease causes. advice what is the difference between dementia and alzheimer’s disease? advice dementia is a condition where problems with memory or other types of thinking make it hard for a person to do everyday activities by themselves. it can be caused by several different diseases that affect the brain. alzheimer’s disease is the most common cause of dementia. dementia is a condition where problems with memory or other types of thinking make it hard for a person to do everyday activities by themselves. it can be caused by several different diseases that affect the brain. alzheimer’s disease is the most common cause of dementia.\"),\n",
       " Document(metadata={'title': \"About Dementia | Alzheimer's Disease and Dementia | CDC\", 'url': 'https://www.cdc.gov/alzheimers-dementia/about/index.html', 'chunk_id': 0, '_id': 'd2e28649-0e37-423f-9bb3-a6f5ddd83d5c', '_collection_name': 'DementiaCare_Fixed'}, page_content=\"about dementia | alzheimer's disease and dementia | cdc     august 17, 2024 about dementia what to know dementia is a condition that makes someone unable to remember, think clearly, or make decisions while doing everyday activities. alzheimer’s disease is the most common type of dementia. learn about the different types of dementia. overview dementia dementia is not a specific disease. it is an overall term that describes a decline in mental ability that interferes with daily life. it affects memory, thinking, and behavior. people with dementia often have symptoms like trouble remembering, thinking, or making everyday decisions. these symptoms tend to get worse over time. there are many types of dementia. alzheimer’s disease is the most common type of dementia. each form of dementia has a different cause. though dementia mostly affects older adults, it is not a part of normal aging . a growing problem an estimated 6.7 million older adults have alzheimer's disease in the united states. that number is expected to double by 2060. [1] projected number of adults with alzheimer's disease by 2060\\u200e by 2060, nearly 14 million adults are projected to have alzheimer's disease in the united states. most common types alzheimer's disease alzheimer's is the most common type of dementia. it accounts for 60% to 80% of cases 1 . cause: many factors play a role in causing alzheimer's, including genetics, behaviors, and habits. 2 symptoms: symptoms include problems with short-term memory, paying\"),\n",
       " Document(metadata={'url': 'https://www.alzheimers.org.uk/about-dementia/types-dementia/what-dementia', 'chunk_id': 2, 'title': \"What is dementia? | Alzheimer's Society\", '_id': '21356899-6d48-409e-88e1-14707e1fc2c4', '_collection_name': 'DementiaCare_Semantic'}, page_content='nerve cells carry messages between different parts of the brain, and to other parts of the body. as more nerve cells are damaged, the brain becomes less able to work properly. dementia can be caused by many different diseases. these diseases affect the brain in different ways, resulting in different types of dementia. types of dementia around 19 out of 20 people with dementia have one of four main types. dementia affects everyone differently, however each type has some common early symptoms. a person may also have mixed dementia where they have symptoms of more than one type. alzheimer’s disease alzheimer’s disease is the most common type of dementia. for most people, the first signs of alzheimer’s are problems with their memory, thinking, language or perception. read our information on alzheimer’s disease advice what is the difference between dementia and alzheimer’s disease? advice dementia is a condition where problems with memory or other types of thinking make it hard for a person to do everyday activities by themselves. it can be caused by several different diseases that affect the brain. alzheimer’s disease is the most common cause of dementia. dementia is a condition where problems with memory or other types of thinking make it hard for a person to do everyday activities by themselves. it can be caused by several different diseases that affect the brain. alzheimer’s disease is the most common cause of dementia.'),\n",
       " Document(metadata={'title': \"What is dementia? | Alzheimer's Society\", 'chunk_id': 0, 'url': 'https://www.alzheimers.org.uk/about-dementia/types-dementia/what-dementia', '_id': 'c5973fb3-4a2f-428e-a050-12bcb49398ca', '_collection_name': 'DementiaCare_Fixed'}, page_content=\"what is dementia? | alzheimer's society what is dementia? symptoms, causes and treatments the word 'dementia' describes a set of symptoms that over time can affect memory, problem-solving, language and behaviour. alzheimer's disease is the most common type of dementia. page contents about dementia types of dementia symptoms risk and prevention diagnosis treatments you can also read our information about dementia in accessible formats , including audio, easy read and british sign language. about dementia dementia is a group of symptoms . it’s caused by different diseases that damage the brain. the symptoms get worse over time and include: memory loss confusion and needing help with daily tasks problems with language and understanding changes in behaviour. dementia is progressive , which means symptoms may be relatively mild at first, but they get worse over time. there are many types of dementia but alzheimer’s disease is the most common. the next most common is vascular dementia. what causes dementia? dementia is not a natural part of aging . it is caused when a disease damages nerve cells in the brain. nerve cells carry messages between different parts of the brain, and to other parts of the body. as more nerve cells are damaged, the brain becomes less able to work properly. dementia can be caused by many different diseases. these diseases affect the brain in different ways, resulting in different types of dementia. types of dementia around 19 out of 20 people with dementia\"),\n",
       " Document(metadata={'url': 'https://www.cdc.gov/alzheimers-dementia/php/sdoh/index.html', 'chunk_id': 3, 'title': \"Non-Medical Factors that Affect Alzheimer's Disease and Related Dementias Risk | Alzheimer's Disease and Dementia | CDC\", '_id': '853868ea-caa5-4e7c-af4a-d00001920fae', '_collection_name': 'DementiaCare_Semantic'}, page_content=\"2015;22:39-57. https://doi.org/10.1016/j.arr.2015.04.006 sources national center for chronic disease prevention and health promotion alzheimer's disease and dementia dementia is not a specific disease. it is a general term for having trouble remembering, thinking, or making decisions that affect everyday activities. view all for everyone dementia basics signs and symptoms of dementia reducing risk campaign public health public health strategy tools and resources health equity in alzheimer's and dementia \"),\n",
       " Document(metadata={'chunk_id': 1, 'title': \"What is dementia? | Alzheimer's Society\", 'url': 'https://www.alzheimers.org.uk/about-dementia/types-dementia/what-dementia', '_id': '741988e5-d3d6-47b2-8ad7-a7984fa84acd', '_collection_name': 'DementiaCare_Fixed'}, page_content='diseases affect the brain in different ways, resulting in different types of dementia. types of dementia around 19 out of 20 people with dementia have one of four main types. dementia affects everyone differently, however each type has some common early symptoms. a person may also have mixed dementia where they have symptoms of more than one type. alzheimer’s disease alzheimer’s disease is the most common type of dementia. for most people, the first signs of alzheimer’s are problems with their memory, thinking, language or perception. read our information on alzheimer’s disease advice what is the difference between dementia and alzheimer’s disease? advice dementia is a condition where problems with memory or other types of thinking make it hard for a person to do everyday activities by themselves. it can be caused by several different diseases that affect the brain. alzheimer’s disease is the most common cause of dementia. dementia is a condition where problems with memory or other types of thinking make it hard for a person to do everyday activities by themselves. it can be caused by several different diseases that affect the brain. alzheimer’s disease is the most common cause of dementia. ... 21 february 2023 vascular dementia vascular dementia is the second most common type of dementia. common early signs of vascular dementia include problems with planning or organising, making decisions or solving problems. read our information on vascular dementia dementia with lewy')]"
      ]
     },
     "execution_count": 46,
     "metadata": {},
     "output_type": "execute_result"
    }
   ],
   "source": [
    "ensemble_retriever_similarity.invoke(\"how are dementia and alzheimer's different?\")"
   ]
  },
  {
   "cell_type": "code",
   "execution_count": 21,
   "metadata": {},
   "outputs": [
    {
     "name": "stdout",
     "output_type": "stream",
     "text": [
      "read test questions\n",
      "generating responses\n"
     ]
    },
    {
     "name": "stderr",
     "output_type": "stream",
     "text": [
      "Processing Questions: 100%|██████████| 30/30 [02:15<00:00,  4.50s/it]\n",
      "Evaluating:  58%|█████▊    | 70/120 [00:35<00:19,  2.61it/s]No statements were generated from the answer.\n",
      "Evaluating: 100%|██████████| 120/120 [01:24<00:00,  1.42it/s]\n"
     ]
    },
    {
     "name": "stdout",
     "output_type": "stream",
     "text": [
      "{'faithfulness': 0.9463, 'answer_relevancy': 0.8750, 'context_precision': 0.8963, 'context_recall': 0.9489}\n"
     ]
    }
   ],
   "source": [
    "big_ensemble = EnsembleRetriever(retrievers=[similarity_retriever_semantic,similarity_retriever_fixed, mmr_retriever_fixed, mmr_retriever_semantic])\n",
    "big_ensemble_rag_chain = (\n",
    "    {\"context\": itemgetter(\"query\") | big_ensemble | (lambda docs: docs[:4]), \"query\": itemgetter(\"query\")} \n",
    "    | RunnablePassthrough.assign(context=itemgetter(\"context\"))\n",
    "    | {\"response\": rag_prompt | llm, \"context\": itemgetter(\"context\")}\n",
    ")\n",
    "\n",
    "response_dataset = await gen_rag_responses(big_ensemble_rag_chain)\n",
    "results = evaluate(response_dataset, \n",
    "                   RAGAS_METRICS)\n",
    "\n",
    "# Check out the results\n",
    "print(results)\n",
    "results_df = pd.DataFrame([results])"
   ]
  },
  {
   "cell_type": "markdown",
   "metadata": {},
   "source": [
    "- Fixed-size similarity retriever: {'faithfulness': *0.9507*, 'answer_relevancy': 0.7835, 'context_precision': 0.8676, 'context_recall': 0.9200}\n",
    "- Fixed-size MMR retriever: {'faithfulness': 0.9091, 'answer_relevancy': **0.9486**, 'context_precision': 0.8074, 'context_recall': 0.8522}\n",
    "- Fixed-size ensemble retriever: {'faithfulness': **0.9586**, 'answer_relevancy': 0.8842, 'context_precision': 0.8537, 'context_recall': 0.9133}\n",
    "\n",
    "- Semantic chunking similarity retriever:  {'faithfulness': 0.9521, 'answer_relevancy': 0.8805, 'context_precision': 0.8713, 'context_recall': 0.9272}\n",
    "- Semantic chunking ensemble retriever: {'faithfulness': 0.9345, 'answer_relevancy': 0.8475, 'context_precision': 0.8333, 'context_recall': 0.8983}\n",
    "- Semantic chunking MMR retriever: {'faithfulness': 0.9500, 'answer_relevancy': 0.8781, 'context_precision': 0.8185, 'context_recall': 0.8211}\n",
    "\n",
    "- Semantic and fixed size similarity ensemble:  {'faithfulness': 0.9335, 'answer_relevancy': *0.9111*, 'context_precision': *0.8833*, 'context_recall': **0.9500**}\n",
    "- \"All 4\" ensemble: {'faithfulness': 0.9463, 'answer_relevancy': 0.8750, 'context_precision': **0.8963**, 'context_recall': *0.9489*}\n"
   ]
  }
 ],
 "metadata": {
  "kernelspec": {
   "display_name": "synthetic-data-env",
   "language": "python",
   "name": "python3"
  },
  "language_info": {
   "codemirror_mode": {
    "name": "ipython",
    "version": 3
   },
   "file_extension": ".py",
   "mimetype": "text/x-python",
   "name": "python",
   "nbconvert_exporter": "python",
   "pygments_lexer": "ipython3",
   "version": "3.9.12"
  }
 },
 "nbformat": 4,
 "nbformat_minor": 2
}
