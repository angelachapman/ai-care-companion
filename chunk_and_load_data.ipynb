{
 "cells": [
  {
   "cell_type": "markdown",
   "metadata": {},
   "source": [
    "Import environment variables"
   ]
  },
  {
   "cell_type": "code",
   "execution_count": 1,
   "metadata": {},
   "outputs": [],
   "source": [
    "from dotenv import load_dotenv\n",
    "import os\n",
    "\n",
    "load_dotenv('.env')\n",
    "\n",
    "OPENAI_API_KEY = os.getenv(\"OPENAI_API_KEY\")\n",
    "ANTHROPIC_API_KEY = os.getenv(\"ANTHROPIC_API_KEY\")"
   ]
  },
  {
   "cell_type": "markdown",
   "metadata": {},
   "source": [
    "Load our document corpus from a file. (fetch_data.ipynb can be used to generate the file)"
   ]
  },
  {
   "cell_type": "code",
   "execution_count": 2,
   "metadata": {},
   "outputs": [
    {
     "name": "stdout",
     "output_type": "stream",
     "text": [
      "loaded 489 docs\n"
     ]
    }
   ],
   "source": [
    "myfile = \"source_documents.json\"\n",
    "\n",
    "import json\n",
    "from langchain.schema import Document\n",
    "\n",
    "# Load JSON data\n",
    "with open(myfile, 'r') as file:\n",
    "    data = json.load(file)\n",
    "\n",
    "# Convert JSON data into a list of LangChain Document objects\n",
    "docs = [\n",
    "    Document(page_content=item[\"page_content\"], metadata=item[\"metadata\"])\n",
    "    for item in data\n",
    "]\n",
    "\n",
    "print(f\"loaded {len(docs)} docs\")"
   ]
  },
  {
   "cell_type": "markdown",
   "metadata": {},
   "source": [
    "Split the documents into reasonably sized chunks that work for most embedding models"
   ]
  },
  {
   "cell_type": "code",
   "execution_count": 12,
   "metadata": {},
   "outputs": [
    {
     "name": "stdout",
     "output_type": "stream",
     "text": [
      "len(docs): 489, len(split_docs):2756\n",
      "page_content='alzheimer's disease and dementia | alzheimer's disease and dementia | cdc     alzheimer's disease and dementia alzheimer's basics learn about signs and symptoms of alzheimer's disease and who is affected. aug. 15, 2024 dementia basics learn about common types of dementia, signs and symptoms, and risk factors. aug. 17, 2024 signs and symptoms of alzheimer's learn how to recognize the early signs of alzheimer's disease. signs and symptoms of dementia learn what early signs and symptoms of dementia to look out for. tools and resources find a variety of resources about alzheimer’s disease and healthy aging. reducing risk learn what lifestyle behaviors can reduce the risk of developing dementia. additional topics healthy aging at any age information to help you stay healthy and strong throughout your life. sept. 3, 2024 alzheimer's disease program evidence-based, scientific information to educate, inform, and assist translating research into publ... july 2, 2024 caregiving find information about caregiving, self-care, and care plan creation. sept. 3, 2024 healthy aging data national and state level cdc data for older adults on a range of health and well-being key indicators. aug. 27, 2024 alzheimer's disease and dementia dementia is not a specific disease. it is a general term for having trouble remembering, thinking, or making decisions that affect everyday activities. view all for everyone dementia basics signs and symptoms of dementia reducing risk campaign public health public' metadata={'url': 'https://www.cdc.gov/alzheimers-dementia', 'title': \"Alzheimer's Disease and Dementia | Alzheimer's Disease and Dementia | CDC\", 'chunk_id': 0}\n"
     ]
    }
   ],
   "source": [
    "from langchain.text_splitter import RecursiveCharacterTextSplitter\n",
    "text_splitter = RecursiveCharacterTextSplitter(\n",
    "    chunk_size=1500,       \n",
    "    chunk_overlap=150,     \n",
    ")\n",
    "split_docs = []\n",
    "for doc in docs:\n",
    "    splits = text_splitter.split_text(doc.page_content)\n",
    "    for i,split in enumerate(splits):\n",
    "        metadata_with_chunk = {**doc.metadata, \"chunk_id\": i}\n",
    "        \n",
    "        # Create the document with the updated metadata\n",
    "        split_doc = Document(page_content=split, metadata=metadata_with_chunk)\n",
    "        split_docs.append(split_doc)\n",
    "\n",
    "print(f\"len(docs): {len(docs)}, len(split_docs):{len(split_docs)}\")\n",
    "print(split_docs[0])"
   ]
  },
  {
   "cell_type": "markdown",
   "metadata": {},
   "source": [
    "Set up embeddings - we'll use OpenAI's text-embedding-3-large"
   ]
  },
  {
   "cell_type": "code",
   "execution_count": 5,
   "metadata": {},
   "outputs": [],
   "source": [
    "from langchain_openai import OpenAIEmbeddings\n",
    "embedding_model = \"text-embedding-3-large\"\n",
    "openai_embeddings = OpenAIEmbeddings(\n",
    "    model=embedding_model,\n",
    "    openai_api_key=OPENAI_API_KEY  \n",
    ")\n"
   ]
  },
  {
   "cell_type": "markdown",
   "metadata": {},
   "source": [
    "Let's add the docs to a vector store. Make sure qdrant is running first (see README.md for more details). We can create it once and re-use it after that."
   ]
  },
  {
   "cell_type": "code",
   "execution_count": 13,
   "metadata": {},
   "outputs": [],
   "source": [
    "from langchain_qdrant import QdrantVectorStore\n",
    "url=\"http://localhost:6333\"\n",
    "collection_name = \"AlzheimersCare\"\n",
    "\n",
    "qdrant_vector_store = QdrantVectorStore.from_documents(\n",
    "    split_docs,\n",
    "    openai_embeddings,\n",
    "    url=url,\n",
    "    prefer_grpc=True,\n",
    "    collection_name=collection_name,\n",
    ")"
   ]
  },
  {
   "cell_type": "markdown",
   "metadata": {},
   "source": [
    "Make sure we can load the vectorstore too"
   ]
  },
  {
   "cell_type": "code",
   "execution_count": 14,
   "metadata": {},
   "outputs": [],
   "source": [
    "# make sure we can load it\n",
    "store = QdrantVectorStore.from_existing_collection(\n",
    "    embedding=openai_embeddings,\n",
    "    collection_name=collection_name,\n",
    "    url=url\n",
    ")"
   ]
  },
  {
   "cell_type": "markdown",
   "metadata": {},
   "source": [
    "Test it out by itself"
   ]
  },
  {
   "cell_type": "code",
   "execution_count": 15,
   "metadata": {},
   "outputs": [
    {
     "data": {
      "text/plain": [
       "[Document(metadata={'chunk_id': 2, 'url': 'https://www.webmd.com/alzheimers/signficant-other-has-alzheimers', 'title': 'When Your Partner Has Alzheimer’s ', '_id': 'daa5f3cb-2f44-4b3c-8fda-1465d2d1c80f', '_collection_name': 'AlzheimersCare'}, page_content='strain may develop from the amount of time your loved one needs, as that can impact your ability to work and earn a living. things like lost wages, or loss of social security or pension benefits, can leave caregivers struggling to make ends meet. your risk for mental health issues also goes up. research shows that alzheimer’s caregivers are more likely than other caregivers to have depression, anxiety, and a poorer quality of life. among the physical health problems you’re at greater risk of having are high blood pressure, high blood sugar, weight gain or loss, and sleep disorders. some research suggests you’re also at greater risk for developing cognitive decline and alzheimer’s yourself. caregivers at most risk for reaching stress levels that impact their well-being are: caring for a person with alzheimer’s for many hours each day living with the person for whom they’re the caregiver women older socially isolated having financial problems clinically depressed at a low education level not equipped with coping skills without many options such as help from their family or friends self-care is key while you’re at increased risk for health-related problems as an alzheimer’s caregiver, there are some things you can do to help prevent them and boost your well-being. those include following a healthy diet, getting daily exercise, practicing gratitude, getting enough sleep, and staying connected to others. experts say it’s also important to set limits on what you can do, take'),\n",
       " Document(metadata={'chunk_id': 3, 'url': 'https://www.cdc.gov/alzheimers-dementia/php/resource-center/index.html', 'title': \"Alzheimer's, Dementia and Healthy Aging Resources | Alzheimer's Disease and Dementia | CDC\", '_id': 'c450046b-abe4-4d67-a183-ae06bec57556', '_collection_name': 'AlzheimersCare'}, page_content='while caring for others. dr. lisa mcguire discusses her own coping strategies while caring for her mother and shares other strategies to help ensure caregivers feel supported. baby boomers who are caregivers report being in poor health (running time 5 min 43 seconds) caregivers who are part of the baby boomer generation reported having more chronic disease, more disability, and lower self-rated health compared to non-caregivers-putting them at risk of needing care themselves. what about the caregivers? (running time 4 min 56 seconds) although caregiving has many benefits, it’s important to recognize that caregivers may be compromising their own health. twenty one percent of unpaid caregivers say they are in fair or poor health, according to a large, long term study of more than 252,000 adults. protecting the health of family caregivers (running time 4 min 27 seconds) this podcast for public health professionals discusses the role of family caregivers and the importance of protecting their health. caregiving in indian country (running time 5 min 9 seconds) this podcast for public health professionals discusses the role of caregivers for american indian and alaska native peoples and the importance of protecting their health as caregivers. podcasts de audio en español cuerpo sano, cerebro sano —healthy body, healthy brain la salud del celebro y la salud física son especialmente importantes a medida que envejecemos. ¿sabía que algunas personas con afecciones crónicas están en'),\n",
       " Document(metadata={'url': 'https://www.webmd.com/alzheimers/dementia-amyotrophic-lateral-sclerosis', 'chunk_id': 9, 'title': 'Dementia in Amyotrophic Lateral Sclerosis (Lou Gehrig Disease)', '_id': 'b7623a66-ca05-4d19-a0bb-831bc9aa1daa', '_collection_name': 'AlzheimersCare'}, page_content='and anxious. depression is not uncommon. different caregivers have different threshholds for tolerating these challenges. for many caregivers, just \"venting\" or talking about the frustrations of caregiving can be very helpful. others need more help, but may feel uneasy about asking for it. one thing is certain, though: if the caregiver is given no relief, he or she can burn out, develop his or her own mental and physical problems, and become unable to continue as a caregiver. this is why support groups were invented. support groups are groups of people who have lived through the same difficult experiences and want to help themselves and others by sharing coping strategies. mental health professionals strongly recommend taking part in support groups for families affected by serious disease. support groups serve a number of different purposes for a person living with the extreme stress of being a caregiver for a person with a motor neuron disease and dementia: the group allows the person to express his or her true feelings in an accepting, non-judgmental atmosphere. the group\\'s shared experiences allow the caregiver to feel less alone and isolated. the group can offer fresh ideas for coping with specific problems. the group can introduce the caregiver to resources that may be able to provide some relief. the group can give the caregiver the strength he or she needs to ask for help. support groups meet in person, on the telephone, or on the internet. to find a support group'),\n",
       " Document(metadata={'chunk_id': 2, 'url': 'https://www.webmd.com/alzheimers/features/caregiver-grief-triggers-mixed-emotions', 'title': 'Caregiver Grief Triggers Mixed Emotions', '_id': 'fe9a77ce-21b8-4ea4-8dce-d0356ea9a73b', '_collection_name': 'AlzheimersCare'}, page_content='webmd. \"they think it should be downhill after that, but it\\'s not as easy as that. these people typically have been caregivers for about 10 years -- that has been their identity and mission -- and it can be very difficult for them to regain their life. \"i just read a book about a woman whose husband had als. after he died, she became suicidal because her main reason for living was to care for him. when he died, she had a gaping hole she had to fill. just because someone feels relief doesn\\'t mean they also don\\'t feel huge amounts of grief, loneliness, and abandonment.\" how to cope so how can caregivers better work through the barrage of emotions that occur during an after a loved one\\'s illness? be more than a caregiver. \"for many people, the role of caregiver is all-consuming,\" says doka. \"so when it ends, life can feel as though it\\'s lost its meaning and purpose.\" that\\'s why it\\'s important for caregivers to set up regular \"me\" time, says prigerson. \"you need to make sure you\\'re not socially isolated, and your days prior to the death consist of just more than just caregiving. we found that one of the great aspects of caregiving burden that leads to depression isn\\'t from the hours spent giving care, but that the caregiver feels deprived of their own time. you really need to take time for yourself, whether it\\'s going for walk or enjoying a nice dinner out sometime.\" nurture a network ... many caregivers feel it\\'s their responsibility to offer care and hesitate to seek help'),\n",
       " Document(metadata={'chunk_id': 2, 'title': 'Caregiver Guilt: How to Overcome It and Build a Network to Help', 'url': 'https://www.webmd.com/alzheimers/features/overcoming-guilt', '_id': '56e9790a-66b0-4191-9d73-99ddee701469', '_collection_name': 'AlzheimersCare'}, page_content='negatively toward caregiving vs. feeling negatively toward the person you\\'re doing the caregiving for,\" jacobs says. \"i\\'m allowed to hate the act but still feel ok about the commitment i made.\" and try to remember that you\\'re being a huge help -- but that help should be balanced. you’ll feel much better if you also pay attention to your family, social life, and other activities. internist cathy alessi, md, president of the american geriatrics society, says when caregivers come in with her patients, she lets them know what an impact they\\'ve had. \"i make sure to tell them what a difference i\\'ve seen since they\\'ve been helping the person they\\'ve been caring for,\" she says. \"the situation doesn\\'t have to be perfect, and it\\'s probably much better with their help and assistance.\" she suggests finding caregiver support groups, online information, or therapists. \"caregivers tell me it\\'s helpful to talk with someone else who is going through a similar experience. it\\'s helpful to get tips, and the group can come up with ideas you may not think of yourself.\" recommended top doctors in , find more top doctors on search related links alzheimer\\'s disease home alzheimer\\'s disease news alzheimer\\'s disease reference alzheimer\\'s disease slideshows alzheimer\\'s disease quizzes alzheimer\\'s disease videos alzheimer\\'s overview alzheimer\\'s symptoms alzheimer\\'s causes alzheimer\\'s diagnosis alzheimer\\'s treatment alzheimer\\'s complications alzheimer\\'s prevention find a neurologist alzheimer\\'s disease')]"
      ]
     },
     "execution_count": 15,
     "metadata": {},
     "output_type": "execute_result"
    }
   ],
   "source": [
    "retriever = store.as_retriever(\n",
    "    search_type=\"mmr\",  # Options: 'similarity', 'mmr', etc.\n",
    "    search_kwargs={\"k\": 5}     # Number of documents to retrieve\n",
    ")\n",
    "retriever.invoke(\"How does stress impact caregivers?\")"
   ]
  },
  {
   "cell_type": "markdown",
   "metadata": {},
   "source": [
    "Test it out in a simple RAG chain: Create a prompt, initialize an LLM, and then use the retriever in a chain"
   ]
  },
  {
   "cell_type": "code",
   "execution_count": 16,
   "metadata": {},
   "outputs": [],
   "source": [
    "from langchain_core.prompts import PromptTemplate\n",
    "\n",
    "RAG_PROMPT_TEMPLATE = \"\"\"\n",
    "You are an empathetic, kind assistant that specializes in helping informal caregivers of dementia and Alzheimer's patients\n",
    "navigate the stresses and questions of everyday life. Answer the question based on the context. If the answer is not\n",
    "in the context, say you don't know. Be concise and conversational, and answer in language that a high school \n",
    "graduate with no specialized training can understand.\n",
    "\n",
    "<context>\n",
    "{context}\n",
    "</context>\n",
    "\n",
    "<question>\n",
    "{query}\n",
    "<question>\n",
    "\"\"\"\n",
    "\n",
    "rag_prompt = PromptTemplate.from_template(RAG_PROMPT_TEMPLATE)"
   ]
  },
  {
   "cell_type": "code",
   "execution_count": 40,
   "metadata": {},
   "outputs": [],
   "source": [
    "from langchain_anthropic import ChatAnthropic\n",
    "\n",
    "haiku_model_id = \"claude-3-haiku-20240307\" # cheaper and better to use for prototyping, although we'll use 3.5 in our app\n",
    "claude_3_5_sonnet_model_id = \"claude-3-5-sonnet-20240620\"\n",
    "\n",
    "llm = ChatAnthropic(\n",
    "    model=haiku_model_id,    \n",
    "    anthropic_api_key=ANTHROPIC_API_KEY\n",
    ")"
   ]
  },
  {
   "cell_type": "code",
   "execution_count": 64,
   "metadata": {},
   "outputs": [],
   "source": [
    "from operator import itemgetter\n",
    "from langchain_core.runnables import RunnablePassthrough\n",
    "\n",
    "# prototype a simple function to tack on sources at the end\n",
    "def add_sources(context:list[Document])->str:\n",
    "    sources_str = \"\"\n",
    "    if len(context)>0:\n",
    "        sources_str = \"Sources: \"\n",
    "        for i,doc in enumerate(context):\n",
    "            sources_str += f'[<a href=\"{doc.metadata[\"url\"]}\">{i + 1}</a>] '\n",
    "    return sources_str\n",
    "\n",
    "# standard RAG that passes the context through\n",
    "rag_chain = (\n",
    "    {\"context\": itemgetter(\"query\") | retriever, \"query\": itemgetter(\"query\")} \n",
    "    | RunnablePassthrough.assign(context=itemgetter(\"context\"))\n",
    "    | {\"response\": rag_prompt | llm, \"context\": itemgetter(\"context\")}\n",
    ")"
   ]
  },
  {
   "cell_type": "code",
   "execution_count": 67,
   "metadata": {},
   "outputs": [],
   "source": [
    "answer = await rag_chain.ainvoke(input={'query':\"How can caregivers manage everyday stressors?\"})\n"
   ]
  },
  {
   "cell_type": "code",
   "execution_count": 69,
   "metadata": {},
   "outputs": [
    {
     "name": "stdout",
     "output_type": "stream",
     "text": [
      "==================================\u001b[1m Ai Message \u001b[0m==================================\n",
      "\n",
      "Based on the context provided, here are some ways caregivers can manage everyday stressors:\n",
      "\n",
      "1. Stay physically active and take care of your own health. The context mentions the importance of staying fit, taking walks, and doing at-home exercise programs to maintain physical and mental health.\n",
      "\n",
      "2. Take breaks and get away for a while. The context suggests planning time to go out with friends, go shopping, or watch a movie to get a break from the demands of caregiving.\n",
      "\n",
      "3. Create a sanctuary or private space in your home to take a few minutes each day to get away from the stress.\n",
      "\n",
      "4. Seek emotional support from family, friends, support groups, or a therapist. The context emphasizes the importance of not ignoring your own feelings of grief and stress.\n",
      "\n",
      "5. Delegate tasks and responsibilities to your support network. The context suggests assigning different roles to different people in your network, such as listeners, doers, or relaxers.\n",
      "\n",
      "6. Don't be afraid to ask for and accept help with household chores and other tasks. This can prevent emotional and physical burnout.\n",
      "\n",
      "The key is finding ways to take care of yourself while also caring for your loved one with dementia or Alzheimer's. Let me know if you need any clarification or have additional questions!\n",
      "context:[Document(metadata={'title': \"Caring for Parents with Alzheimer's or Dementia\", 'url': 'https://www.webmd.com/alzheimers/features/alzheimers-caregivers-sandwiched-between-parenting-your-kids-and-your-parents', 'chunk_id': 7, '_id': '23d49b99-73ff-4ad2-abb1-0f68ec35fd3c', '_collection_name': 'AlzheimersCare'}, page_content='happen? if things seem bad now, just imagine how bad they’d be if you were out of commission in the hospital. who could take care of your family then? think of the benefits. getting other people to help out doesn’t only help you. “if the person with alzheimer’s is going to the day center, or spending time with someone else, it gives them a chance to engage with other people,” says kallmyer. “that’s really important.” so what are some ways of coping with stress when you’re an alzheimer’s caregiver? stay fit. it’s not easy when you’re stressed, but try to eat with moderation. activity is key for physical and mental health. if you have the time, take a hike or a yoga class. if you can’t, just squeeze in 20 minute walks or an at-home exercise program. get away. spontaneous get-togethers with friends are great, but they may be hard to pull off. so, plan. get someone to watch the kids and your loved one while you go out for lunch, a shopping trip, or a night at the movies. create a sanctuary. eakin suggests that you set aside a room in your house -- or some part of a room -- as a place to get away from the demands of your life for a few minutes every day. get emotional support. on top of your caregiving chores, you may also feel terrible grief as you watch a loved one slip away from you. don’t ignore those feelings. talk to family and friends. call a hotline or schedule an appointment with a therapist. look into local support groups for caregivers. of course, getting time for'), Document(metadata={'chunk_id': 2, 'url': 'https://www.alzheimers.org.uk/about-dementia/symptoms-and-diagnosis/symptoms/managing-behaviour-changes', 'title': \"Reducing and managing behaviour that challenges | Alzheimer's Society\", '_id': '68028cc9-8923-4d79-8e46-d4daa4bb5f16', '_collection_name': 'AlzheimersCare'}, page_content='for example, if they believe they need to go and collect their children from school, don’t tell them they’re wrong. instead ask them to tell you more about their children, or move their focus onto an activity. managing wellbeing always think about what you know about the person and what works best for them. the person is likely to respond to your behaviour and communication, so if you’re frustrated or angry it may make things worse. for example, if they are repeating questions, try to be patient and sensitive towards them. they may not know that they have repeated themselves and may notice if you seem impatient, which might distress them. if the person behaves rudely, don’t attempt to argue or correct the behaviour. offer them gentle reassurance, or try to distract their attention. other tips for managing the person’s wellbeing include: spend time with the person. this could be having a cup of tea and a chat with them. you could do an activity like playing a game or preparing food together, or keep close to them when you have tasks to carry out. for example, you could be ironing while the person listens to the radio. being with the person can help them feel reassured and comforted. if you’re unable to meet, then phone or video calls can be a good way to spend time with the person too. think about how the person has coped with situations in the past. this may affect how they deal with things now. for example, a person who has always been anxious may become more anxious about'), Document(metadata={'title': 'Caregiver Grief Triggers Mixed Emotions', 'url': 'https://www.webmd.com/alzheimers/features/caregiver-grief-triggers-mixed-emotions', 'chunk_id': 3, '_id': 'ba61e718-c6b5-4959-91ea-030f453dc66e', '_collection_name': 'AlzheimersCare'}, page_content='or enjoying a nice dinner out sometime.\" nurture a network ... many caregivers feel it\\'s their responsibility to offer care and hesitate to seek help elsewhere. bad move. \"what i do on a clinical basis is have caregivers write down the names of all the people that could be in their network,\" says doka. \"not just family members, but also friends, neighbors, or if they\\'re involved in a faith community, consider members of their church, who can be a strong part of your network.\" ... and assign tasks. understand that different people can perform different roles, he adds. \"some people are more prone to be good listeners, others are doers, while others are good for helping you with rest and relaxation. even when caregivers have a big network of support, a common problem is that they don\\'t use it well. i suggest on your list you assign tasks to different people: some are ls (listeners), ds (doers) or rs (relaxers).\" get help with housework. \"you would think that emotional dependency is the biggest predictor of a caregiver\\'s complicated grief,\" says prigerson, \"but studies indicate that when a caregiver has been dependent on their ailing spouse for household chores, that can have an even bigger impact.\" in other words, try to get help with routine chores such as laundry, cleaning, and shopping. mind your own health. since they are preoccupied with a loved one\\'s illness, caregivers often turn a blind eye to their own health. \"the risk of hospitalization of a caregiver is greatest in'), Document(metadata={'title': 'Alzheimer’s: Your Loved One’s Daily Routine', 'url': 'https://www.webmd.com/alzheimers/cm/daily-care-routine-alzheimers', 'chunk_id': 1, '_id': '8d9b1bf9-704e-4465-b429-63729fe16f51', '_collection_name': 'AlzheimersCare'}, page_content='be frustrated by their situation and have trouble accepting help. caregiving can also be frustrating and emotionally charged. you’re both navigating a changing relationship and different boundaries. you can make day-to-day living easier with some adjustments. keep these ideas in mind: routine. sticking to the same daily schedule can help the person you’re caring for feel secure, and it keeps you from having to get organized every day. it should be similar to the way they’ve always spent their days. consider posting it so they can refer to it and know what to expect. timing. certain activities may go more smoothly if you do them at a particular time of day. for example, if your loved one is at their best first thing in the morning, do more challenging tasks then. expect things to take longer than they used to and account for that in your schedule. rushing can cause stress and agitation . independence . try to let your loved one do as much as they can for as long as they can. it’s more important that they do something on their own than that the results be perfect. to the extent that they’re able, have them make choices about how their days should go. respect. understand that your loved one may be embarrassed about needing help with their personal care. respect their privacy and personal space. ask permission when you touch them. be gentle and tell them what you’re doing, step by step. simplicity. someone with alzheimer’s will have an increasingly hard time following'), Document(metadata={'title': 'Cognitive Problems and Brain Disorders: Caregiving 101', 'chunk_id': 5, 'url': 'https://www.webmd.com/alzheimers/cognitive-problems-caregivers-guide', '_id': '93bb30cc-cf43-4bc9-b50a-85bd4d95a65e', '_collection_name': 'AlzheimersCare'}, page_content=\"just going out with a friend for a walk or a bite to eat could give your mood a big boost. forgive yourself. no matter how good and compassionate a caregiver you are, things won’t go smoothly all the time. you’re going to get angry and frustrated with your loved one. you’ll make mistakes and feel guilty. it’s inevitable, so when it happens, don’t beat yourself up. if you’re feeling down, remember that caregiving is always a tough and messy business. your loved one may not be able to tell you, but you’re a good and courageous person for taking it on. recommended top doctors in , find more top doctors on search related links brain & nervous system news & features brain & nervous system reference brain & nervous system slideshows brain & nervous system quizzes brain & nervous system videos find a neurologist living better with ms adhd alzheimer's disease autism concussion creutzfeldt-jakob disease epilepsy guillain-barré syndrome lou gehrig’s disease (als) multiple sclerosis parkinson's disease restless legs syndrome spinal muscular atrophy stroke more related topics\")]\n",
      "Sources: [<a href=\"https://www.webmd.com/alzheimers/features/alzheimers-caregivers-sandwiched-between-parenting-your-kids-and-your-parents\">1</a>] [<a href=\"https://www.alzheimers.org.uk/about-dementia/symptoms-and-diagnosis/symptoms/managing-behaviour-changes\">2</a>] [<a href=\"https://www.webmd.com/alzheimers/features/caregiver-grief-triggers-mixed-emotions\">3</a>] [<a href=\"https://www.webmd.com/alzheimers/cm/daily-care-routine-alzheimers\">4</a>] [<a href=\"https://www.webmd.com/alzheimers/cognitive-problems-caregivers-guide\">5</a>] \n"
     ]
    }
   ],
   "source": [
    "answer[\"response\"].pretty_print()\n",
    "print(add_sources(answer[\"context\"]))\n"
   ]
  }
 ],
 "metadata": {
  "kernelspec": {
   "display_name": "care-companion-env",
   "language": "python",
   "name": "python3"
  },
  "language_info": {
   "codemirror_mode": {
    "name": "ipython",
    "version": 3
   },
   "file_extension": ".py",
   "mimetype": "text/x-python",
   "name": "python",
   "nbconvert_exporter": "python",
   "pygments_lexer": "ipython3",
   "version": "3.9.12"
  }
 },
 "nbformat": 4,
 "nbformat_minor": 2
}
